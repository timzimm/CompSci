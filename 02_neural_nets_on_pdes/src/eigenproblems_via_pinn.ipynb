{
 "cells": [
  {
   "cell_type": "code",
   "execution_count": 4,
   "id": "015b173d-b529-484c-9b25-2774211cbeca",
   "metadata": {},
   "outputs": [],
   "source": [
    "import torch\n",
    "from torch import nn\n",
    "import matplotlib.pyplot as plt\n",
    "import numpy as np\n",
    "from scipy.stats.qmc import LatinHypercube"
   ]
  },
  {
   "cell_type": "code",
   "execution_count": 5,
   "id": "a20f6c06-256d-4802-8132-ed39df175dd2",
   "metadata": {},
   "outputs": [
    {
     "name": "stdout",
     "output_type": "stream",
     "text": [
      "The autoreload extension is already loaded. To reload it, use:\n",
      "  %reload_ext autoreload\n"
     ]
    }
   ],
   "source": [
    "# Own implementations\n",
    "%load_ext autoreload\n",
    "%autoreload 2\n",
    "from pinn import *"
   ]
  },
  {
   "cell_type": "code",
   "execution_count": 6,
   "id": "64e18f13-16e3-450e-9382-e36a67d06e70",
   "metadata": {},
   "outputs": [],
   "source": [
    "# Double-precision by default\n",
    "torch.set_default_dtype(torch.float64)"
   ]
  },
  {
   "cell_type": "code",
   "execution_count": 7,
   "id": "f1830e22-3af1-4b75-b7b3-ab2d5a32a35c",
   "metadata": {},
   "outputs": [],
   "source": [
    "def rejection_sampling(pdf, n=1000, xmin=0, xmax=.98):\n",
    "    x=torch.linspace(xmin,xmax,1000)  \n",
    "    y=pdf(x)  \n",
    "    pmin=0.  \n",
    "    pmax=y.max()  \n",
    "   \n",
    "    naccept=0  \n",
    "   \n",
    "    ran=[] # output list of random numbers  \n",
    "    while naccept<n:  \n",
    "        x = (xmax - xmin) * torch.rand(1) + xmin  \n",
    "        y = (pmax - pmin) * torch.rand(1) + pmin   \n",
    "        \n",
    "        if y<pdf(x):  \n",
    "            ran.append(x)  \n",
    "            naccept=naccept+1  \n",
    "    \n",
    "    return np.asarray(ran)  \n",
    "\n",
    "def generate_random_symmetric_matrix(dim):\n",
    "    M_random = torch.rand((dim,dim)) - 0.5\n",
    "    return 0.5 * (M_random.T + M_random)\n",
    "\n",
    "def eigenvalue_of_eigenvector(x):\n",
    "    return ((x @ A @ x.T) / (x @ x.T)).item()"
   ]
  },
  {
   "cell_type": "code",
   "execution_count": 8,
   "id": "72f11055-f255-48a5-8f70-d1abd2910ae5",
   "metadata": {},
   "outputs": [],
   "source": [
    "## ODE specification"
   ]
  },
  {
   "cell_type": "code",
   "execution_count": 9,
   "id": "ceb1ddef-e0c0-41cd-b658-9e48cb7fbc4c",
   "metadata": {},
   "outputs": [
    {
     "name": "stdout",
     "output_type": "stream",
     "text": [
      "A = tensor([[ 0.2500,  0.5000,  0.7500,  1.0000,  1.2500],\n",
      "        [ 0.5000, -0.2500, -0.5000, -0.7500, -1.0000],\n",
      "        [ 0.7500, -0.5000,  0.2500,  0.2500,  0.2500],\n",
      "        [ 1.0000, -0.7500,  0.2500,  0.0000,  0.0000],\n",
      "        [ 1.2500, -1.0000,  0.2500,  0.0000,  0.0000]])\n"
     ]
    }
   ],
   "source": [
    "# Eigenvalue Problem\n",
    "#A = generate_random_symmetric_matrix(dim)\n",
    "A = torch.tensor(1/4 * np.array([[1,2,3,4,5],[2,-1,-2,-3,-4],[3,-2,1,1,1],[4,-3,1,0,0],[5,-4,1,0,0]]))\n",
    "dim = A.shape[-1]\n",
    "print(f\"A = {A}\")\n",
    "\n",
    "def f(y):\n",
    "    first_term = (y[:,None,:] @ (y[:,None,:] @ y[:,:,None] * A)).squeeze()\n",
    "    second_term = (y[:,None,:] @ A @ y[:,:,None] @ y[:,None,:]).squeeze()\n",
    "    return first_term - second_term\n",
    "\n",
    "# Coordinate Transformations to bring to infinite time domain t \\in [0,inf) to tau \\in [0,1)\n",
    "def dtau_dt_inv_tan(tau):\n",
    "    \"\"\"\n",
    "    Assuming t = tan(pi/2 * tau) this is (dtau/dt)^(-1)\n",
    "    \"\"\"\n",
    "    return torch.pi/(2 * torch.cos(torch.pi/2 * tau)**2)\n",
    "\n",
    "def dtau_dt_inv_arctanh(tau):\n",
    "    \"\"\"\n",
    "    Assuming t = arctanh(tau) this is (dtau/dt)^(-1)\n",
    "    \"\"\"\n",
    "    return 1.0/(1.0 - tau**2)\n",
    "\n",
    "# Random intial vector as initial condition. Function attributes used to fix the random vector across calls\n",
    "def ic(y, tau):\n",
    "    return y - ic.y0, torch.zeros_like(y)\n",
    "ic.y0 = torch.rand(dim).reshape(1,-1)\n",
    "ic.y0 /= torch.sqrt(ic.y0 @ ic.y0.T).item()\n",
    "\n",
    "# We can interpret the conservation property of the ODE as boundary condition. Note that we compare against a scalar property \n",
    "# (the norm) and not a vector. Hence the difference in the second return argument compared to ic() or eigenvector_ode()\n",
    "def norm_conservation(y, tau):\n",
    "    return (y[:,None,:] @ y[:,:,None]).squeeze(-1), torch.ones_like(tau)\n",
    "\n",
    "def eigenvector_ode(y, tau):    \n",
    "    dtau_dt_inv = dtau_dt_inv_tan(tau)\n",
    "    y_tau = derivative(y, tau)\n",
    "    return y_tau - dtau_dt_inv * f(y), torch.zeros_like(y)\n",
    "eigenvector_ode.domain_dim=1\n",
    "eigenvector_ode.target_dim=dim\n",
    "    \n",
    "def temporal_sample(N_t, kind=\"lhs\", function=dtau_dt_inv_tan):\n",
    "    if kind == \"lhs\":\n",
    "        sampler = lambda N: torch.from_numpy(LatinHypercube(1).random(n = N))\n",
    "    elif kind == \"uniform\":\n",
    "        sampler = lambda N: torch.from_numpy(np.linspace(0.01, .99, N).reshape(-1,1))\n",
    "    elif kind == \"rejection\":\n",
    "        sampler = lambda N: rejection_sampling(function, n=N, xmin=0.01, xmax=0.99).reshape(-1,1)\n",
    "    \n",
    "    #Interior points\n",
    "    samples_t = sampler(N_t)\n",
    "    \n",
    "    # Initial condition\n",
    "    samples_t_ic = torch.tensor([0.]).reshape(-1,1)\n",
    "    \n",
    "    return samples_t, \\\n",
    "           samples_t_ic, \\\n",
    "           samples_t"
   ]
  },
  {
   "cell_type": "code",
   "execution_count": 10,
   "id": "4ff1840e-bd30-4757-87a1-e6cdfd0d591e",
   "metadata": {},
   "outputs": [
    {
     "name": "stdout",
     "output_type": "stream",
     "text": [
      "torch.Size([512, 1]) torch.Size([1, 1]) torch.Size([512, 1])\n"
     ]
    },
    {
     "data": {
      "image/png": "[encoded data removed]",
      "text/plain": [
       "<Figure size 432x288 with 1 Axes>"
      ]
     },
     "metadata": {
      "needs_background": "light"
     },
     "output_type": "display_data"
    }
   ],
   "source": [
    "#IBVP parameters\n",
    "N_interior =  2**9\n",
    "\n",
    "# Generate training set\n",
    "X_train = temporal_sample(N_interior, kind=\"lhs\")\n",
    "t_int, t_ic, t_bc = X_train\n",
    "print(t_int.shape, t_ic.shape, t_bc.shape)\n",
    "\n",
    "# Generate test data\n",
    "X_test = temporal_sample(N_interior, kind=\"lhs\")\n",
    "\n",
    "plt.scatter(np.arange(N_interior), t_int)\n",
    "plt.show()"
   ]
  },
  {
   "cell_type": "code",
   "execution_count": 20,
   "id": "107c573d-64dc-44d2-91af-f3b57913e072",
   "metadata": {},
   "outputs": [
    {
     "name": "stdout",
     "output_type": "stream",
     "text": [
      "---------------------------Hyperparameters----------------------------\n",
      "# of collocation points per batch:                                 512\n",
      "# of boundary points per batch:                                    512\n",
      "# of initial condition points per batch:                             1\n",
      "# of minbatches:                                                     1\n",
      "Points per Iteration:                                           262144\n",
      "Iterations:                                                        100\n",
      "Total number of collocation points                            26214400\n",
      "----------------------------------------------------------------------\n",
      "  Epoch   |  Total Loss   |  Loss (PDE)   |   Loss (BC)   |   Loss (IC)   \n",
      "    0     |   1.356016e+00|   4.857086e-03|   9.895387e-01|   1.808099e-01\n",
      "    10    |   1.274021e+00|   1.150603e-02|   9.736927e-01|   1.444110e-01\n",
      "    20    |   9.358558e-01|   1.152560e-01|   7.560748e-01|   3.226248e-02\n",
      "    30    |   9.155594e-01|   1.763772e-01|   6.977236e-01|   2.072930e-02\n",
      "    40    |   9.138417e-01|   1.721728e-01|   7.000562e-01|   2.080632e-02\n",
      "    50    |   9.073592e-01|   2.083689e-01|   6.678960e-01|   1.554716e-02\n",
      "    60    |   8.932588e-01|   1.976245e-01|   6.658856e-01|   1.487435e-02\n",
      "    70    |   8.872138e-01|   2.171320e-01|   6.440354e-01|   1.302321e-02\n",
      "    80    |   8.748651e-01|   1.707340e-01|   6.705973e-01|   1.676691e-02\n",
      "    90    |   8.727930e-01|   1.494076e-01|   6.874661e-01|   1.795967e-02\n",
      "   100    |            nan|            nan|            nan|            nan\n"
     ]
    }
   ],
   "source": [
    "eigen_nn = PiNN(eigenvector_ode, ic, norm_conservation, verbose=True)\n",
    "eigen_nn.fit(X_train, None)"
   ]
  },
  {
   "cell_type": "code",
   "execution_count": 77,
   "id": "40a41615-f81f-4546-9153-8ed305476aa1",
   "metadata": {},
   "outputs": [],
   "source": [
    "def eigendecomposition(A, verbose=True):\n",
    "    \n",
    "    # Coordinate Transformations\n",
    "    def dtau_dt_inv_tan(tau):\n",
    "        \"\"\"\n",
    "        Assuming t = tan(pi/2 * tau) this is (dtau/dt)^(-1)\n",
    "        \"\"\"\n",
    "        return torch.pi/(2 * torch.cos(torch.pi/2 * tau)**2)\n",
    "\n",
    "    def dtau_dt_inv_arctanh(tau):\n",
    "        \"\"\"\n",
    "        Assuming t = arctanh(tau) this is (dtau/dt)^(-1)\n",
    "        \"\"\"\n",
    "        return 1.0/(1.0 - tau**2)\n",
    "    \n",
    "    dim = A.shape[0]\n",
    "    \n",
    "    #Initial Condition\n",
    "    y_0 = torch.rand(dim).reshape(1,dim)\n",
    "    y_0 /= torch.sqrt(y_0 @ y_0.T).item()\n",
    "    y_0 = y_0.reshape(1,-1)\n",
    "    \n",
    "    # Hyperparameters for model and learning\n",
    "    hidden_layers = [200,200]\n",
    "    batchsize= 2**9\n",
    "    number_of_minibatches=1\n",
    "    epochs = 2000\n",
    "    \n",
    "    # Hyperparameters for the dataset\n",
    "    fixed_dataset = False\n",
    "    kind = \"lhs\"\n",
    "    sampler = LatinHypercube(1)\n",
    "    \n",
    "    if fixed_dataset:\n",
    "        if kind == \"rejection\":\n",
    "            samples = rejection_sampling(dtau_dt_inv_tan, n=batchsize * number_of_minibatches, \n",
    "                                         xmin=0.01, xmax=0.99).reshape(-1,1)\n",
    "        elif kind == \"linspace\":\n",
    "            samples = np.linspace(0.01, 0.99, batchsize * number_of_minibatches).reshape(-1,1)\n",
    "        elif kind == \"lhs\":\n",
    "            samples = .98 * sampler.random(n=batchsize) + .01\n",
    "        \n",
    "    net = EigenPiNN(dim, hidden_layers)\n",
    "    \n",
    "    optimizer = torch.optim.Adam(net.parameters())\n",
    "    loss_fn = torch.nn.MSELoss()\n",
    "    \n",
    "    if verbose:\n",
    "        mean_loss = 0.0\n",
    "        report_after_e_epochs = min(epochs, 100)\n",
    "        eigenvalue_evolution = []\n",
    "        print(f'{\"Hyperparameters\":-^60}')\n",
    "        print(f'{\"Network Layers/Nodes:\":<40}{hidden_layers}')\n",
    "        print(f'{\"Number of collocation points per batch:\":<40}{batchsize:>20}')\n",
    "        print(f'{\"Number of minbatches:\":<40}{number_of_minibatches:>20}')\n",
    "        print(f'{\"Points per Iteration:\":<40}{batchsize * number_of_minibatches:>20}')\n",
    "        print(f'{\"Points fixed?:\":<40}{fixed_dataset:>20}')\n",
    "        print(f'{\"Iterations:\":<40}{epochs:>20}')\n",
    "        print(f'{\"Total number of collocation points\":<40}{epochs * batchsize * number_of_minibatches:>20}')\n",
    "        print(f'{\"\":-^60}')\n",
    "        print(f'{\"Epoch\":^30}|{\"Mean Loss\":^30}')\n",
    "        \n",
    "    for e in range(1, epochs+1):\n",
    "        for minibatch in range(number_of_minibatches):\n",
    "            \n",
    "            # Interior\n",
    "            if fixed_dataset:\n",
    "                tau_interior = torch.tensor(samples[minibatch*batchsize:(minibatch+1)*batchsize], \n",
    "                                            dtype=torch.float32, \n",
    "                                            requires_grad=True)\n",
    "            else:\n",
    "                if kind == \"rejection\":\n",
    "                    tau_interior = torch.tensor(rejection_sampling(dtau_dt_inv_tan, \n",
    "                                                                   n=batchsize * number_of_minibatches, \n",
    "                                                                   xmin=0.01, xmax=0.99),\n",
    "                                                dtype=torch.float32, \n",
    "                                                requires_grad=True)\n",
    "                elif kind == \"linspace\":\n",
    "                    tau_interior = torch.tensor(np.linspace(0.01, 0.99, batchsize), \n",
    "                                                dtype=torch.float32, \n",
    "                                                requires_grad=True)\n",
    "                elif kind == \"lhs\":\n",
    "                    tau_interior = torch.tensor(.98 * sampler.random(n=batchsize) + .01, \n",
    "                                                dtype=torch.float32, \n",
    "                                                requires_grad=True)\n",
    "            tau_interior.reshape(-1,1)\n",
    "                \n",
    "            # Forward pass of all interior (collocation) points tau in [0.01, 0.99)\n",
    "            y_interior = y_0 + tau_interior * net(tau_interior)\n",
    "            \n",
    "            dydtau = derivative(y_interior, tau_interior)\n",
    "            \n",
    "            dtau_dt_inv = dtau_dt_inv_tan(tau_interior)\n",
    "            #dtau_dt_inv = dtau_dt_inv_arctanh(tau_interior)\n",
    "            \n",
    "            pred_interior, target_interior = dydtau - dtau_dt_inv * f(y_interior, A), torch.zeros_like(dydtau)\n",
    "            mse_interior = loss_fn(pred_interior, target_interior)\n",
    "            \n",
    "            # Norm conservation\n",
    "            norm_along_trajectory = (y_interior[:,None,:] @ y_interior[:,:,None]).squeeze()\n",
    "            pred_norm, target_norm = norm_along_trajectory, torch.ones_like(norm_along_trajectory)\n",
    "            mse_norm = loss_fn(pred_norm, target_norm)\n",
    "            \n",
    "            # Boundary\n",
    "            tau_boundaries = torch.tensor([1.]).reshape(1,1)\n",
    "            \n",
    "            # Forward pass of tau=1\n",
    "            y_boundary = y_0 + tau_boundaries * net(tau_boundaries)\n",
    "    \n",
    "            # See Theorem 1\n",
    "            fy_1_model = f(y_boundary[-1,:].reshape(1,-1), A).reshape(1,-1)\n",
    "                  \n",
    "            pred_boundary, target_boundary = fy_1_model, torch.zeros((1,dim), dtype=A.dtype)\n",
    "            mse_boundary = loss_fn(pred_boundary, target_boundary)\n",
    "\n",
    "            \n",
    "            #Total Loss\n",
    "            loss = mse_interior + mse_boundary + mse_norm\n",
    "            \n",
    "            optimizer.zero_grad()\n",
    "            loss.backward()\n",
    "            optimizer.step()\n",
    "            \n",
    "            if verbose:\n",
    "                mean_loss = mean_loss + loss.item()/report_after_e_epochs\n",
    "            \n",
    "        with torch.autograd.no_grad():\n",
    "            if verbose and e % report_after_e_epochs == 0 and e > 1:\n",
    "                tau_boundaries = torch.tensor([1.]).reshape(1,1)\n",
    "                y_boundary = net(tau_boundaries)\n",
    "                eigenvalue_evolution.append(eigenvalue_of_eigenvector(y_boundary[-1,:].reshape(1,-1)))\n",
    "                print(f'{e:^30}|{mean_loss:>29.6e}|norm = {torch.dot(y_boundary[-1,:],y_boundary[-1,:])}')\n",
    "                mean_loss = 0.0\n",
    "    \n",
    "    if verbose:\n",
    "        print(f'{\"Iteration limit reached\":-^60}')\n",
    "        return net, eigenvalue_evolution\n",
    "    else:\n",
    "        return y_1_model, eigenvalue_of_eigenvector(y_boundary[-1,:])"
   ]
  },
  {
   "cell_type": "code",
   "execution_count": 12,
   "id": "011ebe1c-0f02-4965-9f5c-a76734269481",
   "metadata": {},
   "outputs": [
    {
     "name": "stdout",
     "output_type": "stream",
     "text": [
      "max{ Sp(A) } = 2.2536651627025712\n",
      "[[-0.5393615   0.28132373  0.78915899  0.01174785  0.08388205]\n",
      " [-0.17392092 -0.40364478 -0.05408082 -0.40341278  0.80072205]\n",
      " [-0.38102841 -0.40079176 -0.04650102 -0.59083212 -0.5856094 ]\n",
      " [-0.49519904 -0.49759742 -0.16907792  0.69146749 -0.02144955]\n",
      " [ 0.53706233 -0.59134644  0.58613451  0.09955014 -0.0917036 ]]\n"
     ]
    }
   ],
   "source": [
    "# Eigenvalue Problem\n",
    "\n",
    "#Ground Truth\n",
    "eigenvalues, eigenvectors = np.linalg.eig(A)\n",
    "\n",
    "# Sort in descending order\n",
    "permutation = eigenvalues.argsort()[::-1]\n",
    "eigenvalues = eigenvalues[permutation]\n",
    "eigenvectors = eigenvectors[permutation]\n",
    "print(f\"max{{ Sp(A) }} = {np.max(eigenvalues)}\")\n",
    "print(eigenvectors)"
   ]
  },
  {
   "cell_type": "code",
   "execution_count": 15,
   "id": "e45b191b-2e9f-48dc-a605-42f8a5c86234",
   "metadata": {},
   "outputs": [
    {
     "name": "stdout",
     "output_type": "stream",
     "text": [
      "network = -0.0778081910205128\n"
     ]
    }
   ],
   "source": [
    "x = eigen_nn.predict(torch.tensor([1.]).reshape(1,1))\n",
    "print(f\"network = {eigenvalue_of_eigenvector(x)}\")"
   ]
  },
  {
   "cell_type": "code",
   "execution_count": 80,
   "id": "ecf9b477-5b60-4497-a010-86d61caee24e",
   "metadata": {},
   "outputs": [
    {
     "data": {
      "image/png": "[encoded data removed]",
      "text/plain": [
       "<Figure size 432x288 with 1 Axes>"
      ]
     },
     "metadata": {
      "needs_background": "light"
     },
     "output_type": "display_data"
    }
   ],
   "source": [
    "ev_nn = eigenvalue_evolution[-1]\n",
    "closest_true_ev = eigenvalues[(np.abs(eigenvalues - ev_nn)).argmin()]\n",
    "plt.plot(eigenvalue_evolution)\n",
    "for ev in eigenvalues:\n",
    "    plt.axhline(y=ev, color=\"darkgray\")\n",
    "    \n",
    "plt.axhline(y=closest_true_ev, color=\"k\")\n",
    "plt.show()"
   ]
  },
  {
   "cell_type": "code",
   "execution_count": 4,
   "id": "94bfd040-a17c-471c-9281-ac7c90da6faa",
   "metadata": {},
   "outputs": [
    {
     "data": {
      "text/plain": [
       "tensor([-1,  0,  1,  2])"
      ]
     },
     "execution_count": 4,
     "metadata": {},
     "output_type": "execute_result"
    }
   ],
   "source": [
    "torch.arange(4) - 1"
   ]
  },
  {
   "cell_type": "code",
   "execution_count": 56,
   "id": "f26d0864-4eb0-4dee-8df7-1cc6c7bb04bf",
   "metadata": {},
   "outputs": [
    {
     "name": "stdout",
     "output_type": "stream",
     "text": [
      "tensor([[1.4616, 1.4830, 1.6461, 1.7215, 1.5362, 1.8419]])\n",
      "tensor([[1.0000]])\n"
     ]
    }
   ],
   "source": [
    "print(ic(2 * torch.ones(1,dim), None))\n",
    "print(ic.y0 @ ic.y0.T)"
   ]
  },
  {
   "cell_type": "code",
   "execution_count": null,
   "id": "3cfeaa90-4998-45f7-bf40-969b3cdb7e33",
   "metadata": {},
   "outputs": [],
   "source": []
  }
 ],
 "metadata": {
  "kernelspec": {
   "display_name": "Python 3 (ipykernel)",
   "language": "python",
   "name": "python3"
  },
  "language_info": {
   "codemirror_mode": {
    "name": "ipython",
    "version": 3
   },
   "file_extension": ".py",
   "mimetype": "text/x-python",
   "name": "python",
   "nbconvert_exporter": "python",
   "pygments_lexer": "ipython3",
   "version": "3.9.10"
  }
 },
 "nbformat": 4,
 "nbformat_minor": 5
}
