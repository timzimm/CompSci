{
 "cells": [
  {
   "cell_type": "markdown",
   "id": "99b709cf-208e-4674-bcd3-87b646ff97e7",
   "metadata": {},
   "source": [
    "# Extract Largest Eigenvalue of Symmetric Matrix with a Neural Network"
   ]
  },
  {
   "cell_type": "code",
   "execution_count": 2,
   "id": "015b173d-b529-484c-9b25-2774211cbeca",
   "metadata": {},
   "outputs": [],
   "source": [
    "import torch\n",
    "from torch import nn\n",
    "import matplotlib.pyplot as plt\n",
    "import numpy as np\n",
    "from scipy.stats.qmc import LatinHypercube"
   ]
  },
  {
   "cell_type": "code",
   "execution_count": 3,
   "id": "a20f6c06-256d-4802-8132-ed39df175dd2",
   "metadata": {},
   "outputs": [],
   "source": [
    "# Own implementations\n",
    "%load_ext autoreload\n",
    "%autoreload 2\n",
    "from pinn import *"
   ]
  },
  {
   "cell_type": "code",
   "execution_count": 4,
   "id": "64e18f13-16e3-450e-9382-e36a67d06e70",
   "metadata": {},
   "outputs": [],
   "source": [
    "# Double-precision by default\n",
    "torch.set_default_dtype(torch.float64)"
   ]
  },
  {
   "cell_type": "code",
   "execution_count": 5,
   "id": "f1830e22-3af1-4b75-b7b3-ab2d5a32a35c",
   "metadata": {},
   "outputs": [],
   "source": [
    "def rejection_sampling(pdf, n=1000, xmin=0, xmax=.98):\n",
    "    x=torch.linspace(xmin,xmax,1000)  \n",
    "    y=pdf(x)  \n",
    "    pmin=0.  \n",
    "    pmax=y.max()  \n",
    "   \n",
    "    naccept=0  \n",
    "   \n",
    "    ran=[] # output list of random numbers  \n",
    "    while naccept<n:  \n",
    "        x = (xmax - xmin) * torch.rand(1) + xmin  \n",
    "        y = (pmax - pmin) * torch.rand(1) + pmin   \n",
    "        \n",
    "        if y<pdf(x):  \n",
    "            ran.append(x)  \n",
    "            naccept=naccept+1  \n",
    "    \n",
    "    return np.asarray(ran)  \n",
    "\n",
    "def generate_random_symmetric_matrix(dim):\n",
    "    M_random = torch.rand((dim,dim)) - 0.5\n",
    "    return 0.5 * (M_random.T + M_random)\n",
    "\n",
    "def eigenvalue_of_eigenvector(x):\n",
    "    return ((x @ A @ x.T) / (x @ x.T)).item()"
   ]
  },
  {
   "cell_type": "markdown",
   "id": "200867c5-1fc4-4fe4-a89c-cde720f4624d",
   "metadata": {},
   "source": [
    "### ODE specification"
   ]
  },
  {
   "cell_type": "code",
   "execution_count": 76,
   "id": "ceb1ddef-e0c0-41cd-b658-9e48cb7fbc4c",
   "metadata": {},
   "outputs": [
    {
     "name": "stdout",
     "output_type": "stream",
     "text": [
      "A = tensor([[ 0.2500,  0.5000,  0.7500,  1.0000,  1.2500],\n",
      "        [ 0.5000, -0.2500, -0.5000, -0.7500, -1.0000],\n",
      "        [ 0.7500, -0.5000,  0.2500,  0.2500,  0.2500],\n",
      "        [ 1.0000, -0.7500,  0.2500,  0.0000,  0.0000],\n",
      "        [ 1.2500, -1.0000,  0.2500,  0.0000,  0.0000]])\n"
     ]
    }
   ],
   "source": [
    "#A = generate_random_symmetric_matrix(dim)\n",
    "A = torch.tensor(1/4 * np.array([[1,2,3,4,5],[2,-1,-2,-3,-4],[3,-2,1,1,1],[4,-3,1,0,0],[5,-4,1,0,0]]))\n",
    "dim = A.shape[-1]\n",
    "print(f\"A = {A}\")\n",
    "\n",
    "# Coordinate transformations to bring the infinite time domain t \\in [0,inf) to tau \\in [0,1)\n",
    "def dtau_dt_inv_tan(tau):\n",
    "    \"\"\"\n",
    "    Assuming t = tan(pi/2 * tau) this is (dtau/dt)^(-1)\n",
    "    \"\"\"\n",
    "    return torch.pi/(2 * torch.cos(torch.pi/2 * tau)**2)\n",
    "\n",
    "def dtau_dt_inv_arctanh(tau):\n",
    "    \"\"\"\n",
    "    Assuming t = arctanh(tau) this is (dtau/dt)^(-1)\n",
    "    \"\"\"\n",
    "    return 1.0/(1.0 - tau**2)\n",
    "\n",
    "# Random intial vector as initial condition. Function attributes used to fix the random vector across calls\n",
    "def ic(y, tau):\n",
    "    return y - ic.y0, torch.zeros_like(y)\n",
    "ic.y0 = torch.rand(dim).reshape(1,-1)\n",
    "ic.y0 /= torch.sqrt(ic.y0 @ ic.y0.T).item()\n",
    "\n",
    "# We can interpret the conservation property (d/dtau (y@y.T) = 0) of the ODE as boundary condition. \n",
    "# Note that we compare against a scalar property (the norm) and not a vector. Hence the difference in \n",
    "# the second return argument compared to ic() or eigenvector_ode()\n",
    "def norm_conservation(y, tau):\n",
    "    return torch.sqrt((y[:,None,:] @ y[:,:,None]).squeeze(-1)), torch.ones_like(tau)\n",
    "\n",
    "def eigenvector_ode(y, tau):    \n",
    "    # Left hand side (LHS) of ODE\n",
    "    y_tau = derivative(y, tau)\n",
    "    # Right hand side (RHS) of ODE\n",
    "    first_term = (y[:,None,:] @ (y[:,None,:] @ y[:,:,None] * A)).squeeze()\n",
    "    second_term = (y[:,None,:] @ A @ y[:,:,None] @ y[:,None,:]).squeeze()\n",
    "    #Prefactor of LHS due to coordinate transformation\n",
    "    dtau_dt_inv = dtau_dt_inv_tan(tau)\n",
    "    return y_tau - dtau_dt_inv * (first_term - second_term), torch.zeros_like(y)\n",
    "eigenvector_ode.domain_dim=1\n",
    "eigenvector_ode.target_dim=dim\n",
    "    \n",
    "def temporal_sample(T, N_t, kind=\"lhs\", function=dtau_dt_inv_tan):\n",
    "    if kind == \"lhs\":\n",
    "        sampler = lambda N: torch.from_numpy(T * LatinHypercube(1).random(n = N))\n",
    "    elif kind == \"uniform\":\n",
    "        sampler = lambda N: torch.from_numpy(np.linspace(0.01, .99*T, N).reshape(-1,1))\n",
    "    elif kind == \"rejection\":\n",
    "        sampler = lambda N: torch.from_numpy(rejection_sampling(function, n=N, xmin=0.01, xmax=.99*T)).reshape(-1,1)\n",
    "    \n",
    "    #Interior points\n",
    "    samples_t = sampler(N_t)\n",
    "    \n",
    "    # Initial condition\n",
    "    samples_t_ic = torch.tensor([0.]).reshape(-1,1)\n",
    "    \n",
    "    return samples_t, \\\n",
    "           samples_t_ic, \\\n",
    "           samples_t"
   ]
  },
  {
   "cell_type": "code",
   "execution_count": 77,
   "id": "4ff1840e-bd30-4757-87a1-e6cdfd0d591e",
   "metadata": {},
   "outputs": [
    {
     "name": "stdout",
     "output_type": "stream",
     "text": [
      "torch.Size([512, 1]) torch.Size([1, 1]) torch.Size([512, 1])\n"
     ]
    },
    {
     "data": {
      "image/png": "[encoded data removed]",
      "text/plain": [
       "<Figure size 432x288 with 1 Axes>"
      ]
     },
     "metadata": {
      "needs_background": "light"
     },
     "output_type": "display_data"
    }
   ],
   "source": [
    "#IBVP parameters\n",
    "N_interior =  2**9\n",
    "T = 1\n",
    "\n",
    "# Generate training set\n",
    "X_train = temporal_sample(T, N_interior, kind=\"lhs\")\n",
    "t_int, t_ic, t_bc = X_train\n",
    "print(t_int.shape, t_ic.shape, t_bc.shape)\n",
    "\n",
    "# Generate test data\n",
    "X_test = temporal_sample(T, N_interior, kind=\"lhs\")\n",
    "\n",
    "plt.scatter(np.arange(N_interior), t_int)\n",
    "plt.show()"
   ]
  },
  {
   "cell_type": "code",
   "execution_count": 87,
   "id": "107c573d-64dc-44d2-91af-f3b57913e072",
   "metadata": {},
   "outputs": [
    {
     "name": "stdout",
     "output_type": "stream",
     "text": [
      "NN(\n",
      "  (ff_graph): Sequential(\n",
      "    (0): Linear(in_features=1, out_features=20, bias=True)\n",
      "    (1): Tanh()\n",
      "    (2): Linear(in_features=20, out_features=20, bias=True)\n",
      "    (3): Tanh()\n",
      "    (4): Linear(in_features=20, out_features=20, bias=True)\n",
      "    (5): Tanh()\n",
      "  )\n",
      "  (output): Linear(in_features=20, out_features=5, bias=True)\n",
      ")\n",
      "model parameters:                                                  985\n",
      "---------------------------Hyperparameters----------------------------\n",
      "hidden_layers                                             [20, 20, 20]\n",
      "epochs                                                            1000\n",
      "number_of_minibatches                                                1\n",
      "optimizer                                                         adam\n",
      "\n",
      "-----------------------------Training Log-----------------------------\n",
      "# of collocation points:                                           512\n",
      "# of boundary points:                                              512\n",
      "# of initial condition:                                              1\n",
      "Points per Iteration:                                           1025.0\n",
      "----------------------------------------------------------------------\n",
      "  Epoch   |  Total Loss   |  Loss (PDE)   |   Loss (BC)   |   Loss (IC)   \n",
      "    0     |  5.39987e+04  |  5.39140e+04  |  5.78810e-01  |  2.68592e-01  \n",
      "   100    |  1.08278e+02  |  1.07102e+00  |  8.33869e-01  |  2.38196e-01  \n",
      "   200    |  1.07354e+02  |  6.29240e-01  |  8.28140e-01  |  2.39104e-01  \n",
      "   300    |  1.07039e+02  |  6.63716e-01  |  8.24250e-01  |  2.39505e-01  \n",
      "   400    |  1.06746e+02  |  6.66440e-01  |  8.21051e-01  |  2.39749e-01  \n",
      "   500    |  1.06408e+02  |  6.55607e-01  |  8.17546e-01  |  2.39974e-01  \n",
      "   600    |  1.06019e+02  |  6.50983e-01  |  8.13469e-01  |  2.40213e-01  \n",
      "   700    |  1.05578e+02  |  6.53686e-01  |  8.08770e-01  |  2.40470e-01  \n",
      "   800    |  1.05076e+02  |  6.60946e-01  |  8.03403e-01  |  2.40749e-01  \n",
      "   900    |  1.04500e+02  |  6.67700e-01  |  7.97270e-01  |  2.41056e-01  \n",
      "   1000   |  1.03823e+02  |  6.65155e-01  |  7.90183e-01  |  2.41399e-01  \n"
     ]
    }
   ],
   "source": [
    "hp = {\"optimizer\":\"adam\", \"epochs\":1000}\n",
    "eigen_nn = PiNN(eigenvector_ode, ic, norm_conservation, verbose=True, hyperparameters=hp)\n",
    "print(eigen_nn)\n",
    "eigen_nn.fit(X_train, None)"
   ]
  },
  {
   "cell_type": "code",
   "execution_count": 82,
   "id": "011ebe1c-0f02-4965-9f5c-a76734269481",
   "metadata": {},
   "outputs": [
    {
     "name": "stdout",
     "output_type": "stream",
     "text": [
      "max{ Sp(A) } = 2.2536651627025712\n"
     ]
    }
   ],
   "source": [
    "#Ground Truth\n",
    "eigenvalues, eigenvectors = np.linalg.eig(A)\n",
    "\n",
    "# Sort in descending order\n",
    "permutation = eigenvalues.argsort()[::-1]\n",
    "eigenvalues = eigenvalues[permutation]\n",
    "eigenvectors = eigenvectors[permutation]\n",
    "print(f\"max{{ Sp(A) }} = {np.max(eigenvalues)}\")"
   ]
  },
  {
   "cell_type": "code",
   "execution_count": 84,
   "id": "e45b191b-2e9f-48dc-a605-42f8a5c86234",
   "metadata": {},
   "outputs": [
    {
     "name": "stdout",
     "output_type": "stream",
     "text": [
      "network = 0.0171181310575181\n",
      "network ic = tensor([[0.8621]])\n",
      "ic = tensor([[1.0000]])\n"
     ]
    }
   ],
   "source": [
    "x = eigen_nn.predict(torch.tensor([1.]).reshape(1,1))\n",
    "x_0 = eigen_nn.predict(torch.tensor([0.]).reshape(1,1))\n",
    "print(f\"network = {eigenvalue_of_eigenvector(x)}\")\n",
    "print(f\"network ic = {x_0 @ x_0.T}\")\n",
    "print(f\"ic = {ic.y0 @ ic.y0.T}\")"
   ]
  }
 ],
 "metadata": {
  "kernelspec": {
   "display_name": "Python 3 (ipykernel)",
   "language": "python",
   "name": "python3"
  },
  "language_info": {
   "codemirror_mode": {
    "name": "ipython",
    "version": 3
   },
   "file_extension": ".py",
   "mimetype": "text/x-python",
   "name": "python",
   "nbconvert_exporter": "python",
   "pygments_lexer": "ipython3",
   "version": "3.9.10"
  }
 },
 "nbformat": 4,
 "nbformat_minor": 5
}
