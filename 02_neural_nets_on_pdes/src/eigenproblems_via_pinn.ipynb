{
 "cells": [
  {
   "cell_type": "markdown",
   "id": "b61c62da",
   "metadata": {},
   "source": [
    "# Extract Largest Eigenvalue of Symmetric Matrix with a Neural Network"
   ]
  },
  {
   "cell_type": "code",
   "execution_count": 40,
   "id": "3379b686",
   "metadata": {},
   "outputs": [],
   "source": [
    "import torch\n",
    "from torch import nn\n",
    "import matplotlib.pyplot as plt\n",
    "import numpy as np\n",
    "from scipy.stats.qmc import LatinHypercube\n",
    "import os"
   ]
  },
  {
   "cell_type": "code",
   "execution_count": 2,
   "id": "093c79bd",
   "metadata": {},
   "outputs": [],
   "source": [
    "# Own implementations\n",
    "%load_ext autoreload\n",
    "%autoreload 2\n",
    "from pinn2 import *"
   ]
  },
  {
   "cell_type": "code",
   "execution_count": 30,
   "id": "39d33c19",
   "metadata": {},
   "outputs": [],
   "source": [
    "# Misc\n",
    "import sys\n",
    "sys.path.insert(0, '../misc')\n",
    "from plots import *"
   ]
  },
  {
   "cell_type": "code",
   "execution_count": 31,
   "id": "1e49082d",
   "metadata": {},
   "outputs": [],
   "source": [
    "plt.style.use('../misc/report.mplstyle')\n",
    "\n",
    "# Toggle to save plots as pdf\n",
    "save=False\n",
    "save_dir = \"../../../tex/02_neural_nets_on_pdes/img/\"\n",
    "\n",
    "# Some shorthands for figure labels/legends\n",
    "MSE = r\"$\\mathrm{MSE}_\\mathcal{V}$\""
   ]
  },
  {
   "cell_type": "code",
   "execution_count": 3,
   "id": "e58c0fc7",
   "metadata": {},
   "outputs": [],
   "source": [
    "# Double-precision by default\n",
    "torch.set_default_dtype(torch.float32)"
   ]
  },
  {
   "cell_type": "code",
   "execution_count": 4,
   "id": "2c647cc7",
   "metadata": {},
   "outputs": [],
   "source": [
    "def power_iteration(A, N=100):\n",
    "    eigenvector = np.random.rand(A.shape[0])\n",
    "    for i in range(N):\n",
    "        eigenvector = A @ eigenvector\n",
    "        norm = np.linalg.norm(eigenvector)\n",
    "        eigenvector /= norm\n",
    "    return eigenvector"
   ]
  },
  {
   "cell_type": "markdown",
   "id": "854b195a",
   "metadata": {},
   "source": [
    "### Helper functions"
   ]
  },
  {
   "cell_type": "code",
   "execution_count": 5,
   "id": "493814bb",
   "metadata": {},
   "outputs": [],
   "source": [
    "def rejection_sampling(pdf, n=1000, xmin=0, xmax=.98):\n",
    "    x=torch.linspace(xmin,xmax,1000)  \n",
    "    y=pdf(x)  \n",
    "    pmin=0.  \n",
    "    pmax=y.max()  \n",
    "   \n",
    "    naccept=0  \n",
    "   \n",
    "    ran=[] # output list of random numbers  \n",
    "    while naccept<n:  \n",
    "        x = (xmax - xmin) * torch.rand(1) + xmin  \n",
    "        y = (pmax - pmin) * torch.rand(1) + pmin   \n",
    "        \n",
    "        if y<pdf(x):  \n",
    "            ran.append(x)  \n",
    "            naccept=naccept+1  \n",
    "    \n",
    "    return np.asarray(ran)  \n",
    "\n",
    "def generate_random_symmetric_matrix(dim):\n",
    "    M_random = torch.rand((dim,dim)) - 0.5\n",
    "    return 0.5 * (M_random.T + M_random)\n",
    "\n",
    "def eigenvalue_of_eigenvector(x, A):\n",
    "    return (x @ A @ x.T) / (x @ x.T)\n",
    "\n",
    "def noop(y, tau):\n",
    "    return torch.zeros_like(y), torch.zeros_like(y)"
   ]
  },
  {
   "cell_type": "markdown",
   "id": "1c6829c2",
   "metadata": {},
   "source": [
    "### ODE specification"
   ]
  },
  {
   "cell_type": "code",
   "execution_count": 14,
   "id": "2832e717",
   "metadata": {},
   "outputs": [
    {
     "name": "stdout",
     "output_type": "stream",
     "text": [
      "A = tensor([[ 0.2500,  0.5000,  0.7500,  1.0000,  1.2500],\n",
      "        [ 0.5000, -0.2500, -0.5000, -0.7500, -1.0000],\n",
      "        [ 0.7500, -0.5000,  0.2500,  0.2500,  0.2500],\n",
      "        [ 1.0000, -0.7500,  0.2500,  0.0000,  0.0000],\n",
      "        [ 1.2500, -1.0000,  0.2500,  0.0000,  0.0000]])\n"
     ]
    }
   ],
   "source": [
    "random_matrix = False\n",
    "\n",
    "if random_matrix:\n",
    "    dim = 6\n",
    "    A = generate_random_symmetric_matrix(dim).float()\n",
    "else:\n",
    "    A = torch.tensor(1/4 * np.array([[1,2,3,4,5],[2,-1,-2,-3,-4],[3,-2,1,1,1],[4,-3,1,0,0],[5,-4,1,0,0]])).float()\n",
    "    dim = A.shape[-1]\n",
    "    \n",
    "assert np.allclose(A, A.T, rtol=1e-8, atol=1e-10)\n",
    "print(f\"A = {A}\")\n",
    "\n",
    "# Coordinate transformations to bring the infinite time domain t \\in [0,inf) to tau \\in [0,1)\n",
    "\n",
    "def dtau_dt_inv_identity(tau):\n",
    "    return torch.ones_like(tau)\n",
    "\n",
    "def dtau_dt_inv_tan(tau):\n",
    "    \"\"\"\n",
    "    Assuming t = tan(pi/2 * tau) this is (dtau/dt)^(-1)\n",
    "    \"\"\"\n",
    "    return torch.pi/(2 * torch.cos(torch.pi/2 * tau)**2)\n",
    "\n",
    "def dtau_dt_inv_arctanh(tau):\n",
    "    \"\"\"\n",
    "    Assuming t = arctanh(tau) this is (dtau/dt)^(-1)\n",
    "    \"\"\"\n",
    "    return 1.0/(1.0 - tau**2)\n",
    "\n",
    "# Random intial vector as initial condition. Function attributes used to fix the random vector across calls\n",
    "def ic(y, tau):\n",
    "    return y - ic.y0, torch.zeros_like(y)\n",
    "ic.y0 = torch.rand(dim).reshape(1,-1)\n",
    "#ic.y0 = ic.y0 @ A @ A @ A @ A\n",
    "ic.y0 /= torch.sqrt(ic.y0 @ ic.y0.T).item()\n",
    "\n",
    "# We can interpret the conservation property (d/dtau (y@y.T) = 0) of the ODE as boundary condition. \n",
    "# Note that we compare against a scalar property (the norm) and not a vector. Hence the difference in \n",
    "# the second return argument compared to ic() or eigenvector_ode()\n",
    "def norm_conservation(y, tau):\n",
    "    return torch.sqrt((y[:,None,:] @ y[:,:,None]).squeeze(-1)) - 1, torch.zeros_like(tau)\n",
    "\n",
    "def eigenvector_ode(y, tau):    \n",
    "    # Left hand side (LHS) of ODE\n",
    "    y_tau = derivative(y, tau)\n",
    "    # Right hand side (RHS) of ODE\n",
    "    first_term = (y[:,None,:] @ (y[:,None,:] @ y[:,:,None] * A)).squeeze()\n",
    "    second_term = (y[:,None,:] @ A @ y[:,:,None] @ y[:,None,:]).squeeze()\n",
    "    #Prefactor of LHS due to coordinate transformation\n",
    "    dtau_dt_inv = dtau_dt_inv_identity(tau)\n",
    "    return y_tau - dtau_dt_inv * (first_term - second_term), torch.zeros_like(y)\n",
    "eigenvector_ode.domain_dim=1\n",
    "eigenvector_ode.target_dim=dim\n",
    "\n",
    "# A solution form that adheres to the initial conditions explicitly\n",
    "def trial_function(net_output, tau):\n",
    "    return ic.y0 + tau * net_output\n",
    "    \n",
    "def temporal_sample(T, N_t, N_ic, N_bc, kind=\"lhs\", function=dtau_dt_inv_identity):\n",
    "    if kind == \"lhs\":\n",
    "        sampler = lambda N: torch.from_numpy(T * LatinHypercube(1).random(n = N)).float()\n",
    "    elif kind == \"uniform\":\n",
    "        sampler = lambda N: torch.from_numpy(np.linspace(0.01, .99*T, N).reshape(-1,1)).float()\n",
    "    elif kind == \"rejection\":\n",
    "        sampler = lambda N: torch.from_numpy(rejection_sampling(function, n=N, xmin=0.01, xmax=.99*T)).reshape(-1,1).float()\n",
    "    \n",
    "    #Interior points\n",
    "    samples_t = sampler(N_t)\n",
    "    \n",
    "    # Initial condition\n",
    "    samples_t_ic = torch.zeros((N_ic, 1))\n",
    "    \n",
    "    #Boundary conditions\n",
    "    samples_t_bc = sampler(N_bc)\n",
    "    \n",
    "    return samples_t, \\\n",
    "           samples_t_ic, \\\n",
    "           samples_t_bc"
   ]
  },
  {
   "cell_type": "markdown",
   "id": "4adf5884",
   "metadata": {},
   "source": [
    "### Function Hooks used for training monitoring"
   ]
  },
  {
   "cell_type": "code",
   "execution_count": 7,
   "id": "dc645ea7",
   "metadata": {},
   "outputs": [],
   "source": [
    "def monitor_eigenvector_evolution(net):\n",
    "    x = torch.tensor([1.]).reshape(1,1)\n",
    "    coordinates = [\n",
    "                    c.reshape(-1, 1) for c in torch.unbind(x, dim=-1)\n",
    "    ]\n",
    "    return trial_function(net(x), *coordinates).numpy()\n",
    "\n",
    "def monitor_eigenvalue_evolution(net):\n",
    "    return eigenvalue_of_eigenvector(monitor_eigenvector_evolution(net), A.numpy())"
   ]
  },
  {
   "cell_type": "markdown",
   "id": "e6630014",
   "metadata": {},
   "source": [
    "### Generate Dataset"
   ]
  },
  {
   "cell_type": "code",
   "execution_count": 24,
   "id": "ac7ddcf4",
   "metadata": {},
   "outputs": [
    {
     "data": {
      "image/png": "[encoded data removed]",
      "text/plain": [
       "<Figure size 432x288 with 1 Axes>"
      ]
     },
     "metadata": {
      "needs_background": "light"
     },
     "output_type": "display_data"
    }
   ],
   "source": [
    "#IBVP parameters\n",
    "N_interior =  2**7\n",
    "N_bc = 2**7\n",
    "N_ic = 4\n",
    "T = 2\n",
    "\n",
    "# Generate training set\n",
    "X_train = temporal_sample(T, N_interior, N_ic, N_bc, kind=\"lhs\")\n",
    "t_int, t_ic, t_bc = X_train\n",
    "\n",
    "# Generate test data\n",
    "X_test = temporal_sample(T, N_interior, N_ic, N_bc, kind=\"lhs\")\n",
    "t_int, t_ic, t_bc = X_test\n",
    "\n",
    "plt.scatter(np.arange(len(t_int)), t_int)\n",
    "plt.scatter(np.arange(len(t_ic)), t_ic)\n",
    "plt.scatter(np.arange(len(t_bc)), t_bc)\n",
    "\n",
    "plt.show()"
   ]
  },
  {
   "cell_type": "markdown",
   "id": "0765803d",
   "metadata": {},
   "source": [
    "### Train the Network"
   ]
  },
  {
   "cell_type": "code",
   "execution_count": 18,
   "id": "ca6765e1",
   "metadata": {},
   "outputs": [
    {
     "name": "stdout",
     "output_type": "stream",
     "text": [
      "NN(\n",
      "  (ff_graph): Sequential(\n",
      "    (0): Linear(in_features=1, out_features=30, bias=True)\n",
      "    (1): Tanh()\n",
      "    (2): Linear(in_features=30, out_features=30, bias=True)\n",
      "    (3): Tanh()\n",
      "    (4): Linear(in_features=30, out_features=30, bias=True)\n",
      "    (5): Tanh()\n",
      "  )\n",
      "  (output): Linear(in_features=30, out_features=5, bias=True)\n",
      ")\n",
      "model parameters:                                                 2075\n",
      "---------------------------Hyperparameters----------------------------\n",
      "hidden_layers                                             [30, 30, 30]\n",
      "epochs                                                           10000\n",
      "number_of_minibatches                                                1\n",
      "optimizer_name                                                   lbfgs\n",
      "optimizer_params                                         {'lr': 0.001}\n",
      "\n",
      "-----------------------------Training Log-----------------------------\n",
      "# of collocation points:                                           128\n",
      "# of boundary points:                                              128\n",
      "# of initial condition:                                              4\n",
      "Points per Iteration:                                            260.0\n",
      "----------------------------------------------------------------------\n",
      "  Epoch   |  Total Loss   |  Loss (PDE)   |   Loss (BC)   |   Loss (IC)   \n",
      "    0     |  9.24506e-01  |  9.24506e-01  |  0.00000e+00  |  0.00000e+00  \n",
      "   1000   |  4.63543e-05  |  4.63543e-05  |  0.00000e+00  |  0.00000e+00  \n",
      "   2000   |  4.57727e-05  |  4.57727e-05  |  0.00000e+00  |  0.00000e+00  \n",
      "   3000   |  4.53337e-05  |  4.53337e-05  |  0.00000e+00  |  0.00000e+00  \n",
      "   4000   |  4.49802e-05  |  4.49802e-05  |  0.00000e+00  |  0.00000e+00  \n",
      "   5000   |  4.46783e-05  |  4.46783e-05  |  0.00000e+00  |  0.00000e+00  \n",
      "early_convergence fired terminal event after 5119 epochs\n"
     ]
    }
   ],
   "source": [
    "def early_convergence(loss):\n",
    "    if np.abs(1.0 - loss / early_convergence.last_loss) < 1e-10:\n",
    "        return True\n",
    "    else:\n",
    "        early_convergence.last_loss = loss\n",
    "        return False\n",
    "early_convergence.last_loss = np.inf\n",
    "early_convergence.terminate = True\n",
    "\n",
    "hp = {\"optimizer\":\"adam\", \n",
    "      \"optimizer_params\":{\"lr\":1e-3}, \n",
    "      \"hidden_layers\":[30,30,30], \n",
    "      \"number_of_minibatches\":1,\n",
    "      \"epochs\":10000}\n",
    "\n",
    "eigen_nn = PiNN(eigenvector_ode, noop, noop, trial_function, \n",
    "                hooks=[monitor_eigenvalue_evolution, monitor_eigenvector_evolution],\n",
    "                events_for_loss=[early_convergence],\n",
    "                verbose=True, hyperparameters=hp)\n",
    "print(eigen_nn)\n",
    "eigen_nn.fit(X_train)"
   ]
  },
  {
   "cell_type": "code",
   "execution_count": 23,
   "id": "48dbab63",
   "metadata": {},
   "outputs": [
    {
     "data": {
      "image/png": "[encoded data removed]",
      "text/plain": [
       "<Figure size 720x504 with 2 Axes>"
      ]
     },
     "metadata": {
      "needs_background": "light"
     },
     "output_type": "display_data"
    }
   ],
   "source": [
    "fig, ax = plt.subplots(nrows=2, sharex=True, figsize=(10,7))\n",
    "for ev in eigenvalues:\n",
    "    ax[0].axhline(y=ev, color=\"dimgray\")\n",
    "for component in eigenvectors[closest_ev_idx]:\n",
    "    ax[1].axhline(y=component, color=\"dimgray\")\n",
    "\n",
    "ev_evolution = np.array(eigen_nn.hooks_returns[\"monitor_eigenvalue_evolution\"]).squeeze()\n",
    "vector_evolution = np.array(eigen_nn.hooks_returns[\"monitor_eigenvector_evolution\"]).squeeze().T\n",
    "ax[0].plot(ev_evolution, lw=2)\n",
    "for element_evolution in vector_evolution:\n",
    "    ax[1].plot(element_evolution, lw=2)\n",
    "ax[1].set_xlabel(r\"epoch\")\n",
    "ax[0].set_ylabel(r\"$sp(A)$\")\n",
    "ax[1].set_ylabel(r\"vector compoenents\")\n",
    "plt.show()"
   ]
  },
  {
   "cell_type": "markdown",
   "id": "8671422a",
   "metadata": {},
   "source": [
    "## Hyperparameter Tuning"
   ]
  },
  {
   "cell_type": "code",
   "execution_count": 44,
   "id": "2bed6e3e",
   "metadata": {},
   "outputs": [
    {
     "data": {
      "text/html": [
       "== Status ==<br>Current time: 2022-04-24 20:36:39 (running for 00:00:00.15)<br>Memory usage on this node: 18.5/32.0 GiB<br>Using AsyncHyperBand: num_stopped=0\n",
       "Bracket: Iter 320.000: None | Iter 80.000: None | Iter 20.000: None | Iter 5.000: None\n",
       "Bracket: Iter 320.000: None | Iter 80.000: None | Iter 20.000: None\n",
       "Bracket: Iter 320.000: None | Iter 80.000: None<br>Resources requested: 0/10 CPUs, 0/0 GPUs, 0.0/13.58 GiB heap, 0.0/2.0 GiB objects<br>Current best trial: aef0c_00137 with validation_loss=1.1843887932627695e-06 and parameters={'layers': 3, 'nodes': 25, 'activation_function': Tanh(), 'optimizer_name': 'lbfgs', 'lr': 0.05692258479064706, 'number_of_minibatches': 1}<br>Result logdir: /Users/timzi/PhD/courses/compsci/projects/02_neural_nets_on_pdes/src/ray/eigen_pinn<br>Number of trials: 200/200 (200 TERMINATED)<br><br>"
      ],
      "text/plain": [
       "<IPython.core.display.HTML object>"
      ]
     },
     "metadata": {},
     "output_type": "display_data"
    },
    {
     "name": "stderr",
     "output_type": "stream",
     "text": [
      "2022-04-24 20:36:40,032\tINFO tune.py:701 -- Total run time: 0.60 seconds (0.00 seconds for the tuning loop).\n"
     ]
    }
   ],
   "source": [
    "from ray.tune.schedulers import ASHAScheduler\n",
    "\n",
    "def no_increasing_loss(trial_id, result):\n",
    "    if result[\"training_iteration\"] == 1:\n",
    "        no_increasing_loss.max_loss = result[\"validation_loss\"]\n",
    "        return False\n",
    "    return result[\"validation_loss\"] > no_increasing_loss.max_loss\n",
    "\n",
    "parameter_space = {\n",
    "    \"layers\": tune.randint(1, 4),\n",
    "    \"nodes\": tune.randint(5,40),\n",
    "    \"activation_function\": tune.choice([nn.Tanh(),nn.ReLU()]),\n",
    "    \"optimizer_name\": tune.choice([\"lbfgs\",\"adam\"]),\n",
    "    \"lr\": tune.loguniform(1e-4, 1e-1),\n",
    "    \"number_of_minibatches\": 1\n",
    "}\n",
    "reasonable_start = [\n",
    "    {\n",
    "        \"layers\": 3,\n",
    "        \"nodes\": 20,\n",
    "        \"activation_function\": nn.Tanh(),\n",
    "        \"optimizer_name\": \"lbfgs\",\n",
    "        \"lr\": 1e-3,\n",
    "    }\n",
    "]\n",
    "\n",
    "fixed_parameters = {\n",
    "    \"epochs\": 1000\n",
    "}\n",
    "\n",
    "\n",
    "eigen_nn = PiNN(eigenvector_ode, noop, noop, trial_function, \n",
    "                hyperparameters=fixed_parameters, verbose=False)\n",
    "scheduler=ASHAScheduler(max_t=fixed_parameters[\"epochs\"], grace_period=5, brackets=3)\n",
    "\n",
    "analysis = tune.run(tune.with_parameters(eigen_nn.train, X_train=X_train, X_test=X_test),\n",
    "                    config=parameter_space,\n",
    "                    num_samples=200,\n",
    "                    max_failures=2,\n",
    "                    metric=\"validation_loss\",\n",
    "                    mode=\"min\",\n",
    "                    scheduler=scheduler,\n",
    "                    stop=no_increasing_loss,\n",
    "                    local_dir=\"../data/ray\",\n",
    "                    name=\"eigen_pinn\",\n",
    "                    resume=\"AUTO\",\n",
    "                    verbose=1)"
   ]
  },
  {
   "cell_type": "code",
   "execution_count": 45,
   "id": "4d3da6b2",
   "metadata": {},
   "outputs": [
    {
     "data": {
      "image/png": "[encoded data removed]",
      "text/plain": [
       "<Figure size 280.8x173.534 with 1 Axes>"
      ]
     },
     "metadata": {
      "needs_background": "light"
     },
     "output_type": "display_data"
    }
   ],
   "source": [
    "save=True\n",
    "size = (3.9, 0.618 * 3.9) if save else (10,6)\n",
    "\n",
    "fig, ax = plt.subplots(figsize=size)\n",
    "ax.set_xscale(\"log\")\n",
    "ax.set_yscale(\"log\")\n",
    "\n",
    "dfs = analysis.trial_dataframes\n",
    "best_df = analysis.best_dataframe\n",
    "best_cfg = analysis.best_config\n",
    "\n",
    "blues = sns.color_palette(\"Reds\",12)\n",
    "\n",
    "for k,d in dfs.items():\n",
    "    if \"adam\" in k:\n",
    "        line_adam, = ax.plot(d.training_iteration, d.validation_loss, color=blues[3], lw=1)\n",
    "    else:\n",
    "        line_lbfgs, = ax.plot(d.training_iteration, d.validation_loss, color=blues[7], lw=1)\n",
    "        \n",
    "ax.plot(best_df.training_iteration, best_df.validation_loss, color=blues[11], lw=3, label=r\"best parameters\")\n",
    "line_adam.set_label(rf\"\\texttt{{Adam}}\")\n",
    "line_lbfgs.set_label(rf\"\\texttt{{LBFGS}}\")\n",
    "ax.set_ylim([1e-7,1e2])\n",
    "ax.set_xlabel(r\"epoch\")\n",
    "ax.set_ylabel(MSE)\n",
    "handles, labels = ax.get_legend_handles_labels()\n",
    "#handles[0], handles[1] = handles[1], handles[0]\n",
    "#labels[0], labels[1] = labels[1], labels[0]\n",
    "ax.legend(handles, labels)\n",
    "\n",
    "if save:\n",
    "    fig.savefig(save_dir + \"hyperopt_eigenvector.pdf\",bbox_inches=\"tight\",pad_inches = 0.02)\n",
    "else:\n",
    "    plt.show()"
   ]
  },
  {
   "cell_type": "code",
   "execution_count": 41,
   "id": "24a7b173",
   "metadata": {},
   "outputs": [
    {
     "name": "stdout",
     "output_type": "stream",
     "text": [
      "{'layers': 3, 'nodes': 25, 'activation_function': Tanh(), 'optimizer_name': 'lbfgs', 'lr': 0.05692258479064706, 'number_of_minibatches': 1, 'hidden_layers': [25, 25, 25], 'optimizer_params': {'lr': 0.05692258479064706}, 'epochs': 1000}\n"
     ]
    }
   ],
   "source": [
    "logdir = analysis.best_logdir\n",
    "best_cfg[\"hidden_layers\"] = best_cfg[\"layers\"] * [best_cfg[\"nodes\"]]\n",
    "best_cfg[\"optimizer_params\"] = {\"lr\":best_cfg[\"lr\"]}\n",
    "best_cfg = best_cfg | fixed_parameters\n",
    "state_dict = torch.load(os.path.join(logdir, \"model.pth\"))\n",
    "print(best_cfg)"
   ]
  },
  {
   "cell_type": "markdown",
   "id": "fb5c263d",
   "metadata": {},
   "source": [
    "### Comparison between PiNN and Numpy"
   ]
  },
  {
   "cell_type": "code",
   "execution_count": 36,
   "id": "20e5ebaf",
   "metadata": {},
   "outputs": [
    {
     "name": "stdout",
     "output_type": "stream",
     "text": [
      "Sp(A) = [ 2.2536652   0.41407576  0.01711813 -0.07780847 -2.3570507 ]\n",
      "max{ Sp(A) } = 2.2536652088165283\n",
      "eigenvector = [-0.49519905 -0.02144955 -0.69146746 -0.16907792 -0.49759743]\n"
     ]
    }
   ],
   "source": [
    "#Ground Truth\n",
    "eigenvalues, eigenvectors = np.linalg.eigh(A)\n",
    "\n",
    "# Sort in descending order\n",
    "permutation = eigenvalues.argsort()[::-1]\n",
    "eigenvalues = eigenvalues[permutation]\n",
    "eigenvectors = eigenvectors[permutation]\n",
    "print(f\"Sp(A) = {eigenvalues}\")\n",
    "print(f\"max{{ Sp(A) }} = {np.max(eigenvalues)}\")\n",
    "print(f\"eigenvector = {eigenvectors[0]}\")"
   ]
  },
  {
   "cell_type": "code",
   "execution_count": 43,
   "id": "63e27413",
   "metadata": {},
   "outputs": [
    {
     "name": "stdout",
     "output_type": "stream",
     "text": [
      "eigenvalue (network) = 2.249629259109497\n",
      "eigenvector (network) = tensor([[ 0.6092, -0.2589,  0.3780,  0.3911,  0.5160]])\n",
      "closest eigenvalue = 2.2536652088165283\n",
      "Overlaps of IC\n",
      "tensor([0.8171]) 2.2536652\n",
      "tensor([0.4074]) 0.41407576\n",
      "tensor([0.3104]) 0.017118132\n",
      "tensor([0.2629]) -0.07780847\n",
      "tensor([0.0286]) -2.3570507\n"
     ]
    }
   ],
   "source": [
    "best_eigen_nn = PiNN(eigenvector_ode, noop, noop, trial_function, \n",
    "                hyperparameters=best_cfg, verbose=False)\n",
    "best_eigen_nn.net.load_state_dict(state_dict)\n",
    "\n",
    "x = best_eigen_nn.predict(torch.tensor([1.]).reshape(1,1))\n",
    "ev_from_network = eigenvalue_of_eigenvector(x, A.numpy()).item()   \n",
    "closest_ev_idx = np.argmin(np.abs(eigenvalues - ev_from_network))\n",
    "\n",
    "print(f\"eigenvalue (network) = {ev_from_network}\")\n",
    "print(f\"eigenvector (network) = {x}\")\n",
    "print(f\"closest eigenvalue = {eigenvalues[closest_ev_idx]}\")\n",
    "print(\"Overlaps of IC\")\n",
    "for eigenvector, eigenvalue in zip(eigenvectors, eigenvalues):\n",
    "    print(np.abs(ic.y0 @ eigenvector), eigenvalue)"
   ]
  },
  {
   "cell_type": "code",
   "execution_count": null,
   "id": "b39d8ef2",
   "metadata": {},
   "outputs": [],
   "source": []
  }
 ],
 "metadata": {
  "kernelspec": {
   "display_name": "Python 3 (ipykernel)",
   "language": "python",
   "name": "python3"
  },
  "language_info": {
   "codemirror_mode": {
    "name": "ipython",
    "version": 3
   },
   "file_extension": ".py",
   "mimetype": "text/x-python",
   "name": "python",
   "nbconvert_exporter": "python",
   "pygments_lexer": "ipython3",
   "version": "3.9.10"
  }
 },
 "nbformat": 4,
 "nbformat_minor": 5
}
