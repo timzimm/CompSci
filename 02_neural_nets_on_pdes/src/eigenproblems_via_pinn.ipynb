{
 "cells": [
  {
   "cell_type": "markdown",
   "id": "99b709cf-208e-4674-bcd3-87b646ff97e7",
   "metadata": {},
   "source": [
    "# Extract Largest Eigenvalue of Symmetric Matrix with a Neural Network"
   ]
  },
  {
   "cell_type": "code",
   "execution_count": 1,
   "id": "015b173d-b529-484c-9b25-2774211cbeca",
   "metadata": {},
   "outputs": [],
   "source": [
    "import torch\n",
    "from torch import nn\n",
    "import matplotlib.pyplot as plt\n",
    "import numpy as np\n",
    "from scipy.stats.qmc import LatinHypercube"
   ]
  },
  {
   "cell_type": "code",
   "execution_count": 2,
   "id": "a20f6c06-256d-4802-8132-ed39df175dd2",
   "metadata": {},
   "outputs": [],
   "source": [
    "# Own implementations\n",
    "%load_ext autoreload\n",
    "%autoreload 2\n",
    "from pinn import *"
   ]
  },
  {
   "cell_type": "code",
   "execution_count": 3,
   "id": "64e18f13-16e3-450e-9382-e36a67d06e70",
   "metadata": {},
   "outputs": [],
   "source": [
    "# Double-precision by default\n",
    "torch.set_default_dtype(torch.float64)"
   ]
  },
  {
   "cell_type": "code",
   "execution_count": 70,
   "id": "069b4a5c-560c-451a-b259-5bbf0b40a943",
   "metadata": {},
   "outputs": [],
   "source": [
    "def power_iteration(A, N=100):\n",
    "    eigenvector = np.random.rand(A.shape[0])\n",
    "    for i in range(N):\n",
    "        eigenvector = A @ eigenvector\n",
    "        norm = np.linalg.norm(eigenvector)\n",
    "        eigenvector /= norm\n",
    "    return eigenvector"
   ]
  },
  {
   "cell_type": "markdown",
   "id": "77756e5b-7580-4a98-9bf7-23aa5135640b",
   "metadata": {},
   "source": [
    "### Helper functions"
   ]
  },
  {
   "cell_type": "code",
   "execution_count": 171,
   "id": "f1830e22-3af1-4b75-b7b3-ab2d5a32a35c",
   "metadata": {},
   "outputs": [],
   "source": [
    "def rejection_sampling(pdf, n=1000, xmin=0, xmax=.98):\n",
    "    x=torch.linspace(xmin,xmax,1000)  \n",
    "    y=pdf(x)  \n",
    "    pmin=0.  \n",
    "    pmax=y.max()  \n",
    "   \n",
    "    naccept=0  \n",
    "   \n",
    "    ran=[] # output list of random numbers  \n",
    "    while naccept<n:  \n",
    "        x = (xmax - xmin) * torch.rand(1) + xmin  \n",
    "        y = (pmax - pmin) * torch.rand(1) + pmin   \n",
    "        \n",
    "        if y<pdf(x):  \n",
    "            ran.append(x)  \n",
    "            naccept=naccept+1  \n",
    "    \n",
    "    return np.asarray(ran)  \n",
    "\n",
    "def generate_random_symmetric_matrix(dim):\n",
    "    M_random = torch.rand((dim,dim)) - 0.5\n",
    "    return 0.5 * (M_random.T + M_random)\n",
    "\n",
    "def eigenvalue_of_eigenvector(x, A):\n",
    "    return (x @ A @ x.T) / (x @ x.T)\n",
    "\n",
    "def noop(y, tau):\n",
    "    return torch.zeros_like(y), torch.zeros_like(y)"
   ]
  },
  {
   "cell_type": "markdown",
   "id": "200867c5-1fc4-4fe4-a89c-cde720f4624d",
   "metadata": {},
   "source": [
    "### ODE specification"
   ]
  },
  {
   "cell_type": "code",
   "execution_count": 172,
   "id": "ceb1ddef-e0c0-41cd-b658-9e48cb7fbc4c",
   "metadata": {},
   "outputs": [
    {
     "name": "stdout",
     "output_type": "stream",
     "text": [
      "A = tensor([[ 0.4133,  0.0061,  0.0098, -0.1705,  0.1312, -0.0588],\n",
      "        [ 0.0061, -0.0547, -0.1158, -0.0440,  0.0249, -0.2697],\n",
      "        [ 0.0098, -0.1158,  0.4718, -0.0173,  0.1509,  0.1414],\n",
      "        [-0.1705, -0.0440, -0.0173,  0.4067, -0.0685, -0.4338],\n",
      "        [ 0.1312,  0.0249,  0.1509, -0.0685,  0.2626,  0.2152],\n",
      "        [-0.0588, -0.2697,  0.1414, -0.4338,  0.2152, -0.4060]])\n"
     ]
    }
   ],
   "source": [
    "random_matrix = True\n",
    "\n",
    "if random_matrix:\n",
    "    dim = 6\n",
    "    A = generate_random_symmetric_matrix(dim)\n",
    "else:\n",
    "    A = torch.tensor(1/4 * np.array([[1,2,3,4,5],[2,-1,-2,-3,-4],[3,-2,1,1,1],[4,-3,1,0,0],[5,-4,1,0,0]]))\n",
    "    dim = A.shape[-1]\n",
    "    \n",
    "assert np.allclose(A, A.T, rtol=1e-8, atol=1e-10)\n",
    "print(f\"A = {A}\")\n",
    "\n",
    "# Coordinate transformations to bring the infinite time domain t \\in [0,inf) to tau \\in [0,1)\n",
    "\n",
    "def dtau_dt_inv_identity(tau):\n",
    "    return torch.ones_like(tau)\n",
    "\n",
    "def dtau_dt_inv_tan(tau):\n",
    "    \"\"\"\n",
    "    Assuming t = tan(pi/2 * tau) this is (dtau/dt)^(-1)\n",
    "    \"\"\"\n",
    "    return torch.pi/(2 * torch.cos(torch.pi/2 * tau)**2)\n",
    "\n",
    "def dtau_dt_inv_arctanh(tau):\n",
    "    \"\"\"\n",
    "    Assuming t = arctanh(tau) this is (dtau/dt)^(-1)\n",
    "    \"\"\"\n",
    "    return 1.0/(1.0 - tau**2)\n",
    "\n",
    "# Random intial vector as initial condition. Function attributes used to fix the random vector across calls\n",
    "def ic(y, tau):\n",
    "    return y - ic.y0, torch.zeros_like(y)\n",
    "ic.y0 = torch.rand(dim).reshape(1,-1)\n",
    "#ic.y0 = ic.y0 @ A @ A @ A @ A\n",
    "ic.y0 /= torch.sqrt(ic.y0 @ ic.y0.T).item()\n",
    "\n",
    "# We can interpret the conservation property (d/dtau (y@y.T) = 0) of the ODE as boundary condition. \n",
    "# Note that we compare against a scalar property (the norm) and not a vector. Hence the difference in \n",
    "# the second return argument compared to ic() or eigenvector_ode()\n",
    "def norm_conservation(y, tau):\n",
    "    return torch.sqrt((y[:,None,:] @ y[:,:,None]).squeeze(-1)) - 1, torch.zeros_like(tau)\n",
    "\n",
    "def eigenvector_ode(y, tau):    \n",
    "    # Left hand side (LHS) of ODE\n",
    "    y_tau = derivative(y, tau)\n",
    "    # Right hand side (RHS) of ODE\n",
    "    first_term = (y[:,None,:] @ (y[:,None,:] @ y[:,:,None] * A)).squeeze()\n",
    "    second_term = (y[:,None,:] @ A @ y[:,:,None] @ y[:,None,:]).squeeze()\n",
    "    #Prefactor of LHS due to coordinate transformation\n",
    "    dtau_dt_inv = dtau_dt_inv_identity(tau)\n",
    "    return y_tau - dtau_dt_inv * (first_term - second_term), torch.zeros_like(y)\n",
    "eigenvector_ode.domain_dim=1\n",
    "eigenvector_ode.target_dim=dim\n",
    "\n",
    "# A solution form that adheres to the initial conditions explicitly\n",
    "def trial_function(net_output, tau):\n",
    "    return ic.y0 + tau * net_output\n",
    "    \n",
    "def temporal_sample(T, N_t, N_ic, N_bc, kind=\"lhs\", function=dtau_dt_inv_identity):\n",
    "    if kind == \"lhs\":\n",
    "        sampler = lambda N: torch.from_numpy(T * LatinHypercube(1).random(n = N))\n",
    "    elif kind == \"uniform\":\n",
    "        sampler = lambda N: torch.from_numpy(np.linspace(0.01, .99*T, N).reshape(-1,1))\n",
    "    elif kind == \"rejection\":\n",
    "        sampler = lambda N: torch.from_numpy(rejection_sampling(function, n=N, xmin=0.01, xmax=.99*T)).reshape(-1,1)\n",
    "    \n",
    "    #Interior points\n",
    "    samples_t = sampler(N_t)\n",
    "    \n",
    "    # Initial condition\n",
    "    samples_t_ic = torch.zeros((N_ic, 1))\n",
    "    \n",
    "    #Boundary conditions\n",
    "    samples_t_bc = sampler(N_bc)\n",
    "    \n",
    "    return samples_t, \\\n",
    "           samples_t_ic, \\\n",
    "           samples_t_bc"
   ]
  },
  {
   "cell_type": "markdown",
   "id": "2a762485-acb2-4f1d-9423-9841c0a6163c",
   "metadata": {},
   "source": [
    "### Function Hooks used for training monitoring"
   ]
  },
  {
   "cell_type": "code",
   "execution_count": 173,
   "id": "74190ff7-0087-4299-9111-e587b4a29dca",
   "metadata": {},
   "outputs": [],
   "source": [
    "def monitor_eigenvector_evolution(net):\n",
    "    x = torch.tensor([1.]).reshape(1,1)\n",
    "    coordinates = [\n",
    "                    c.reshape(-1, 1) for c in torch.unbind(x, dim=-1)\n",
    "    ]\n",
    "    return trial_function(net(x), *coordinates).numpy()\n",
    "\n",
    "def monitor_eigenvalue_evolution(net):\n",
    "    return eigenvalue_of_eigenvector(monitor_eigenvector_evolution(net), A.numpy())"
   ]
  },
  {
   "cell_type": "markdown",
   "id": "45b438eb-1f4f-48b0-9611-9ea080b1350d",
   "metadata": {},
   "source": [
    "### Generate Dataset"
   ]
  },
  {
   "cell_type": "code",
   "execution_count": 176,
   "id": "4ff1840e-bd30-4757-87a1-e6cdfd0d591e",
   "metadata": {},
   "outputs": [
    {
     "name": "stdout",
     "output_type": "stream",
     "text": [
      "torch.Size([16, 1]) torch.Size([4, 1]) torch.Size([16, 1])\n"
     ]
    },
    {
     "data": {
      "image/png": "[encoded data removed]",
      "text/plain": [
       "<Figure size 432x288 with 1 Axes>"
      ]
     },
     "metadata": {
      "needs_background": "light"
     },
     "output_type": "display_data"
    }
   ],
   "source": [
    "#IBVP parameters\n",
    "N_interior =  2**4\n",
    "N_bc = 2**4\n",
    "N_ic = 4\n",
    "T = 2\n",
    "\n",
    "# Generate training set\n",
    "X_train = temporal_sample(T, N_interior, N_ic, N_bc, kind=\"lhs\")\n",
    "t_int, t_ic, t_bc = X_train\n",
    "print(t_int.shape, t_ic.shape, t_bc.shape)\n",
    "\n",
    "# Generate test data\n",
    "X_test = temporal_sample(T, N_interior, N_ic, N_bc, kind=\"lhs\")\n",
    "\n",
    "plt.scatter(np.arange(len(t_int)), t_int)\n",
    "plt.scatter(np.arange(len(t_ic)), t_ic)\n",
    "plt.scatter(np.arange(len(t_bc)), t_bc)\n",
    "\n",
    "plt.show()"
   ]
  },
  {
   "cell_type": "markdown",
   "id": "f77e82c0-1c34-46fb-a326-eb825a9f242f",
   "metadata": {},
   "source": [
    "### Train the Network"
   ]
  },
  {
   "cell_type": "code",
   "execution_count": 178,
   "id": "107c573d-64dc-44d2-91af-f3b57913e072",
   "metadata": {},
   "outputs": [
    {
     "name": "stdout",
     "output_type": "stream",
     "text": [
      "NN(\n",
      "  (ff_graph): Sequential(\n",
      "    (0): Linear(in_features=1, out_features=30, bias=True)\n",
      "    (1): Tanh()\n",
      "    (2): Linear(in_features=30, out_features=30, bias=True)\n",
      "    (3): Tanh()\n",
      "    (4): Linear(in_features=30, out_features=30, bias=True)\n",
      "    (5): Tanh()\n",
      "  )\n",
      "  (output): Linear(in_features=30, out_features=6, bias=True)\n",
      ")\n",
      "model parameters:                                                 2106\n",
      "---------------------------Hyperparameters----------------------------\n",
      "hidden_layers                                             [30, 30, 30]\n",
      "epochs                                                           10000\n",
      "number_of_minibatches                                                1\n",
      "optimizer                                                         adam\n",
      "optimizer_params                                         {'lr': 0.001}\n",
      "\n",
      "-----------------------------Training Log-----------------------------\n",
      "# of collocation points:                                            16\n",
      "# of boundary points:                                               16\n",
      "# of initial condition:                                              4\n",
      "Points per Iteration:                                             36.0\n",
      "----------------------------------------------------------------------\n",
      "  Epoch   |  Total Loss   |  Loss (PDE)   |   Loss (BC)   |   Loss (IC)   \n",
      "    0     |  1.27971e-01  |  1.27971e-01  |  0.00000e+00  |  0.00000e+00  \n",
      "   1000   |  3.84468e-06  |  3.84468e-06  |  0.00000e+00  |  0.00000e+00  \n",
      "   2000   |  1.95382e-06  |  1.95382e-06  |  0.00000e+00  |  0.00000e+00  \n",
      "   3000   |  1.13532e-06  |  1.13532e-06  |  0.00000e+00  |  0.00000e+00  \n",
      "   4000   |  5.07361e-07  |  5.07361e-07  |  0.00000e+00  |  0.00000e+00  \n",
      "   5000   |  1.82699e-07  |  1.82699e-07  |  0.00000e+00  |  0.00000e+00  \n",
      "   6000   |  8.99295e-08  |  8.99295e-08  |  0.00000e+00  |  0.00000e+00  \n",
      "   7000   |  5.66013e-08  |  5.66013e-08  |  0.00000e+00  |  0.00000e+00  \n",
      "   8000   |  4.34737e-08  |  4.34737e-08  |  0.00000e+00  |  0.00000e+00  \n",
      "   9000   |  3.37332e-08  |  3.37332e-08  |  0.00000e+00  |  0.00000e+00  \n",
      "  10000   |  6.16634e-08  |  6.16634e-08  |  0.00000e+00  |  0.00000e+00  \n"
     ]
    }
   ],
   "source": [
    "hp = {\"optimizer\":\"adam\", \n",
    "      \"optimizer_params\":{\"lr\":1e-3}, \n",
    "      \"hidden_layers\":[30,30,30], \n",
    "      \"number_of_minibatches\":1,\n",
    "      \"epochs\":10000}\n",
    "\n",
    "eigen_nn = PiNN(eigenvector_ode, noop, noop, trial_function, \n",
    "                hooks=[monitor_eigenvalue_evolution, monitor_eigenvector_evolution],\n",
    "                verbose=True, hyperparameters=hp)\n",
    "print(eigen_nn)\n",
    "eigen_nn.fit(X_train, None)"
   ]
  },
  {
   "cell_type": "code",
   "execution_count": 179,
   "id": "011ebe1c-0f02-4965-9f5c-a76734269481",
   "metadata": {},
   "outputs": [
    {
     "name": "stdout",
     "output_type": "stream",
     "text": [
      "Sp(A) = [ 0.80563579  0.52059255  0.36237071  0.16040342 -0.00695199 -0.74830531]\n",
      "max{ Sp(A) } = 0.8056357887193072\n",
      "eigenvector = [-0.84820687 -0.25335134 -0.07119891  0.29135455  0.04441407  0.3527447 ]\n"
     ]
    }
   ],
   "source": [
    "#Ground Truth\n",
    "eigenvalues, eigenvectors = np.linalg.eigh(A)\n",
    "\n",
    "# Sort in descending order\n",
    "permutation = eigenvalues.argsort()[::-1]\n",
    "eigenvalues = eigenvalues[permutation]\n",
    "eigenvectors = eigenvectors[permutation]\n",
    "print(f\"Sp(A) = {eigenvalues}\")\n",
    "print(f\"max{{ Sp(A) }} = {np.max(eigenvalues)}\")\n",
    "print(f\"eigenvector = {eigenvectors[0]}\")"
   ]
  },
  {
   "cell_type": "code",
   "execution_count": 180,
   "id": "219d2d86-cce4-4aed-b68e-12878b873e00",
   "metadata": {},
   "outputs": [
    {
     "name": "stdout",
     "output_type": "stream",
     "text": [
      "eigenvalue (power method) = 0.8056357887193072\n",
      "eigenvector (power method) = [-0.3622938   0.12126143 -0.42200997  0.6148536  -0.41650052 -0.3527447 ]\n"
     ]
    }
   ],
   "source": [
    "x_from_power = power_iteration(A.numpy(), N=1000)\n",
    "ev_from_power = eigenvalue_of_eigenvector(x_from_power, A.numpy())\n",
    "print(f\"eigenvalue (power method) = {ev_from_power}\")\n",
    "print(f\"eigenvector (power method) = {x_from_power}\")"
   ]
  },
  {
   "cell_type": "code",
   "execution_count": 181,
   "id": "e45b191b-2e9f-48dc-a605-42f8a5c86234",
   "metadata": {},
   "outputs": [
    {
     "name": "stdout",
     "output_type": "stream",
     "text": [
      "eigenvalue (network) = 0.3480571218331534\n",
      "eigenvector (network) = tensor([[ 0.7946,  0.0672,  0.2399,  0.4469,  0.3259, -0.0167]])\n",
      "closest eigenvalue = 0.3623707075490041\n",
      "Overlaps of IC\n",
      "tensor([0.4063]) 0.8056357887193072\n",
      "tensor([0.0251]) 0.5205925499651505\n",
      "tensor([0.6695]) 0.3623707075490041\n",
      "tensor([0.2987]) 0.16040342299685278\n",
      "tensor([0.2760]) -0.006951991235870985\n",
      "tensor([0.4698]) -0.7483053062804309\n"
     ]
    }
   ],
   "source": [
    "x = eigen_nn.predict(torch.tensor([1.]).reshape(1,1))\n",
    "ev_from_network = eigenvalue_of_eigenvector(x, A.numpy()).item()\n",
    "print(f\"eigenvalue (network) = {ev_from_network}\")\n",
    "print(f\"eigenvector (network) = {x}\")\n",
    "print(f\"closest eigenvalue = {eigenvalues[closest_ev_idx]}\")\n",
    "print(\"Overlaps of IC\")\n",
    "for eigenvector, eigenvalue in zip(eigenvectors, eigenvalues):\n",
    "    print(np.abs(ic.y0 @ eigenvector), eigenvalue)\n",
    "    \n",
    "closest_ev_idx = np.argmin(np.abs(eigenvalues - ev_from_network))"
   ]
  },
  {
   "cell_type": "code",
   "execution_count": 182,
   "id": "a74039cb-b168-46c7-a057-a7ae9e9b6c9f",
   "metadata": {},
   "outputs": [
    {
     "data": {
      "image/png": "[encoded data removed]",
      "text/plain": [
       "<Figure size 720x504 with 2 Axes>"
      ]
     },
     "metadata": {
      "needs_background": "light"
     },
     "output_type": "display_data"
    }
   ],
   "source": [
    "fig, ax = plt.subplots(nrows=2, sharex=True, figsize=(10,7))\n",
    "for ev in eigenvalues:\n",
    "    ax[0].axhline(y=ev, color=\"dimgray\")\n",
    "for component in eigenvectors[closest_ev_idx]:\n",
    "    ax[1].axhline(y=component, color=\"dimgray\")\n",
    "\n",
    "ev_evolution = np.array(eigen_nn.hooks_returns[\"monitor_eigenvalue_evolution\"]).squeeze()\n",
    "vector_evolution = np.array(eigen_nn.hooks_returns[\"monitor_eigenvector_evolution\"]).squeeze().T\n",
    "ax[0].plot(ev_evolution, lw=2)\n",
    "for element_evolution in vector_evolution:\n",
    "    ax[1].plot(element_evolution, lw=2)\n",
    "ax[1].set_xlabel(r\"epoch\")\n",
    "ax[0].set_ylabel(r\"$sp(A)$\")\n",
    "ax[1].set_ylabel(r\"vector compoenents\")\n",
    "plt.show()"
   ]
  },
  {
   "cell_type": "code",
   "execution_count": null,
   "id": "8d56c5d8-496c-476a-8efb-0c8c71a66c6c",
   "metadata": {},
   "outputs": [],
   "source": []
  },
  {
   "cell_type": "code",
   "execution_count": null,
   "id": "85dfe2aa-364f-4258-a686-ff9b4dbd7ac6",
   "metadata": {},
   "outputs": [],
   "source": []
  }
 ],
 "metadata": {
  "kernelspec": {
   "display_name": "Python 3 (ipykernel)",
   "language": "python",
   "name": "python3"
  },
  "language_info": {
   "codemirror_mode": {
    "name": "ipython",
    "version": 3
   },
   "file_extension": ".py",
   "mimetype": "text/x-python",
   "name": "python",
   "nbconvert_exporter": "python",
   "pygments_lexer": "ipython3",
   "version": "3.9.10"
  }
 },
 "nbformat": 4,
 "nbformat_minor": 5
}
