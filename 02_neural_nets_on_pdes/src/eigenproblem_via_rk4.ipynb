{
 "cells": [
  {
   "cell_type": "code",
   "execution_count": 28,
   "id": "924f535d",
   "metadata": {},
   "outputs": [],
   "source": [
    "import numpy as np\n",
    "import matplotlib.pyplot as plt"
   ]
  },
  {
   "cell_type": "code",
   "execution_count": 5,
   "id": "75d806a1",
   "metadata": {},
   "outputs": [],
   "source": [
    "def generate_random_symmetric_matrix(dim):\n",
    "    M_random = torch.rand((dim,dim)) - 0.5\n",
    "    return 0.5 * (M_random.T + M_random)\n",
    "\n",
    "def eigenvalue_of_eigenvector(x, A):\n",
    "    return (x @ A @ x.T) / (x @ x.T)"
   ]
  },
  {
   "cell_type": "code",
   "execution_count": 6,
   "id": "777bb2c9",
   "metadata": {},
   "outputs": [],
   "source": [
    "def rk4(f, x0, t_interval, dt=None):\n",
    "    t0 = t_interval[0]\n",
    "    t1 = t_interval[1]\n",
    "    dt = (t1 - t0)/1000 if dt is None else dt\n",
    "    \n",
    "    t = [t0]\n",
    "    x = [x0]\n",
    "    while t[-1] < t1:\n",
    "        \n",
    "        k1 = f(t[-1], x[-1])\n",
    "        k2 = f(t[-1] + dt/2, x[-1] + dt*k1/2)\n",
    "        k3 = f(t[-1] + dt/2, x[-1] + dt*k2/2)\n",
    "        k4 = f(t[-1] + dt, x[-1] + dt*k3)\n",
    "        \n",
    "        x.append(x[-1] + 1/6 * dt * (k1 + 2*k2* + 2*k3 + k4))\n",
    "        t.append(t[-1] + dt)\n",
    "        \n",
    "    return t, x"
   ]
  },
  {
   "cell_type": "code",
   "execution_count": 31,
   "id": "84805113",
   "metadata": {},
   "outputs": [
    {
     "name": "stdout",
     "output_type": "stream",
     "text": [
      "A = [[0.         0.04913743 0.09827486 0.14741229 0.19654972 0.24568714]\n",
      " [0.04913743 0.114654   0.10646443 0.15560186 0.20473929 0.25387672]\n",
      " [0.09827486 0.10646443 0.229308   0.16379143 0.21292886 0.26206629]\n",
      " [0.14741229 0.15560186 0.16379143 0.343962   0.22111843 0.27025586]\n",
      " [0.19654972 0.20473929 0.21292886 0.22111843 0.458616   0.27844543]\n",
      " [0.24568714 0.25387672 0.26206629 0.27025586 0.27844543 0.57327   ]]\n"
     ]
    }
   ],
   "source": [
    "def f(t, x, A):\n",
    "    return (x @ x.T) @ x @ A  - (x @ A @ x.T) @ x\n",
    "\n",
    "random_matrix = False\n",
    "dim = 6\n",
    "if random_matrix:\n",
    "    A = generate_random_symmetric_matrix(dim).float()\n",
    "else:\n",
    "    B = np.arange(36).reshape(dim,dim)\n",
    "    A = 1.0/np.linalg.norm(B) * (np.tril(B) + np.tril(B).T)\n",
    "\n",
    "assert np.allclose(A, A.T, rtol=1e-8, atol=1e-10)\n",
    "print(f\"A = {A}\")\n",
    "\n",
    "fA = lambda t, x: f(t, x, A)\n",
    "x0 = np.random.rand(dim).reshape(1,-1)\n",
    "x0 /= np.sqrt(x0 @ x0.T)"
   ]
  },
  {
   "cell_type": "code",
   "execution_count": 44,
   "id": "08e1b05b",
   "metadata": {},
   "outputs": [
    {
     "name": "stdout",
     "output_type": "stream",
     "text": [
      "(6, 1002)\n"
     ]
    }
   ],
   "source": [
    "t, x = rk4(fA, x0, [0,20])\n",
    "x = np.array(x).squeeze().T\n",
    "print(x.shape)"
   ]
  },
  {
   "cell_type": "code",
   "execution_count": 45,
   "id": "21dfc9bf",
   "metadata": {},
   "outputs": [
    {
     "name": "stdout",
     "output_type": "stream",
     "text": [
      "Sp(A) = [ 1.35883616  0.23169214  0.15845079  0.08911655  0.02113963 -0.13942525]\n",
      "max{ Sp(A) } = 1.358836157510195\n"
     ]
    }
   ],
   "source": [
    "#Ground Truth\n",
    "eigenvalues, eigenvectors = np.linalg.eigh(A)\n",
    "\n",
    "# Sort in descending order\n",
    "permutation = eigenvalues.argsort()[::-1]\n",
    "eigenvalues = eigenvalues[permutation]\n",
    "eigenvectors = eigenvectors[permutation]\n",
    "print(f\"Sp(A) = {eigenvalues}\")\n",
    "print(f\"max{{ Sp(A) }} = {np.max(eigenvalues)}\")"
   ]
  },
  {
   "cell_type": "code",
   "execution_count": 48,
   "id": "7472d6b7",
   "metadata": {},
   "outputs": [
    {
     "data": {
      "image/png": "[encoded data removed]",
      "text/plain": [
       "<Figure size 432x288 with 1 Axes>"
      ]
     },
     "metadata": {
      "needs_background": "light"
     },
     "output_type": "display_data"
    },
    {
     "name": "stdout",
     "output_type": "stream",
     "text": [
      "1.3588361542079588\n"
     ]
    }
   ],
   "source": [
    "#ODE Result\n",
    "for element in x:\n",
    "    plt.plot(t,element)\n",
    "plt.show()\n",
    "print(eigenvalue_of_eigenvector(x[:,-1],A))"
   ]
  },
  {
   "cell_type": "code",
   "execution_count": null,
   "id": "77c93723",
   "metadata": {},
   "outputs": [],
   "source": []
  }
 ],
 "metadata": {
  "kernelspec": {
   "display_name": "Python 3 (ipykernel)",
   "language": "python",
   "name": "python3"
  },
  "language_info": {
   "codemirror_mode": {
    "name": "ipython",
    "version": 3
   },
   "file_extension": ".py",
   "mimetype": "text/x-python",
   "name": "python",
   "nbconvert_exporter": "python",
   "pygments_lexer": "ipython3",
   "version": "3.9.10"
  }
 },
 "nbformat": 4,
 "nbformat_minor": 5
}
