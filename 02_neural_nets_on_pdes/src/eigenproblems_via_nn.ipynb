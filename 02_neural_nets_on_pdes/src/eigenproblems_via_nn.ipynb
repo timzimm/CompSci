{
 "cells": [
  {
   "cell_type": "code",
   "execution_count": 2,
   "id": "015b173d-b529-484c-9b25-2774211cbeca",
   "metadata": {},
   "outputs": [],
   "source": [
    "import torch\n",
    "from torch import nn\n",
    "import matplotlib.pyplot as plt\n",
    "import numpy as np"
   ]
  },
  {
   "cell_type": "code",
   "execution_count": 3,
   "id": "f1830e22-3af1-4b75-b7b3-ab2d5a32a35c",
   "metadata": {},
   "outputs": [],
   "source": [
    "def generate_random_symmetric_matrix(dim):\n",
    "    M_random = torch.rand((dim,dim)) - 0.5\n",
    "    return 0.5 * (M_random.T + M_random)"
   ]
  },
  {
   "cell_type": "code",
   "execution_count": 4,
   "id": "9ce6233c-bfbc-4a43-a267-b1792329d580",
   "metadata": {},
   "outputs": [],
   "source": [
    "class EigenNet(nn.Module):\n",
    "    def __init__(self, dim, hidden_layers):\n",
    "        super(EigenNet,self).__init__()\n",
    "        \n",
    "        # The input layer coincides with the input vector,\n",
    "        # so technically nothing needs to be done here. We add a noop idendity layer for conceptional clarity.\n",
    "        self.eye = nn.Identity()\n",
    "        \n",
    "        # Hidden Layers are assumed to be fully connected acyclic ReLu nodes with hidden_layer nodes each \n",
    "        prev_nodes_per_layer = dim;\n",
    "        hidden = []\n",
    "        for nodes_per_layer in hidden_layers:\n",
    "            hidden += [nn.Linear(prev_nodes_per_layer, nodes_per_layer), nn.ReLU()]\n",
    "            prev_nodes_per_layer = nodes_per_layer\n",
    "        self.ff_relu_graph = nn.Sequential(*hidden)\n",
    "            \n",
    "        # Output Layer is assumed to be linear\n",
    "        self.output = nn.Linear(prev_nodes_per_layer, dim)\n",
    "        \n",
    "    def forward(self, x): \n",
    "        return self.output(self.ff_relu_graph(self.eye(x)))"
   ]
  },
  {
   "cell_type": "code",
   "execution_count": 5,
   "id": "2a15d4c9-f789-4f2c-8c32-a375611bda49",
   "metadata": {},
   "outputs": [
    {
     "name": "stdout",
     "output_type": "stream",
     "text": [
      "A = tensor([[ 0.4440, -0.3717,  0.0325,  0.0236,  0.0277,  0.1832],\n",
      "        [-0.3717, -0.0225, -0.2348,  0.3134, -0.0687, -0.1157],\n",
      "        [ 0.0325, -0.2348, -0.3327, -0.1578, -0.1872, -0.2145],\n",
      "        [ 0.0236,  0.3134, -0.1578,  0.0104,  0.0852,  0.1180],\n",
      "        [ 0.0277, -0.0687, -0.1872,  0.0852,  0.2527,  0.3258],\n",
      "        [ 0.1832, -0.1157, -0.2145,  0.1180,  0.3258, -0.0010]])\n"
     ]
    }
   ],
   "source": [
    "# Eigenvalue Problem and Initial conditions\n",
    "dim = 6\n",
    "A = generate_random_symmetric_matrix(dim)\n",
    "\n",
    "print(f\"A = {A}\")"
   ]
  },
  {
   "cell_type": "code",
   "execution_count": 6,
   "id": "40a41615-f81f-4546-9153-8ed305476aa1",
   "metadata": {},
   "outputs": [],
   "source": [
    "def eigendecomposition(A, verbose=True):\n",
    "    dim = A.shape[-1]\n",
    "    max_ev = torch.sqrt(torch.sum(A * A))\n",
    "    \n",
    "    x_init = torch.rand(dim).reshape(1,dim)\n",
    "    x_init /= torch.sqrt(x_init @ x_init.T).item()\n",
    "    \n",
    "    # Hyperparameters for model and learning\n",
    "    hidden_layers = [100,100,100]\n",
    "    epochs=500\n",
    "\n",
    "    eigenNN = EigenNet(dim, hidden_layers)\n",
    "    optimizer = torch.optim.Adam(eigenNN.parameters())\n",
    "    loss_fn = torch.nn.MSELoss()\n",
    "    \n",
    "    if verbose:\n",
    "        mean_loss = 0.0\n",
    "        report_after_e_epochs = 50\n",
    "        eigenvalue_evolution = []\n",
    "        print(f'{\"Hyperparameters\":-^60}')\n",
    "        print(f'{\"Network Layers/Nodes:\":<40}{hidden_layers}')\n",
    "        print(f'{\"Iterations:\":<40}{epochs:>20}')\n",
    "        print(f'{\"\":-^60}')\n",
    "        print(f'{\"Epoch\":^30}|{\"Mean Loss\":^30}')\n",
    "        \n",
    "    for e in range(epochs):\n",
    "        x = eigenNN(x_init)\n",
    "        fx = x @ ( x @ x.T * A ) + (1 - x @ A @ x.T) @ x\n",
    "        eigenvalue = (x @ A @ x.T) / (x @ x.T)\n",
    "        loss =  loss_fn(x,fx) + (max_ev - eigenvalue)**2\n",
    "                                        \n",
    "        optimizer.zero_grad()\n",
    "        loss.backward()\n",
    "        optimizer.step()\n",
    "        \n",
    "        if verbose:\n",
    "            mean_loss = mean_loss + loss.item()/report_after_e_epochs\n",
    "    \n",
    "\n",
    "        if verbose and e % report_after_e_epochs==0 and e > 0:\n",
    "            print(f'{e:^30}|{mean_loss:>29.6e}')\n",
    "            mean_loss = 0.0\n",
    "            eigenvalue_evolution.append(eigenvalue.item())\n",
    "    \n",
    "    if verbose:\n",
    "        print(f'{\"Iteration limit reached\":-^60}')\n",
    "        return eigenNN, eigenvalue_evolution\n",
    "    else:\n",
    "        return x, eigenvalue"
   ]
  },
  {
   "cell_type": "code",
   "execution_count": 7,
   "id": "4ea8e27a-99bb-4590-ab42-f1582235bf6e",
   "metadata": {},
   "outputs": [
    {
     "name": "stdout",
     "output_type": "stream",
     "text": [
      "A = tensor([[ 0.4173, -0.3513, -0.1415,  0.2873,  0.3947, -0.0965],\n",
      "        [-0.3513,  0.3898, -0.2916,  0.3844,  0.1352,  0.0348],\n",
      "        [-0.1415, -0.2916, -0.1458,  0.2446,  0.2747,  0.1743],\n",
      "        [ 0.2873,  0.3844,  0.2446,  0.3985, -0.0465,  0.1773],\n",
      "        [ 0.3947,  0.1352,  0.2747, -0.0465,  0.1407,  0.0290],\n",
      "        [-0.0965,  0.0348,  0.1743,  0.1773,  0.0290, -0.0871]])\n",
      "max{ Sp(A) } = 0.8527315258979797\n"
     ]
    }
   ],
   "source": [
    "# Eigenvalue Problem\n",
    "dim = 6\n",
    "A = generate_random_symmetric_matrix(dim)\n",
    "print(f\"A = {A}\")\n",
    "\n",
    "#Ground Truth\n",
    "eigenvalues, eigenvectors = np.linalg.eig(A)\n",
    "\n",
    "# Sort in descending order\n",
    "permutation = eigenvalues.argsort()[::-1]\n",
    "eigenvalues = eigenvalues[permutation]\n",
    "eigenvectors = eigenvectors[permutation]\n",
    "print(f\"max{{ Sp(A) }} = {np.max(eigenvalues)}\")"
   ]
  },
  {
   "cell_type": "code",
   "execution_count": 8,
   "id": "cbfceca5-6e8f-497d-bc81-0a099a041a09",
   "metadata": {},
   "outputs": [
    {
     "name": "stdout",
     "output_type": "stream",
     "text": [
      "----------------------Hyperparameters-----------------------\n",
      "Network Layers/Nodes:                   [100, 100, 100]\n",
      "Iterations:                                              500\n",
      "------------------------------------------------------------\n",
      "            Epoch             |          Mean Loss           \n",
      "              50              |                 5.689138e-01\n",
      "             100              |                 4.226695e-01\n",
      "             150              |                 4.064045e-01\n",
      "             200              |                 4.062845e-01\n",
      "             250              |                 4.062839e-01\n",
      "             300              |                 4.062839e-01\n",
      "             350              |                 4.062839e-01\n",
      "             400              |                 4.062839e-01\n",
      "             450              |                 4.062839e-01\n",
      "------------------Iteration limit reached-------------------\n",
      "max{ Sp(A) } = 0.852731466293335\n"
     ]
    }
   ],
   "source": [
    "eigenvector_network , eigenvalue_evolution = eigendecomposition(A)\n",
    "print(f\"max{{ Sp(A) }} = {eigenvalue_evolution[-1]}\")"
   ]
  },
  {
   "cell_type": "code",
   "execution_count": 9,
   "id": "fb8c5a51-1a96-4153-9c5e-648a1c6847d7",
   "metadata": {},
   "outputs": [
    {
     "data": {
      "image/png": "[encoded data removed]",
      "text/plain": [
       "<Figure size 432x288 with 1 Axes>"
      ]
     },
     "metadata": {
      "needs_background": "light"
     },
     "output_type": "display_data"
    }
   ],
   "source": [
    "ev_nn = eigenvalue_evolution[-1]\n",
    "closest_true_ev = eigenvalues[(np.abs(eigenvalues - ev_nn)).argmin()]\n",
    "          \n",
    "plt.plot(eigenvalue_evolution)\n",
    "for ev in eigenvalues:\n",
    "    plt.axhline(y=ev, color=\"darkgray\")\n",
    "    \n",
    "plt.axhline(y=closest_true_ev, color=\"k\")\n",
    "plt.show()"
   ]
  },
  {
   "cell_type": "code",
   "execution_count": null,
   "id": "43f0610a-ede7-472e-83dc-e0cf72a53e3b",
   "metadata": {},
   "outputs": [],
   "source": []
  }
 ],
 "metadata": {
  "kernelspec": {
   "display_name": "Python 3 (ipykernel)",
   "language": "python",
   "name": "python3"
  },
  "language_info": {
   "codemirror_mode": {
    "name": "ipython",
    "version": 3
   },
   "file_extension": ".py",
   "mimetype": "text/x-python",
   "name": "python",
   "nbconvert_exporter": "python",
   "pygments_lexer": "ipython3",
   "version": "3.9.10"
  }
 },
 "nbformat": 4,
 "nbformat_minor": 5
}
