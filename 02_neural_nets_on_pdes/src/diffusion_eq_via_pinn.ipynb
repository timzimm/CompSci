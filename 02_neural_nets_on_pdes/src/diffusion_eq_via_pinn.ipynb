{
 "cells": [
  {
   "cell_type": "markdown",
   "id": "dedab510",
   "metadata": {},
   "source": [
    "# Solving the 1D Diffusion Equation with a Neural Network"
   ]
  },
  {
   "cell_type": "code",
   "execution_count": 24,
   "id": "5caf7d01",
   "metadata": {},
   "outputs": [],
   "source": [
    "import torch\n",
    "from torch import nn\n",
    "from scipy.stats.qmc import LatinHypercube\n",
    "import matplotlib.pyplot as plt\n",
    "import numpy as np\n",
    "from scipy.stats.qmc import LatinHypercube\n",
    "from mpl_toolkits.axes_grid1 import make_axes_locatable\n",
    "import matplotlib.colors as colors\n",
    "import os"
   ]
  },
  {
   "cell_type": "code",
   "execution_count": 8,
   "id": "0a15872c",
   "metadata": {},
   "outputs": [],
   "source": [
    "# Own implementations\n",
    "%load_ext autoreload\n",
    "%autoreload 2\n",
    "from pinn2 import *"
   ]
  },
  {
   "cell_type": "code",
   "execution_count": 9,
   "id": "0d666100",
   "metadata": {},
   "outputs": [],
   "source": [
    "# Misc\n",
    "import sys\n",
    "sys.path.insert(0, '../misc')\n",
    "from plots import *"
   ]
  },
  {
   "cell_type": "code",
   "execution_count": 10,
   "id": "aa349d9a",
   "metadata": {},
   "outputs": [],
   "source": [
    "plt.style.use('../misc/report.mplstyle')\n",
    "\n",
    "# Toggle to save plots as pdf\n",
    "save=False\n",
    "save_dir = \"../../../tex/02_neural_nets_on_pdes/img/\"\n",
    "\n",
    "# Some shorthands for figure labels/legends\n",
    "MSE = r\"$\\mathrm{MSE}_\\mathcal{V}$\""
   ]
  },
  {
   "cell_type": "code",
   "execution_count": 11,
   "id": "3d03b638",
   "metadata": {},
   "outputs": [],
   "source": [
    "torch.set_default_dtype(torch.float32)"
   ]
  },
  {
   "cell_type": "markdown",
   "id": "b27ed3e6",
   "metadata": {},
   "source": [
    "### 1D Diffusion Equation"
   ]
  },
  {
   "cell_type": "code",
   "execution_count": 77,
   "id": "2e9abbed",
   "metadata": {},
   "outputs": [],
   "source": [
    "# Functions below specify the initial boundary value problem (in terms of its residuals/deviations) alongside its analytic solution\n",
    "def u0(u, x, t):\n",
    "    return u - torch.sin(torch.pi * x), torch.zeros_like(u)\n",
    "\n",
    "def dirichlet_bc(u, x, t):\n",
    "    return u, torch.zeros_like(u)\n",
    "\n",
    "def diffusion_equation(u, x, t):\n",
    "    u_t = derivative(u, t)\n",
    "    u_x = derivative(u, x)\n",
    "    u_xx = derivative(u_x, x)\n",
    "    \n",
    "    return u_xx - u_t, torch.zeros_like(u)\n",
    "diffusion_equation.domain_dim=2\n",
    "diffusion_equation.target_dim=1\n",
    "\n",
    "def u_analytical(x, t):\n",
    "    return np.sin(np.pi * x) *np.exp(-(torch.pi)**2 * t)\n",
    "\n",
    "def spatio_temportal_sample_latin_hypercube(T, N_st, N_s, N_t):\n",
    "    sampler1d = lambda N: torch.from_numpy(LatinHypercube(1).random(n = N)).float()\n",
    "    # Excludes boundaries naturally\n",
    "    sampler2d = lambda N: torch.from_numpy(LatinHypercube(2).random(n = N)).float()\n",
    "    \n",
    "    #Interior points\n",
    "    samples_xt = sampler2d(N_st)\n",
    "    samples_xt[:,1] *= T\n",
    "    \n",
    "    # Spatial points at t=0 (initial conditions)\n",
    "    samples_x_ic = sampler1d(N_t)\n",
    "    samples_t_ic = torch.zeros((N_t,1))\n",
    "    \n",
    "    # Temporal points at x=0,1 (boundary conditions)\n",
    "    samples_t_bc = torch.repeat_interleave(T * sampler1d(N_s), 2, dim=0)\n",
    "    samples_x_bc = torch.empty((2 * N_s,1))\n",
    "    samples_x_bc[0::2,0] = 0.\n",
    "    samples_x_bc[1::2,0] = 1.\n",
    "    \n",
    "    return samples_xt, \\\n",
    "           torch.cat((samples_x_ic, samples_t_ic),1), \\\n",
    "           torch.cat((samples_x_bc, samples_t_bc), 1)\n",
    "    \n",
    "def spatio_temportal_sample_cfl(T, N_s, cfl=lambda dx: 0.5 * dx**2):\n",
    "    dx = 1.0/(N_s - 1)\n",
    "    dt = cfl(dx)\n",
    "    \n",
    "    N_t = int(2/dx**2 + 1)\n",
    "    x = torch.from_numpy(dx * np.arange(N_s)).reshape(-1,1).float()\n",
    "    t = torch.from_numpy(dt * np.arange(N_t)).reshape(-1,1).float()\n",
    "    \n",
    "    # Spatial points at t=0 (initial conditions)\n",
    "    samples_x_ic = x\n",
    "    samples_t_ic = torch.zeros_like(samples_x_ic)\n",
    "    \n",
    "    # Interior points\n",
    "    samples_xt = torch.from_numpy(np.dstack(np.meshgrid(x[1:-1], t[1:])).reshape(-1, 2)).float()\n",
    "    \n",
    "    # Temporal points at x=0,1 (boundary conditions)\n",
    "    samples_x_bc = torch.empty((2 * N_t,1))\n",
    "    samples_x_bc[0::2,0] = 0.\n",
    "    samples_x_bc[1::2,0] = 1.\n",
    "    samples_t_bc = torch.repeat_interleave(t, 2, dim=0)\n",
    "    \n",
    "    return samples_xt, \\\n",
    "           torch.cat((samples_x_ic, samples_t_ic),1), \\\n",
    "           torch.cat((samples_x_bc, samples_t_bc), 1)"
   ]
  },
  {
   "cell_type": "markdown",
   "id": "d925d3c1",
   "metadata": {},
   "source": [
    "### Generate Test/Train Split"
   ]
  },
  {
   "cell_type": "code",
   "execution_count": 82,
   "id": "8172a67c",
   "metadata": {},
   "outputs": [],
   "source": [
    "def unpack_sample(xt):\n",
    "    return xt[:,0].reshape(-1,1), xt[:,-1].reshape(-1,1)\n",
    "\n",
    "#IBVP parameters\n",
    "T = 1\n",
    "N_interior =  2**10\n",
    "N_bc = 2**9\n",
    "N_ic = 2**7\n",
    "X_train = spatio_temportal_sample_latin_hypercube(T, N_interior, N_bc, N_ic)\n",
    "\n",
    "N_ic_test = 11 \n",
    "X_test = spatio_temportal_sample_cfl(T, N_ic_test)"
   ]
  },
  {
   "cell_type": "code",
   "execution_count": 84,
   "id": "77c76af2",
   "metadata": {},
   "outputs": [
    {
     "name": "stdout",
     "output_type": "stream",
     "text": [
      "torch.Size([1791, 2]) torch.Size([11, 2]) torch.Size([400, 2])\n"
     ]
    },
    {
     "data": {
      "image/png": "[encoded data removed]",
      "text/plain": [
       "<Figure size 432x288 with 1 Axes>"
      ]
     },
     "metadata": {
      "needs_background": "light"
     },
     "output_type": "display_data"
    }
   ],
   "source": [
    "xt_int, xt_ic, xt_bc = X_test\n",
    "print(xt_int.shape, xt_ic.shape, xt_bc.shape)\n",
    "plt.scatter(*unpack_sample(xt_int))\n",
    "plt.scatter(*unpack_sample(xt_ic))\n",
    "plt.scatter(*unpack_sample(xt_bc))\n",
    "plt.show()"
   ]
  },
  {
   "cell_type": "markdown",
   "id": "7a4f6cba",
   "metadata": {},
   "source": [
    "### Training of the Network"
   ]
  },
  {
   "cell_type": "code",
   "execution_count": 93,
   "id": "a5534b3e",
   "metadata": {},
   "outputs": [
    {
     "name": "stdout",
     "output_type": "stream",
     "text": [
      "-----------------------------Training Log-----------------------------\n",
      "# of collocation points:                                          1024\n",
      "# of boundary points:                                             1024\n",
      "# of initial condition:                                            128\n",
      "Points per Iteration:                                           2176.0\n",
      "----------------------------------------------------------------------\n",
      "  Epoch   |  Total Loss   |  Loss (PDE)   |   Loss (BC)   |   Loss (IC)   \n",
      "    0     |  1.35803e-01  |  3.33626e-03  |  5.10659e-02  |  8.14008e-02  \n",
      "    20    |  1.42440e-04  |  1.26215e-04  |  1.38083e-05  |  2.41703e-06  \n",
      "    40    |  2.97854e-05  |  2.60273e-05  |  3.06890e-06  |  6.89145e-07  \n",
      "    60    |  1.44803e-05  |  1.14094e-05  |  2.83535e-06  |  2.35469e-07  \n",
      "    80    |  1.01809e-05  |  9.32549e-06  |  6.51891e-07  |  2.03475e-07  \n",
      "early_convergence fired terminal event after 81 epochs\n"
     ]
    }
   ],
   "source": [
    "def early_convergence(loss):\n",
    "    if np.abs(1.0 - loss / early_convergence.last_loss) < 1e-10:\n",
    "        return True\n",
    "    else:\n",
    "        early_convergence.last_loss = loss\n",
    "        return False\n",
    "early_convergence.last_loss = np.inf\n",
    "early_convergence.terminate = True\n",
    "\n",
    "diffusion_nn = PiNN(diffusion_equation, u0, dirichlet_bc, events_for_loss=[early_convergence], verbose=True)\n",
    "#print(diffusion_nn)\n",
    "diffusion_nn.fit(X_train)"
   ]
  },
  {
   "cell_type": "markdown",
   "id": "029175c6",
   "metadata": {},
   "source": [
    "## Hyperparameter Tuning"
   ]
  },
  {
   "cell_type": "markdown",
   "id": "9d124a9a",
   "metadata": {},
   "source": [
    "### Randomized Parameter Sweep"
   ]
  },
  {
   "cell_type": "code",
   "execution_count": 85,
   "id": "a31be302",
   "metadata": {},
   "outputs": [
    {
     "data": {
      "text/html": [
       "== Status ==<br>Current time: 2022-04-24 19:28:14 (running for 00:01:50.56)<br>Memory usage on this node: 17.4/32.0 GiB<br>Using AsyncHyperBand: num_stopped=134\n",
       "Bracket: Iter 320.000: -6.140470759419259e-06 | Iter 80.000: -1.5811865296200267e-05 | Iter 20.000: -0.003671952406875789 | Iter 5.000: -0.2666225731372833\n",
       "Bracket: Iter 320.000: -2.622920646899729e-06 | Iter 80.000: -1.5576290024910122e-05 | Iter 20.000: -0.041780807077884674\n",
       "Bracket: Iter 320.000: -8.28960264698253e-06 | Iter 80.000: -9.13169660634594e-05<br>Resources requested: 0/10 CPUs, 0/0 GPUs, 0.0/14.03 GiB heap, 0.0/2.0 GiB objects<br>Current best trial: aa06d_00181 with validation_loss=2.1814687443111325e-06 and parameters={'layers': 3, 'nodes': 36, 'lr': 0.0936173129464164, 'optimizer_name': 'lbfgs', 'number_of_minibatches': 1}<br>Result logdir: /Users/timzi/PhD/courses/compsci/projects/02_neural_nets_on_pdes/src/ray/diffusion_pinn<br>Number of trials: 200/200 (200 TERMINATED)<br><br>"
      ],
      "text/plain": [
       "<IPython.core.display.HTML object>"
      ]
     },
     "metadata": {},
     "output_type": "display_data"
    },
    {
     "name": "stderr",
     "output_type": "stream",
     "text": [
      "2022-04-24 19:28:14,564\tINFO tune.py:701 -- Total run time: 110.71 seconds (110.55 seconds for the tuning loop).\n"
     ]
    }
   ],
   "source": [
    "from ray.tune.schedulers import ASHAScheduler\n",
    "\n",
    "def no_increasing_loss(trial_id, result):\n",
    "    if result[\"training_iteration\"] == 1:\n",
    "        no_increasing_loss.max_loss = result[\"validation_loss\"]\n",
    "        return False\n",
    "    return result[\"validation_loss\"] > no_increasing_loss.max_loss\n",
    "\n",
    "parameter_space = {\n",
    "    \"layers\": tune.randint(1, 4),\n",
    "    \"nodes\": tune.randint(5,40),\n",
    "    \"lr\": tune.loguniform(1e-4, 1e-1),\n",
    "    \"optimizer_name\": tune.choice([\"lbfgs\",\"adam\"]),\n",
    "    \"number_of_minibatches\": 1\n",
    "    \"activation_function\": nn.Tanh()\n",
    "}\n",
    "reasonable_start = [\n",
    "    {\n",
    "        \"layers\": 3,\n",
    "        \"nodes\": 20,\n",
    "        \"lr\": 1e-3,\n",
    "        \"optimizer_name\": \"lbfgs\"\n",
    "    }\n",
    "]\n",
    "\n",
    "fixed_parameters = {\n",
    "    \"epochs\": 1000\n",
    "}\n",
    "\n",
    "\n",
    "diffusion_nn = PiNN(diffusion_equation, u0, dirichlet_bc, hyperparameters=fixed_parameters, verbose=False)\n",
    "scheduler=ASHAScheduler(max_t=fixed_parameters[\"epochs\"], grace_period=5, brackets=3)\n",
    "\n",
    "analysis = tune.run(tune.with_parameters(diffusion_nn.train, X_train=X_train, X_test=X_test),\n",
    "                    config=parameter_space,\n",
    "                    num_samples=200,\n",
    "                    max_failures=2,\n",
    "                    metric=\"validation_loss\",\n",
    "                    mode=\"min\",\n",
    "                    scheduler=scheduler,\n",
    "                    stop=no_increasing_loss,\n",
    "                    local_dir=\"../data/ray\",\n",
    "                    name=\"diffusion_pinn\",\n",
    "                    resume=\"AUTO\",\n",
    "                    verbose=1)"
   ]
  },
  {
   "cell_type": "code",
   "execution_count": 88,
   "id": "91c8c999",
   "metadata": {},
   "outputs": [
    {
     "name": "stdout",
     "output_type": "stream",
     "text": [
      "{'layers': 3, 'nodes': 36, 'lr': 0.0936173129464164, 'optimizer_name': 'lbfgs', 'number_of_minibatches': 1}\n"
     ]
    },
    {
     "data": {
      "image/png": "[encoded data removed]",
      "text/plain": [
       "<Figure size 280.8x173.534 with 1 Axes>"
      ]
     },
     "metadata": {
      "needs_background": "light"
     },
     "output_type": "display_data"
    }
   ],
   "source": [
    "save=True\n",
    "size = (3.9, 0.618 * 3.9) if save else (10,6)\n",
    "\n",
    "fig, ax = plt.subplots(figsize=size)\n",
    "ax.set_xscale(\"log\")\n",
    "ax.set_yscale(\"log\")\n",
    "\n",
    "dfs = analysis.trial_dataframes\n",
    "best_df = analysis.best_dataframe\n",
    "best_cfg = analysis.best_config\n",
    "print(best_cfg)\n",
    "\n",
    "blues = sns.color_palette(\"Blues\",12)\n",
    "\n",
    "for k,d in dfs.items():\n",
    "    if \"adam\" in k:\n",
    "        line_adam, = ax.plot(d.training_iteration, d.validation_loss, color=blues[3], lw=1)\n",
    "    else:\n",
    "        line_lbfgs, = ax.plot(d.training_iteration, d.validation_loss, color=blues[7], lw=1)\n",
    "        \n",
    "ax.plot(best_df.training_iteration, best_df.validation_loss, color=blues[11], lw=3, label=r\"best parameters\")\n",
    "line_adam.set_label(rf\"\\texttt{{Adam}}\")\n",
    "line_lbfgs.set_label(rf\"\\texttt{{LBFGS}}\")\n",
    "ax.set_ylim([1e-6,1e1])\n",
    "ax.set_xlabel(r\"epoch\")\n",
    "ax.set_ylabel(MSE)\n",
    "handles, labels = ax.get_legend_handles_labels()\n",
    "#handles[0], handles[1] = handles[1], handles[0]\n",
    "#labels[0], labels[1] = labels[1], labels[0]\n",
    "ax.legend(handles, labels)\n",
    "\n",
    "if save:\n",
    "    fig.savefig(save_dir + \"hyperopt_diffusion.pdf\",bbox_inches=\"tight\",pad_inches = 0.02)\n",
    "else:\n",
    "    plt.show()"
   ]
  },
  {
   "cell_type": "code",
   "execution_count": 89,
   "id": "483263aa",
   "metadata": {},
   "outputs": [
    {
     "name": "stdout",
     "output_type": "stream",
     "text": [
      "{'layers': 3, 'nodes': 36, 'lr': 0.0936173129464164, 'optimizer_name': 'lbfgs', 'number_of_minibatches': 1, 'hidden_layers': [36, 36, 36], 'optimizer_params': {'lr': 0.0936173129464164}, 'epochs': 1000}\n"
     ]
    }
   ],
   "source": [
    "logdir = analysis.best_logdir\n",
    "best_cfg[\"hidden_layers\"] = best_cfg[\"layers\"] * [best_cfg[\"nodes\"]]\n",
    "best_cfg[\"optimizer_params\"] = {\"lr\":best_cfg[\"lr\"]}\n",
    "best_cfg = best_cfg | fixed_parameters\n",
    "state_dict = torch.load(os.path.join(logdir, \"model.pth\"))\n",
    "print(best_cfg)"
   ]
  },
  {
   "cell_type": "markdown",
   "id": "40e31290",
   "metadata": {},
   "source": [
    "### Comparison between PiNN and Analytical Solution"
   ]
  },
  {
   "cell_type": "code",
   "execution_count": 90,
   "id": "45481d7e",
   "metadata": {},
   "outputs": [
    {
     "data": {
      "text/plain": [
       "<All keys matched successfully>"
      ]
     },
     "execution_count": 90,
     "metadata": {},
     "output_type": "execute_result"
    }
   ],
   "source": [
    "best_diffusion_nn = PiNN(diffusion_equation, u0, dirichlet_bc, hyperparameters=best_cfg, verbose=False)\n",
    "best_diffusion_nn.net.load_state_dict(state_dict)"
   ]
  },
  {
   "cell_type": "code",
   "execution_count": 91,
   "id": "02bbe3d8",
   "metadata": {},
   "outputs": [
    {
     "data": {
      "image/png": "[encoded data removed]",
      "text/plain": [
       "<Figure size 432x288 with 4 Axes>"
      ]
     },
     "metadata": {
      "needs_background": "light"
     },
     "output_type": "display_data"
    }
   ],
   "source": [
    "def dstack_product(x, y):\n",
    "     return np.dstack(np.meshgrid(x, y)).reshape(-1, 2)\n",
    "    \n",
    "N_t = 1000\n",
    "N_x = 900\n",
    "t = np.linspace(0, T, N_t)\n",
    "x = np.linspace(0, 1, N_x)\n",
    "xx, tt = np.meshgrid(x,t)\n",
    "u_ana = u_analytical(xx,tt)\n",
    "xt = dstack_product(x,t)\n",
    "\n",
    "X_test = torch.from_numpy(xt).float()\n",
    "u_net = best_diffusion_nn.predict(X_test).reshape(N_t, N_x)\n",
    "\n",
    "fig, ax = plt.subplots(nrows=3, sharex=True)\n",
    "\n",
    "for a in ax:\n",
    "    a.grid(False)\n",
    "    a.xaxis.tick_top()\n",
    "    a.xaxis.set_label_position('top') \n",
    "for tk in ax[0].get_xticklabels():\n",
    "    tk.set_visible(True)\n",
    "for tk in ax[-1].get_xticklabels():\n",
    "    tk.set_visible(True)\n",
    "    \n",
    "divider = make_axes_locatable(ax[2])\n",
    "cax = divider.new_vertical(size=\"25%\", pad=0.1, pack_start=True)\n",
    "cax.grid(False)\n",
    "fig.add_axes(cax)\n",
    "    \n",
    "ax[0].pcolormesh(tt,xx,u_ana)\n",
    "ax[1].pcolormesh(tt,xx,u_net)\n",
    "im = ax[2].pcolormesh(tt, xx, u_net-u_ana,\n",
    "                      cmap=\"coolwarm\",\n",
    "                      norm=colors.CenteredNorm())\n",
    "\n",
    "cax.set_xlabel(r\"$u_\\text{analytical} - u_{net}$\")\n",
    "fig.colorbar(im, cax=cax, orientation=\"horizontal\")\n",
    "\n",
    "ax[0].set_xlabel(r\"$t$\")\n",
    "plt.show()"
   ]
  },
  {
   "cell_type": "code",
   "execution_count": 52,
   "id": "681b251b",
   "metadata": {},
   "outputs": [
    {
     "name": "stdout",
     "output_type": "stream",
     "text": [
      "[0.         0.11111111 0.22222222 0.33333333 0.44444444 0.55555556\n",
      " 0.66666667 0.77777778 0.88888889 1.        ]\n",
      "[0.         0.00617284 0.01234568 0.01851852 0.02469136 0.0308642\n",
      " 0.03703704 0.04320988 0.04938272 0.05555556 0.0617284  0.06790123\n",
      " 0.07407407 0.08024691 0.08641975 0.09259259 0.09876543 0.10493827\n",
      " 0.11111111 0.11728395 0.12345679 0.12962963 0.13580247 0.14197531\n",
      " 0.14814815 0.15432099 0.16049383 0.16666667 0.17283951 0.17901235\n",
      " 0.18518519 0.19135802 0.19753086 0.2037037  0.20987654 0.21604938\n",
      " 0.22222222 0.22839506 0.2345679  0.24074074 0.24691358 0.25308642\n",
      " 0.25925926 0.2654321  0.27160494 0.27777778 0.28395062 0.29012346\n",
      " 0.2962963  0.30246914 0.30864198 0.31481481 0.32098765 0.32716049\n",
      " 0.33333333 0.33950617 0.34567901 0.35185185 0.35802469 0.36419753\n",
      " 0.37037037 0.37654321 0.38271605 0.38888889 0.39506173 0.40123457\n",
      " 0.40740741 0.41358025 0.41975309 0.42592593 0.43209877 0.4382716\n",
      " 0.44444444 0.45061728 0.45679012 0.46296296 0.4691358  0.47530864\n",
      " 0.48148148 0.48765432 0.49382716 0.5        0.50617284 0.51234568\n",
      " 0.51851852 0.52469136 0.5308642  0.53703704 0.54320988 0.54938272\n",
      " 0.55555556 0.5617284  0.56790123 0.57407407 0.58024691 0.58641975\n",
      " 0.59259259 0.59876543 0.60493827 0.61111111 0.61728395 0.62345679\n",
      " 0.62962963 0.63580247 0.64197531 0.64814815 0.65432099 0.66049383\n",
      " 0.66666667 0.67283951 0.67901235 0.68518519 0.69135802 0.69753086\n",
      " 0.7037037  0.70987654 0.71604938 0.72222222 0.72839506 0.7345679\n",
      " 0.74074074 0.74691358 0.75308642 0.75925926 0.7654321  0.77160494\n",
      " 0.77777778 0.78395062 0.79012346 0.7962963  0.80246914 0.80864198\n",
      " 0.81481481 0.82098765 0.82716049 0.83333333 0.83950617 0.84567901\n",
      " 0.85185185 0.85802469 0.86419753 0.87037037 0.87654321 0.88271605\n",
      " 0.88888889 0.89506173 0.90123457 0.90740741 0.91358025 0.91975309\n",
      " 0.92592593 0.93209877 0.9382716  0.94444444 0.95061728 0.95679012\n",
      " 0.96296296 0.9691358  0.97530864 0.98148148 0.98765432 0.99382716\n",
      " 1.        ]\n",
      "20.0\n"
     ]
    }
   ],
   "source": [
    "N_s = 10\n",
    "cfl=lambda dx: 1.0/2 * dx**2\n",
    "dx = 1.0/(N_s - 1)\n",
    "dt = cfl(dx)\n",
    "    \n",
    "x = dx * np.arange(N_s)\n",
    "t = dt * np.arange(2/dx**2 + 1)\n",
    "print(x)\n",
    "print(t)\n",
    "print(1.0/cfl(x[-1]) * N_s)"
   ]
  },
  {
   "cell_type": "code",
   "execution_count": null,
   "id": "81833e01",
   "metadata": {},
   "outputs": [],
   "source": []
  }
 ],
 "metadata": {
  "kernelspec": {
   "display_name": "Python 3 (ipykernel)",
   "language": "python",
   "name": "python3"
  },
  "language_info": {
   "codemirror_mode": {
    "name": "ipython",
    "version": 3
   },
   "file_extension": ".py",
   "mimetype": "text/x-python",
   "name": "python",
   "nbconvert_exporter": "python",
   "pygments_lexer": "ipython3",
   "version": "3.9.10"
  }
 },
 "nbformat": 4,
 "nbformat_minor": 5
}
