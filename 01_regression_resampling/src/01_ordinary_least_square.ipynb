{
 "cells": [
  {
   "cell_type": "code",
   "execution_count": 54,
   "id": "a633aa7a",
   "metadata": {},
   "outputs": [],
   "source": [
    "import numpy as np\n",
    "\n",
    "from sklearn.model_selection import train_test_split\n",
    "from sklearn.linear_model import SGDRegressor\n",
    "\n",
    "import matplotlib.pyplot as plt\n",
    "from matplotlib.ticker import MaxNLocator\n",
    "from matplotlib import cm\n",
    "import matplotlib.colors as colors\n",
    "from mpl_toolkits.axes_grid1.axes_divider import make_axes_locatable\n",
    "\n",
    "from tqdm.notebook import tqdm # Waiting/loading bar for loops\n",
    "\n",
    "import seaborn as sns"
   ]
  },
  {
   "cell_type": "code",
   "execution_count": 366,
   "id": "53d37221",
   "metadata": {},
   "outputs": [
    {
     "name": "stdout",
     "output_type": "stream",
     "text": [
      "The autoreload extension is already loaded. To reload it, use:\n",
      "  %reload_ext autoreload\n"
     ]
    }
   ],
   "source": [
    "# Own implementations\n",
    "%load_ext autoreload\n",
    "%autoreload 2\n",
    "from data_generation import *\n",
    "from linear_model import *\n",
    "from transformation import *\n",
    "from pipeline import Pipeline\n",
    "from metric import *\n",
    "from model_selection import *"
   ]
  },
  {
   "cell_type": "code",
   "execution_count": 148,
   "id": "125e9d1c",
   "metadata": {},
   "outputs": [],
   "source": [
    "# Misc\n",
    "import sys\n",
    "sys.path.insert(0, '../misc')\n",
    "from plots import *"
   ]
  },
  {
   "cell_type": "code",
   "execution_count": 343,
   "id": "a45cc35c",
   "metadata": {},
   "outputs": [],
   "source": [
    "plt.style.use('../misc/report.mplstyle')\n",
    "\n",
    "# Toggle to save plots as pdf\n",
    "save=True\n",
    "save_dir = \"../../../tex/01_regression_resampling/img/\"\n",
    "\n",
    "# Some shorthands for figure labels/legends\n",
    "MSE = r\"\\hat\\mathcal{E}\"\n",
    "var = r\"\\widehat{\\mathrm{Var}}[\\hat f]\"\n",
    "Bias = r\"\\widehat{\\mathrm{Bias}}[\\hat f]\"\n",
    "noise = r\"\\sigma^2\""
   ]
  },
  {
   "cell_type": "markdown",
   "id": "009ef691",
   "metadata": {},
   "source": [
    "## Bias-Variance Tradeoff and Model Selection"
   ]
  },
  {
   "cell_type": "code",
   "execution_count": null,
   "id": "861c5ef8",
   "metadata": {},
   "outputs": [],
   "source": [
    "# Construction of our vanilla data set. Seeds are fixexd for reproducability\n",
    "# (see defintion of random_x_y_franke() and its default arguments)\n",
    "N = 600\n",
    "sigma = .1\n",
    "x,y,z = random_x_y_franke(N,sigma=sigma)"
   ]
  },
  {
   "cell_type": "markdown",
   "id": "0e1046b3",
   "metadata": {},
   "source": [
    "### Overfitting - Underfitting from Train/Test MSE"
   ]
  },
  {
   "cell_type": "markdown",
   "id": "6b52484f",
   "metadata": {},
   "source": [
    "Here we demonstrate the failure of the *train* MSE to be a good estimtor for the expected prediction error (under squared loss), as well as the overfitting/underfitting regime captured by the *test* MSE.\n",
    "\n",
    "Code snippets below produce Fig. TBA of the report"
   ]
  },
  {
   "cell_type": "code",
   "execution_count": null,
   "id": "7469158d",
   "metadata": {},
   "outputs": [],
   "source": [
    "complexity = np.arange(1,14)\n",
    "mse_train = []\n",
    "mse_test = []\n",
    "\n",
    "# By using our own pipeline, we absorb the standardization step \n",
    "# (learned from the trainings data only!) \n",
    "# into the fit() and predict() step of the Predictor (here OLS).\n",
    "ols = Pipeline([Standardization(), OrdinaryLeastSquare()])\n",
    "\n",
    "for p in complexity:\n",
    "    X = generate_design_matrix(x, y, p)\n",
    "    X_train, X_test, y_train, y_test = train_test_split(X,z,test_size=0.25)\n",
    "       \n",
    "    ols.fit(X_train,y_train)\n",
    "    \n",
    "    mse_test.append(mse(y_test, ols.predict(X_test)))\n",
    "    mse_train.append(mse(y_train, ols.predict(X_train)))"
   ]
  },
  {
   "cell_type": "code",
   "execution_count": 299,
   "id": "80167547",
   "metadata": {},
   "outputs": [
    {
     "data": {
      "image/png": "[encoded data removed]",
      "text/plain": [
       "<Figure size 280.8x173.534 with 1 Axes>"
      ]
     },
     "metadata": {
      "needs_background": "light"
     },
     "output_type": "display_data"
    }
   ],
   "source": [
    "sns.set_palette(\"Set2\",8)\n",
    "size = (3.9, 0.618 * 3.9) if save else (10,6)\n",
    "\n",
    "fig, ax = plt.subplots(figsize=size)\n",
    "ax.plot(complexity, mse_train, label=\"train error\")\n",
    "ax.plot(complexity, mse_test, label=\"test error\")\n",
    "ax.fill_between(complexity, sigma**2, 0.005, alpha=.3, linewidth=0, color=\"gray\")\n",
    "\n",
    "ax.set_xlabel(\"complexity\") \n",
    "ax.set_ylabel(\"MSE\", rotation=0)\n",
    "ax.yaxis.set_label_coords(-0.07,0.93)\n",
    "ax.legend(*ax.get_legend_handles_labels(), loc=0)\n",
    "ax.set_xlim([complexity[0],complexity[-1]])\n",
    "ax.set_ylim([0.005,1.1*max(np.max(mse_test), np.max(mse_train))])\n",
    "ax.xaxis.set_major_locator(MaxNLocator(integer=True))\n",
    "ax.grid(True)\n",
    "\n",
    "if save:\n",
    "    fig.savefig(save_dir + \"train_test_error.pdf\",bbox_inches=\"tight\",pad_inches = 0)\n",
    "else:\n",
    "    plt.show()"
   ]
  },
  {
   "cell_type": "markdown",
   "id": "04130a0e",
   "metadata": {},
   "source": [
    "### Bootstrap Analysis"
   ]
  },
  {
   "cell_type": "markdown",
   "id": "7928150c",
   "metadata": {},
   "source": [
    "We proceed to analyse the bias-variance decomposition under OLS given our Franke data both as a function of data set size $N$ and model complexity $p$.\n",
    "\n",
    "Code snippets below produce Fig. TBA of the report"
   ]
  },
  {
   "cell_type": "code",
   "execution_count": 24,
   "id": "81b47ba4",
   "metadata": {},
   "outputs": [],
   "source": [
    "# Model parameters\n",
    "degrees = np.arange(1,11)"
   ]
  },
  {
   "cell_type": "code",
   "execution_count": 319,
   "id": "07310e37",
   "metadata": {
    "scrolled": true
   },
   "outputs": [
    {
     "data": {
      "application/vnd.jupyter.widget-view+json": {
       "model_id": "341356bf0787479698246319fd948a4f",
       "version_major": 2,
       "version_minor": 0
      },
      "text/plain": [
       "  0%|          | 0/107 [00:00<?, ?it/s]"
      ]
     },
     "metadata": {},
     "output_type": "display_data"
    }
   ],
   "source": [
    "# Data parameters\n",
    "Ns = np.union1d(np.logspace(2,4,100).astype(int), np.arange(100,1000,100))\n",
    "\n",
    "# Resampling\n",
    "B = 50\n",
    "\n",
    "# Predictor Pipeline\n",
    "ols = Pipeline([Standardization(), OrdinaryLeastSquare()])\n",
    "\n",
    "# Error Components\n",
    "prediction_error_bs = np.empty((degrees.shape[0], Ns.shape[0]))\n",
    "bias = np.empty((degrees.shape[0], Ns.shape[0]))\n",
    "variance = np.empty((degrees.shape[0], Ns.shape[0]))\n",
    "\n",
    "for j,N in enumerate(tqdm(Ns)):\n",
    "    x,y,z = random_x_y_franke(N)\n",
    "    for k,p in enumerate(degrees):\n",
    "        X = generate_design_matrix(x, y, p)\n",
    "        # We disable shuffling as we want to fit different models to the same trainings data. \n",
    "        # Note that random resampling (draw + replace) still takes place\n",
    "        prediction_error_bs[k,j], bias[k,j], variance[k,j] = \\\n",
    "                predicition_error_bootstrap(squared_error, ols, X, z, B=B, decomp=True, shuffle=False)"
   ]
  },
  {
   "cell_type": "code",
   "execution_count": 378,
   "id": "170ff765",
   "metadata": {},
   "outputs": [
    {
     "data": {
      "image/png": "[encoded data removed]",
      "text/plain": [
       "<Figure size 280.8x173.534 with 2 Axes>"
      ]
     },
     "metadata": {
      "needs_background": "light"
     },
     "output_type": "display_data"
    }
   ],
   "source": [
    "# Parameter sweep plot\n",
    "\n",
    "kwargs = {\"lw\":2, \n",
    "          \"cmap\":sns.color_palette(\"Greens_r\", as_cmap=True),\n",
    "          \"shading\":\"nearest\",\n",
    "          \"norm\":colors.LogNorm(vmin=prediction_error_bs[1:,:].min(), \n",
    "                                vmax=prediction_error_bs[1:,:].max()),\n",
    "          \"antialiased\":False,\n",
    "          \"edgecolor\": \"face\",\n",
    "          \"rasterized\":True,\n",
    "          \"linewidth\": 0\n",
    "         }\n",
    "\n",
    "# Note location for the cross sections are chosen arbitrarily\n",
    "N_cross_section = 600\n",
    "p_cross_section = 5\n",
    "idx = np.where(degrees == p_cross_section)[0][0]\n",
    "idy = np.abs(Ns - N_cross_section).argmin()\n",
    "\n",
    "size = (3.9, 0.618 * 3.9) if save else (10,6)\n",
    "fig,ax = plt.subplots(figsize=size)\n",
    "ax.set_yscale(\"log\")\n",
    "im = ax.pcolormesh(degrees, Ns, prediction_error_bs.T, **kwargs)\n",
    "im.set_edgecolor('face')\n",
    "ax.set_xlabel(r'complexity/degree $p$')\n",
    "ax.set_ylabel(r'$N$', rotation=0)\n",
    "ax.yaxis.set_label_coords(-0.06,1.04)\n",
    "\n",
    "ax_divider = make_axes_locatable(ax)\n",
    "cax = ax_divider.append_axes(\"top\", size=\"7%\", pad=\"2%\")\n",
    "cb = fig.colorbar(im, cax=cax, orientation=\"horizontal\")\n",
    "cax.xaxis.set_ticks_position(\"top\")\n",
    "cax.set_xlabel(rf\"${MSE}$\")\n",
    "cax.xaxis.set_label_position('top') \n",
    "ax.axhline(y=N_cross_section, c=\"w\", ls=\"dashed\")\n",
    "ax.axvline(x=p_cross_section, c=\"w\", ls=\"dashed\")\n",
    "ax.set_xlim([1,degrees[-1]])\n",
    "\n",
    "if save:\n",
    "    fig.savefig(save_dir + \"ols_complexity_N_MSE.pdf\", dpi=600)\n",
    "else:\n",
    "    plt.show()"
   ]
  },
  {
   "cell_type": "code",
   "execution_count": 331,
   "id": "420af2b7",
   "metadata": {},
   "outputs": [
    {
     "data": {
      "image/png": "[encoded data removed]",
      "text/plain": [
       "<Figure size 266.4x164.635 with 1 Axes>"
      ]
     },
     "metadata": {
      "needs_background": "light"
     },
     "output_type": "display_data"
    }
   ],
   "source": [
    "# Plot for horizontal cross section\n",
    "\n",
    "size = (3.7, 0.618 * 3.7) if save else (10,6)\n",
    "fig,ax = plt.subplots(figsize=size)\n",
    "\n",
    "\n",
    "sns.set_palette(\"tab10\")\n",
    "\n",
    "ax.plot(degrees, prediction_error_bs[:,idy], label=rf\"${MSE}$\")\n",
    "var_line = ax.plot(degrees, variance[:,idy], label=rf\"${var}$\")\n",
    "bias_line = ax.plot(degrees, bias[:,idy], label=rf\"${Bias}^2 + {noise}$\")\n",
    "ax.plot(degrees, variance[:,idy] + bias[:,idy], \n",
    "        label=rf\"${var} + {Bias}^2 + {noise}$\", ls=\"dashed\")\n",
    "\n",
    "ax.set(xlabel=\"complexity/degree $p$\")\n",
    "ax.set_ylabel(r\"error\", rotation=0)\n",
    "ax.yaxis.set_label_coords(-0.08,0.93)\n",
    "\n",
    "ax.fill_between(complexity, sigma**2, 0, alpha=.3, linewidth=0, color=\"gray\")\n",
    "ax.axvline(degrees[np.argmin(prediction_error_bs[:,idy])], ls=\"dashed\",c=\"k\")\n",
    "ax.set_xlim([degrees[0],degrees[-1]])\n",
    "ax.set_ylim([0,np.max(prediction_error_bs[:,idy])])\n",
    "ax.legend(*ax.get_legend_handles_labels(),bbox_to_anchor=[-0.01, -0.04], loc=\"lower left\")\n",
    "ax.grid(True)\n",
    "\n",
    "if save:\n",
    "    fig.savefig(save_dir + \"ols_decomp_complexity.pdf\")\n",
    "else:\n",
    "    plt.show()"
   ]
  },
  {
   "cell_type": "code",
   "execution_count": 330,
   "id": "c428458d",
   "metadata": {},
   "outputs": [
    {
     "data": {
      "image/png": "[encoded data removed]",
      "text/plain": [
       "<Figure size 266.4x164.635 with 1 Axes>"
      ]
     },
     "metadata": {
      "needs_background": "light"
     },
     "output_type": "display_data"
    }
   ],
   "source": [
    "# Variance Scaling Plot\n",
    "\n",
    "size = (3.7, 0.618 * 3.7) if save else (10,6)\n",
    "fig, ax = plt.subplots(figsize=size)\n",
    "ax.set_xscale(\"log\")\n",
    "ax.set_yscale(\"log\")\n",
    "\n",
    "N_power = Ns[np.logical_and(Ns>700,Ns<6000)]\n",
    "ax.plot(N_power, 1.0/(1.5*N_power), c=\"k\", label=r\"$\\propto \\frac{1}{N}$\")\n",
    "ax.plot(Ns, variance[idx,:], label=rf\"${var}$\", c=var_line[0].get_color())\n",
    "ax.plot(Ns, bias[idx,:], label=rf\"${Bias}^2 + {noise}$\", c=bias_line[0].get_color())\n",
    "\n",
    "ax.set(xlabel=r\"$N$\") \n",
    "ax.set_ylabel(r\"error\", rotation=0)\n",
    "ax.yaxis.set_label_coords(-0.08,0.93)\n",
    "ax.axhline(sigma**2, ls=\"dashed\",color=\"dimgray\")\n",
    "ax.legend(*ax.get_legend_handles_labels(),bbox_to_anchor=[-0.01, -0.04], loc=\"lower left\")\n",
    "\n",
    "if save:\n",
    "    fig.savefig(save_dir + \"ols_decomp_N.pdf\")\n",
    "else:\n",
    "    plt.show()"
   ]
  },
  {
   "cell_type": "markdown",
   "id": "87431ea9",
   "metadata": {},
   "source": [
    "### Cross-Validation"
   ]
  },
  {
   "cell_type": "markdown",
   "id": "8bef29ba",
   "metadata": {},
   "source": [
    "We double-check our results for bootstrap by an independent cross-validation analysis. \n",
    "\n",
    "Code snippets below generate Fig. TBA of the report"
   ]
  },
  {
   "cell_type": "code",
   "execution_count": 340,
   "id": "ebc7df30",
   "metadata": {},
   "outputs": [
    {
     "data": {
      "application/vnd.jupyter.widget-view+json": {
       "model_id": "d8d54281b93947c59ceaf4c557194a95",
       "version_major": 2,
       "version_minor": 0
      },
      "text/plain": [
       "  0%|          | 0/5 [00:00<?, ?it/s]"
      ]
     },
     "metadata": {},
     "output_type": "display_data"
    }
   ],
   "source": [
    "from sklearn.model_selection import cross_val_score\n",
    "from sklearn.preprocessing import StandardScaler\n",
    "from sklearn.linear_model import LinearRegression\n",
    "from sklearn.pipeline import make_pipeline\n",
    "\n",
    "\n",
    "# Data generation\n",
    "N = 600\n",
    "x,y,z = random_x_y_franke(N)\n",
    "\n",
    "# Cross validation parameters\n",
    "Nfolds = np.arange(5,10)\n",
    "\n",
    "# Predictor Pipeline\n",
    "ols = Pipeline([Standardization(), OrdinaryLeastSquare()])\n",
    "\n",
    "prediction_error_kfold =  np.empty((Nfolds.shape[0], degrees.shape[0]))\n",
    "prediction_error_kfold_std =  np.empty((Nfolds.shape[0], degrees.shape[0]))\n",
    "\n",
    "for k,folds in enumerate(tqdm(Nfolds)):\n",
    "    for i,p in enumerate(degrees):\n",
    "        X = generate_design_matrix(x, y, p)\n",
    "        prediction_error_kfold[k,i], prediction_error_kfold_std[k,i] = \\\n",
    "            prediction_error_CV(squared_error, ols, X, z, nfolds=folds)\n",
    "   "
   ]
  },
  {
   "cell_type": "code",
   "execution_count": 376,
   "id": "64d1bed0",
   "metadata": {},
   "outputs": [
    {
     "data": {
      "image/png": "[encoded data removed]",
      "text/plain": [
       "<Figure size 266.4x164.635 with 1 Axes>"
      ]
     },
     "metadata": {
      "needs_background": "light"
     },
     "output_type": "display_data"
    }
   ],
   "source": [
    "size = (3.7, 0.618 * 3.7) if save else (10,6)\n",
    "\n",
    "fig, ax = plt.subplots(figsize=size)\n",
    "sns.set_palette(\"Greens_d\", 5)\n",
    "\n",
    "lines = []\n",
    "for k in range(Nfolds.shape[0]):\n",
    "    lines.append(ax.plot(degrees, prediction_error_kfold[k,:], label=rf\"$k={Nfolds[k]}$\", zorder=10))\n",
    "\n",
    "ax.plot(degrees, prediction_error_bs[:,idy],  c=\"k\", label=r\"BS\", zorder=11)\n",
    "\n",
    "ax.fill_between(degrees, \n",
    "                prediction_error_kfold[-1,:]-prediction_error_kfold_std[-1,:], \n",
    "                prediction_error_kfold[-1,:]+prediction_error_kfold_std[-1,:], \n",
    "                alpha = 0.6, color=lines[-1][0].get_color())\n",
    "ax.fill_between(degrees, \n",
    "                prediction_error_kfold[0,:]-prediction_error_kfold_std[0,:], \n",
    "                prediction_error_kfold[0,:]+prediction_error_kfold_std[0,:], \n",
    "                alpha = 0.6, color=lines[0][0].get_color())\n",
    "\n",
    "ax.axvline(x=degrees[np.argmin(prediction_error_kfold[0,:])], c=\"dimgrey\")\n",
    "ax.axvline(x=degrees[np.argmin(prediction_error_bs[:,idy])], ls=\"dashed\",c=\"k\")\n",
    "\n",
    "ax.fill_between(complexity, sigma**2, 0, alpha=.3, linewidth=0, color=\"gray\")\n",
    "ax.set(xlabel=r\"complexity/degree $p$\")\n",
    "ax.set_ylabel(rf\"${MSE}$\", rotation=0)\n",
    "ax.yaxis.set_label_coords(-0.06,0.94)\n",
    "\n",
    "ax.set_xlim([degrees[0],degrees[-1]])\n",
    "ax.set_ylim([0,np.max(prediction_error_kfold)])\n",
    "ax.legend(*ax.get_legend_handles_labels(),bbox_to_anchor=[-0.04, .96], loc=\"lower left\", ncol=3)\n",
    "ax.set_ylim([0.005,1.1*np.max(prediction_error_kfold)])\n",
    "\n",
    "if save:\n",
    "    fig.savefig(save_dir + \"ols_cross_val.pdf\")\n",
    "else:\n",
    "    plt.show()"
   ]
  },
  {
   "cell_type": "markdown",
   "id": "c8deb276",
   "metadata": {},
   "source": [
    "### Model Selection & Model Assessment"
   ]
  },
  {
   "cell_type": "markdown",
   "id": "edcb309d",
   "metadata": {},
   "source": [
    "By minimizing the MSE curve for fixed $N=600$, we find the optimal model complexity for OLS."
   ]
  },
  {
   "cell_type": "code",
   "execution_count": 379,
   "id": "862682c9",
   "metadata": {},
   "outputs": [
    {
     "name": "stdout",
     "output_type": "stream",
     "text": [
      "Minimal MSE (bootstrap) = 0.010484031477615948\n",
      "Optimal p (bootstrap) = 6\n",
      "Minimal MSE (CV) = 0.01133142770586144+/- 0.0016270659072558083\n",
      "Optimal p (CV) = 6\n",
      "Stored 'ols_popt_cv' (int64)\n"
     ]
    }
   ],
   "source": [
    "N_cross_section = 600\n",
    "idy = np.abs(Ns - N_cross_section).argmin()\n",
    "idx = prediction_error_bs[:,idy].argmin()\n",
    "idy_cv = prediction_error_kfold[0,:].argmin()\n",
    "\n",
    "ols_mse_min_bs = prediction_error_bs[idx,idy]\n",
    "ols_mse_min_cv = prediction_error_kfold[0,idy_cv]\n",
    "ols_popt_cv = degrees[np.argmin(prediction_error_kfold[0,:])]\n",
    "ols_popt_bs = degrees[np.argmin(prediction_error_bs[:,idy])]\n",
    "\n",
    "print(f\"Minimal MSE (bootstrap) = {ols_mse_min_bs}\")\n",
    "print(f\"Optimal p (bootstrap) = {ols_popt_bs}\")\n",
    "print(f\"Minimal MSE (CV) = {ols_mse_min_cv}+/- {prediction_error_kfold_std[0,idy_cv]}\")\n",
    "print(f\"Optimal p (CV) = {ols_popt_cv}\")\n",
    "\n",
    "#Export result of model selection for other notebooks\n",
    "%store ols_popt_cv"
   ]
  },
  {
   "cell_type": "markdown",
   "id": "cd91fccb",
   "metadata": {},
   "source": [
    "The resulting model is once more trained on the total (train+validate) set as is standard practice for cross-validation. Since we have full control over the data generative process, we generate a completely new test set to assess the model performance by means of its test MSE and $R^2$-score."
   ]
  },
  {
   "cell_type": "code",
   "execution_count": 380,
   "id": "f64a77e7",
   "metadata": {},
   "outputs": [],
   "source": [
    "# New unseen test data\n",
    "Ntest = 200\n",
    "xtest,ytest,ztest = random_x_y_franke(Ntest, seed=100)\n",
    "Xtest = generate_design_matrix(xtest, ytest, ols_popt_cv)"
   ]
  },
  {
   "cell_type": "code",
   "execution_count": 373,
   "id": "abbe77af",
   "metadata": {},
   "outputs": [
    {
     "name": "stdout",
     "output_type": "stream",
     "text": [
      "MSE optimal model: 0.013184091361794232\n",
      "R2-score optimal model: 0.8452610406575076\n",
      "Stored 'ols_opt' (Pipeline)\n"
     ]
    }
   ],
   "source": [
    "ols_opt = Pipeline([Standardization(), OrdinaryLeastSquare()])\n",
    "\n",
    "# Ideal model...\n",
    "Xtrain = generate_design_matrix(x, y, ols_popt_cv)\n",
    "\n",
    "# ...trained on entire train+validate set & tested on new test set\n",
    "zpred = ols_opt.fit(Xtrain, z).predict(Xtest)\n",
    "mse_final = mse(ztest, zpred)\n",
    "r2_final = ols_opt.score(Xtest, ztest)\n",
    "print(f\"MSE optimal model: {mse_final}\")\n",
    "print(f\"R2-score optimal model: {r2_final}\")\n",
    "%store ols_opt"
   ]
  },
  {
   "cell_type": "code",
   "execution_count": null,
   "id": "7cbc0c6e",
   "metadata": {},
   "outputs": [],
   "source": []
  }
 ],
 "metadata": {
  "kernelspec": {
   "display_name": "Python 3 (ipykernel)",
   "language": "python",
   "name": "python3"
  },
  "language_info": {
   "codemirror_mode": {
    "name": "ipython",
    "version": 3
   },
   "file_extension": ".py",
   "mimetype": "text/x-python",
   "name": "python",
   "nbconvert_exporter": "python",
   "pygments_lexer": "ipython3",
   "version": "3.9.7"
  }
 },
 "nbformat": 4,
 "nbformat_minor": 5
}
