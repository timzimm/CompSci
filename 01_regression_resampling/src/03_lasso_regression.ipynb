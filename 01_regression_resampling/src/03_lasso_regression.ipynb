{
 "cells": [
  {
   "cell_type": "code",
   "execution_count": 14,
   "id": "413ebf15",
   "metadata": {},
   "outputs": [],
   "source": [
    "import numpy as np\n",
    "\n",
    "from sklearn.model_selection import train_test_split\n",
    "from sklearn.preprocessing import StandardScaler\n",
    "from sklearn.pipeline import make_pipeline\n",
    "from sklearn.linear_model import Lasso\n",
    "\n",
    "import matplotlib as mpl\n",
    "import matplotlib.pyplot as plt\n",
    "from mpl_toolkits.mplot3d import Axes3D\n",
    "from matplotlib import cm\n",
    "\n",
    "from tqdm.notebook import tqdm\n",
    "import seaborn as sns"
   ]
  },
  {
   "cell_type": "code",
   "execution_count": 2,
   "id": "3c6efb07",
   "metadata": {},
   "outputs": [],
   "source": [
    "# Own implementations\n",
    "%load_ext autoreload\n",
    "%autoreload 2\n",
    "from data_generation import *\n",
    "from linear_model import *\n",
    "from transformation import *\n",
    "from pipeline import Pipeline\n",
    "from metric import *\n",
    "from model_selection import *"
   ]
  },
  {
   "cell_type": "code",
   "execution_count": 3,
   "id": "777c5672",
   "metadata": {},
   "outputs": [],
   "source": [
    "# Misc\n",
    "import sys\n",
    "sys.path.insert(0, '../misc')\n",
    "from plots import *"
   ]
  },
  {
   "cell_type": "code",
   "execution_count": 21,
   "id": "38d7e1ac",
   "metadata": {},
   "outputs": [],
   "source": [
    "plt.style.use('../misc/report.mplstyle')\n",
    "save_dir = \"../../../tex/01_regression_resampling/img/\"\n",
    "save=False\n",
    "\n",
    "MSE = r\"\\hat\\mathcal{E}\"\n",
    "var = r\"\\widehat{\\mathrm{Var}}[\\hat f]\"\n",
    "Bias = r\"\\widehat{\\mathrm{Bias}}[\\hat f]\"\n",
    "noise = r\"\\sigma^2\""
   ]
  },
  {
   "cell_type": "markdown",
   "id": "9299ca3d",
   "metadata": {},
   "source": [
    "## Lasso Regression on Franke Function"
   ]
  },
  {
   "cell_type": "code",
   "execution_count": 87,
   "id": "f664ba51",
   "metadata": {},
   "outputs": [],
   "source": [
    "# Model parameters\n",
    "degrees = np.arange(1,11)\n",
    "\n",
    "# Hyperparamters\n",
    "penalties = np.logspace(np.log10(0.0002),0,100)\n",
    "\n",
    "# Data parameters\n",
    "N = 600\n",
    "sigma=0.1\n",
    "x,y,z = random_x_y_franke(N, sigma=sigma)"
   ]
  },
  {
   "cell_type": "code",
   "execution_count": 88,
   "id": "328f85f3",
   "metadata": {},
   "outputs": [
    {
     "data": {
      "application/vnd.jupyter.widget-view+json": {
       "model_id": "9f5ec88c8c58485b8d12d47bb25b00d2",
       "version_major": 2,
       "version_minor": 0
      },
      "text/plain": [
       "  0%|          | 0/100 [00:00<?, ?it/s]"
      ]
     },
     "metadata": {},
     "output_type": "display_data"
    }
   ],
   "source": [
    "# Resampling\n",
    "B = 50\n",
    "\n",
    "prediction_error_bs = np.empty((degrees.shape[0], penalties.shape[0]))\n",
    "bias = np.empty((degrees.shape[0], penalties.shape[0]))\n",
    "variance = np.empty((degrees.shape[0], penalties.shape[0]))\n",
    "\n",
    "for j,penalty in enumerate(tqdm(penalties)):\n",
    "    lasso = make_pipeline(StandardScaler(), Lasso(alpha=penalty, max_iter=1000000))\n",
    "    for k,p in enumerate(degrees):\n",
    "        X = generate_design_matrix(x, y, p)\n",
    "        # We disable shuffling as we want to fit different models to the same trainings data. \n",
    "        # Note that random resampling (draw + replace) still takes place\n",
    "        prediction_error_bs[k,j], bias[k,j], variance[k,j] = \\\n",
    "                predicition_error_bootstrap(squared_error, lasso, X, z, B=B, decomp=True, shuffle=False)"
   ]
  },
  {
   "cell_type": "code",
   "execution_count": 144,
   "id": "0692a842",
   "metadata": {},
   "outputs": [
    {
     "data": {
      "application/vnd.jupyter.widget-view+json": {
       "model_id": "f702b556dd9945078fe92ae6d6c0f199",
       "version_major": 2,
       "version_minor": 0
      },
      "text/plain": [
       "  0%|          | 0/200 [00:00<?, ?it/s]"
      ]
     },
     "metadata": {},
     "output_type": "display_data"
    }
   ],
   "source": [
    "## Rerun cross section at fixed (and not optimal) complexity\n",
    "\n",
    "p = 6 \n",
    "X = generate_design_matrix(x, y, p)\n",
    "\n",
    "# Hyperparamters\n",
    "penalties_cross = np.logspace(np.log10(0.0002),0,200)\n",
    "\n",
    "# Resampling\n",
    "B = 50\n",
    "\n",
    "# Error components from boostrap (1D)\n",
    "prediction_error_bs_cross = np.empty(penalties_cross.shape[0])\n",
    "bias_cross = np.empty(penalties_cross.shape[0])\n",
    "variance_cross = np.empty(penalties_cross.shape[0])\n",
    "\n",
    "# Keep track of regression parameter shrinkage\n",
    "betas = np.empty((penalties_cross.shape[0],X.shape[1] + 1))\n",
    "\n",
    "for j,penalty in enumerate(tqdm(penalties_cross)):\n",
    "    lasso = make_pipeline(StandardScaler(), Lasso(alpha=penalty, max_iter=1000000))\n",
    "    # We disable shuffling as we want to fit different models to the same trainings data. \n",
    "    # Note that random resampling (draw + replace) still takes place\n",
    "    prediction_error_bs_cross[j], bias_cross[j], variance_cross[j] = \\\n",
    "            predicition_error_bootstrap(squared_error, lasso, X, z, B=B, decomp=True, shuffle=False)\n",
    "    betas[j,0] = lasso.steps[-1][1].intercept_\n",
    "    betas[j,1:] = lasso.steps[-1][1].coef_"
   ]
  },
  {
   "cell_type": "code",
   "execution_count": 122,
   "id": "1cd86061",
   "metadata": {},
   "outputs": [
    {
     "data": {
      "image/png": "[encoded data removed]",
      "text/plain": [
       "<Figure size 270x166.86 with 2 Axes>"
      ]
     },
     "metadata": {
      "needs_background": "light"
     },
     "output_type": "display_data"
    }
   ],
   "source": [
    "import matplotlib.colors as colors\n",
    "from mpl_toolkits.axes_grid1.axes_divider import make_axes_locatable\n",
    "\n",
    "save=True\n",
    "kwargs = {\"lw\":2, \n",
    "          \"cmap\":sns.color_palette(\"Reds_r\", as_cmap=True),\n",
    "          \"shading\":\"nearest\",\n",
    "          \"norm\":colors.LogNorm(vmin=0.65 * prediction_error_bs[1:,:].min(), \n",
    "                                vmax=1.2 * prediction_error_bs[1:,:].max()),\n",
    "          \"edgecolor\": \"face\",\n",
    "          \"rasterized\":True,\n",
    "          \"linewidth\": 0\n",
    "         }\n",
    "\n",
    "idx, idy = np.unravel_index(prediction_error_bs.argmin(), prediction_error_bs.shape)\n",
    "\n",
    "size = (3.75, 0.618 * 3.75) if save else (10,6)\n",
    "fig, ax = plt.subplots(figsize=size)\n",
    "\n",
    "ax.set_yscale(\"log\")\n",
    "im = ax.pcolormesh(degrees, penalties, prediction_error_bs.T, **kwargs)\n",
    "\n",
    "ax.scatter(degrees[idx],  penalties[idy], marker=\"x\", color = \"tomato\",s=100,zorder=10)\n",
    "ax.set_xlabel(r'complexity/degree $p$')\n",
    "ax.set_ylabel(r'$\\lambda$', rotation=0)\n",
    "ax.yaxis.set_label_coords(-0.06,1.04)\n",
    "\n",
    "ax_divider = make_axes_locatable(ax)\n",
    "cax = ax_divider.append_axes(\"top\", size=\"7%\", pad=\"2%\")\n",
    "cb = fig.colorbar(im, cax=cax, orientation=\"horizontal\")\n",
    "cax.xaxis.set_ticks_position(\"top\")\n",
    "cax.set_xlabel(rf\"${MSE}$\")\n",
    "cax.xaxis.set_label_position('top')\n",
    "cax.xaxis.set_label_coords(0.5,1.9)\n",
    "ax.axhline(y=penalties[idy], c=\"w\", ls=\"dashed\")\n",
    "ax.axvline(x=degrees[idx], c=\"w\", ls=\"dashed\")\n",
    "ax.set_xlim([1,degrees[-1]])\n",
    "plt.show()\n",
    "\n",
    "if save:\n",
    "    fig.savefig(save_dir + \"lasso_complexity_penalty_MSE_bs.pdf\", dpi=600, bbox_inches=\"tight\", pad_inches=0.05)\n",
    "else:\n",
    "    plt.show()"
   ]
  },
  {
   "cell_type": "code",
   "execution_count": 121,
   "id": "ebaded13",
   "metadata": {},
   "outputs": [
    {
     "data": {
      "image/png": "[encoded data removed]",
      "text/plain": [
       "<Figure size 266.4x164.635 with 1 Axes>"
      ]
     },
     "metadata": {
      "needs_background": "light"
     },
     "output_type": "display_data"
    }
   ],
   "source": [
    "size = (3.7, 0.618 * 3.7) if save else (10,6)\n",
    "fig,ax = plt.subplots(figsize=size)\n",
    "\n",
    "\n",
    "sns.set_palette(\"tab10\")\n",
    "mse_line = ax.plot(degrees, prediction_error_bs[:,idy], label=rf\"${MSE}$\")\n",
    "var_line = ax.plot(degrees, variance[:,idy], label=rf\"${var}$\")\n",
    "bias_line = ax.plot(degrees, bias[:,idy], label=rf\"${Bias}^2 + {noise}$\")\n",
    "sum_line = ax.plot(degrees, variance[:,idy] + bias[:,idy], \n",
    "                   label=rf\"${var} + {Bias}^2 + {noise}$\", ls=\"dashed\")\n",
    "\n",
    "ax.set(xlabel=r\"complexity/degree $p$\")\n",
    "ax.set_ylabel(r\"error\", rotation=0)\n",
    "ax.yaxis.set_label_coords(-0.08,0.93)\n",
    "\n",
    "ax.fill_between(degrees, sigma**2, 0, alpha=.3, linewidth=0, color=\"gray\")\n",
    "ax.axvline(degrees[np.argmin(prediction_error_bs[:,idy])], ls=\"dashed\",c=\"k\")\n",
    "\n",
    "ax.set_xlim([degrees[0],degrees[-1]])\n",
    "ax.set_ylim([0,np.max(prediction_error_bs[:,idy])])\n",
    "\n",
    "ax.legend(*ax.get_legend_handles_labels())\n",
    "first_legend = ax.legend(handles=[mse_line[0],var_line[0]], loc='upper right')\n",
    "ax.add_artist(first_legend)\n",
    "ax.legend(handles=[bias_line[0],sum_line[0]], loc='lower left')\n",
    "ax.grid(True)\n",
    "\n",
    "if save:\n",
    "    fig.savefig(save_dir + \"lasso_decomp_complexity.pdf\")\n",
    "else:\n",
    "    plt.show()"
   ]
  },
  {
   "cell_type": "code",
   "execution_count": 148,
   "id": "d0ea7270",
   "metadata": {},
   "outputs": [
    {
     "data": {
      "image/png": "[encoded data removed]",
      "text/plain": [
       "<Figure size 270x270 with 2 Axes>"
      ]
     },
     "metadata": {
      "needs_background": "light"
     },
     "output_type": "display_data"
    }
   ],
   "source": [
    "kwargs = {\"height_ratios\":[0.618,1]}\n",
    "size = (3.75, 3.75) if save else (10,6)\n",
    "fig, ax = plt.subplots(nrows=2, figsize=size, sharex=True, gridspec_kw=kwargs)\n",
    "plt.subplots_adjust(hspace=0.09)\n",
    "\n",
    "for a in ax:\n",
    "    a.set_yscale(\"log\")\n",
    "    a.set_yscale(\"log\")\n",
    "ax[1].set_xscale(\"log\")\n",
    "\n",
    "#Smooth betas\n",
    "kernel_size = 20\n",
    "kernel = np.ones(kernel_size) / kernel_size\n",
    "betas_smooth = np.apply_along_axis(lambda m: np.convolve(m, kernel, mode='same'), axis=0, arr=betas)\n",
    "\n",
    "# Regression Parameter decay\n",
    "sns.set_palette(\"Reds\",5)\n",
    "for k in [1,2,3,4,5]:\n",
    "     ax[0].plot(penalties_cross, np.abs(betas_smooth[:,k]), label=rf\"k={k}\")\n",
    "ax[0].plot(penalties_cross, np.abs(betas[:,0]), c=\"k\", label=rf\"k=0\")\n",
    "ax[0].set_ylabel(r\"$|\\bar{\\hat{\\beta_k}}|$\", rotation=0)\n",
    "ax[0].yaxis.set_label_coords(-0.05,1.04)\n",
    "ax[0].legend(*ax[0].get_legend_handles_labels(), loc=\"lower left\", ncol=3, bbox_to_anchor=[0,.95])\n",
    "ax[0].text(0.02,0.05,r\"\\textbf{(A)}\",ha=\"left\",va=\"bottom\", transform=ax[0].transAxes)\n",
    "\n",
    "# Error Decomposition\n",
    "ax[1].plot(penalties_cross, prediction_error_bs_cross, label=rf\"${MSE}$\", c=mse_line[0].get_color())\n",
    "ax[1].plot(penalties_cross, bias_cross, label=rf\"${Bias}^2 + {noise}$\", c=bias_line[0].get_color(), ls=\"dashed\")\n",
    "ax[1].plot(penalties_cross, variance_cross, label=rf\"${var}$\", c=var_line[0].get_color())\n",
    "ax[1].text(0.02,0.88,r\"\\textbf{(B)}\",ha=\"left\",va=\"bottom\", transform=ax[1].transAxes)\n",
    "\n",
    "ax[1].set(xlabel=r\"$\\lambda$\")\n",
    "ax[1].set_ylabel(r\"error\", rotation=0)\n",
    "ax[1].yaxis.set_label_coords(-0.08,1.02)\n",
    "ax[1].axhline(y=sigma**2, ls=\"dashed\",color=\"darkgrey\")\n",
    "ax[1].axhline(y=sigma**2/(0.75 * N), ls=\"dashed\",color=\"k\")\n",
    "\n",
    "ax[1].legend(*ax[1].get_legend_handles_labels(), loc=\"lower left\")\n",
    "if save:\n",
    "    fig.savefig(save_dir + \"lasso_decomp_lambda_intercept.pdf\", bbox_inches=\"tight\")\n",
    "else:\n",
    "    plt.show()"
   ]
  },
  {
   "cell_type": "code",
   "execution_count": 115,
   "id": "78eb7cad",
   "metadata": {},
   "outputs": [
    {
     "data": {
      "application/vnd.jupyter.widget-view+json": {
       "model_id": "054ea8c5c939449b86f674f9091ea593",
       "version_major": 2,
       "version_minor": 0
      },
      "text/plain": [
       "  0%|          | 0/100 [00:00<?, ?it/s]"
      ]
     },
     "metadata": {},
     "output_type": "display_data"
    }
   ],
   "source": [
    "# Model parameters\n",
    "degrees = np.arange(1,11)\n",
    "\n",
    "# Hyperparamters\n",
    "penalties = np.logspace(np.log10(0.0002),0,100)\n",
    "\n",
    "# Data parameters\n",
    "N = 600\n",
    "x,y,z = random_x_y_franke(N)\n",
    "\n",
    "# Cross Validation\n",
    "folds = 5\n",
    "\n",
    "prediction_error_kfold = np.empty((degrees.shape[0], penalties.shape[0]))\n",
    "prediction_error_kfold_std = np.empty((degrees.shape[0], penalties.shape[0]))\n",
    "\n",
    "for j,penalty in enumerate(tqdm(penalties)):\n",
    "    lasso = make_pipeline(StandardScaler(), Lasso(alpha=penalty, max_iter=1000000))\n",
    "    for k,p in enumerate(degrees):\n",
    "        X = generate_design_matrix(x, y, p)\n",
    "        prediction_error_kfold[k,j], prediction_error_kfold_std[k,j] = \\\n",
    "            prediction_error_CV(squared_error, lasso, X, z, nfolds=folds)"
   ]
  },
  {
   "cell_type": "code",
   "execution_count": 116,
   "id": "83e1799f",
   "metadata": {},
   "outputs": [
    {
     "data": {
      "image/png": "[encoded data removed]",
      "text/plain": [
       "<Figure size 270x166.86 with 2 Axes>"
      ]
     },
     "metadata": {
      "needs_background": "light"
     },
     "output_type": "display_data"
    }
   ],
   "source": [
    "import matplotlib.colors as colors\n",
    "from mpl_toolkits.axes_grid1.axes_divider import make_axes_locatable\n",
    "\n",
    "save=True\n",
    "kwargs = {\"lw\":2, \n",
    "          \"cmap\":sns.color_palette(\"Oranges_r\", as_cmap=True),\n",
    "          \"shading\":\"nearest\",\n",
    "          \"norm\":colors.LogNorm(vmin=0.65 * prediction_error_bs[1:,:].min(), \n",
    "                                vmax=1.2 * prediction_error_bs[1:,:].max()),\n",
    "          \"edgecolor\": \"face\",\n",
    "          \"rasterized\":True,\n",
    "          \"linewidth\": 0\n",
    "         }\n",
    "\n",
    "idx_cv, idy_cv = np.unravel_index(prediction_error_kfold.argmin(), prediction_error_kfold.shape)\n",
    "\n",
    "size = (3.75, 0.618 * 3.75) if save else (10,6)\n",
    "fig, ax = plt.subplots(figsize=size)\n",
    "\n",
    "ax.set_yscale(\"log\")\n",
    "im = ax.pcolormesh(degrees, penalties, prediction_error_kfold.T, **kwargs)\n",
    "ax.scatter(degrees[idx_cv],  penalties[idy_cv], marker=\"x\", color = \"tomato\",s=100,zorder=10)\n",
    "ax.set_xlabel(r'complexity/degree $p$')\n",
    "ax.set_ylabel(r'$\\lambda$', rotation=0)\n",
    "ax.yaxis.set_label_coords(-0.06,1.04)\n",
    "\n",
    "ax_divider = make_axes_locatable(ax)\n",
    "cax = ax_divider.append_axes(\"top\", size=\"7%\", pad=\"2%\")\n",
    "cb = fig.colorbar(im, cax=cax, orientation=\"horizontal\")\n",
    "cax.xaxis.set_ticks_position(\"top\")\n",
    "cax.set_xlabel(rf\"${MSE}$\")\n",
    "cax.xaxis.set_label_position('top')\n",
    "cax.xaxis.set_label_coords(0.5,1.9)\n",
    "ax.axhline(y=penalties[idy_cv], c=\"w\", ls=\"dashed\")\n",
    "ax.set_xlim([1,degrees[-1]])\n",
    "plt.show()\n",
    "\n",
    "if save:\n",
    "    fig.savefig(save_dir + \"lasso_complexity_penalty_MSE_cv.pdf\", dpi=600, bbox_inches=\"tight\", pad_inches=0.05)\n",
    "else:\n",
    "    plt.show()"
   ]
  },
  {
   "cell_type": "code",
   "execution_count": 123,
   "id": "eecc4be9",
   "metadata": {},
   "outputs": [
    {
     "name": "stdout",
     "output_type": "stream",
     "text": [
      "[0.0285308  0.02132618 0.01504626 0.01517897 0.01412511 0.01411771\n",
      " 0.0144552  0.01483383 0.01479268 0.01414953]\n"
     ]
    },
    {
     "data": {
      "image/png": "[encoded data removed]",
      "text/plain": [
       "<Figure size 273.6x169.085 with 1 Axes>"
      ]
     },
     "metadata": {
      "needs_background": "light"
     },
     "output_type": "display_data"
    }
   ],
   "source": [
    "size = (3.8, 0.618 * 3.8) if save else (10,6)\n",
    "\n",
    "fig, ax = plt.subplots(figsize=size)\n",
    "line =  ax.plot(degrees, prediction_error_kfold[:,idy_cv], label=rf\"${MSE}$\", color=\"darkorange\")\n",
    "ax.plot(degrees, prediction_error_bs[:,idy],  c=\"k\", label=r\"boostrap $(B=50)$\")\n",
    "ax.axvline(x=degrees[np.argmin(prediction_error_kfold[:,idy_cv])], c=\"dimgrey\")\n",
    "ax.axvline(x=degrees[np.argmin(prediction_error_bs[:,idy])], ls=\"dashed\",c=\"k\")\n",
    "\n",
    "ax.fill_between(degrees, \n",
    "                prediction_error_kfold[:,idy_cv]-prediction_error_kfold_std[:,idy_cv], \n",
    "               prediction_error_kfold[:,idy_cv]+prediction_error_kfold_std[:,idy_cv], alpha = 0.3, color=line[0].get_color())\n",
    "ax.fill_between(degrees, sigma**2, 0, alpha=.3, linewidth=0, color=\"gray\")\n",
    "ax.set_ylim([0.005,1.1*np.max(prediction_error_kfold[:,idy_cv])])\n",
    "ax.set(xlabel=r\"complexity/degree $p$\")\n",
    "ax.set_ylabel(rf\"${MSE}$\", rotation=0)\n",
    "ax.yaxis.set_label_coords(-0.06,0.9)\n",
    "\n",
    "if save:\n",
    "    fig.savefig(save_dir + \"lasso_cross_val.pdf\")\n",
    "else:\n",
    "    plt.show()"
   ]
  },
  {
   "cell_type": "markdown",
   "id": "e3dff754",
   "metadata": {},
   "source": [
    "### Model Selection & Model Assessment"
   ]
  },
  {
   "cell_type": "code",
   "execution_count": 141,
   "id": "090995de",
   "metadata": {},
   "outputs": [
    {
     "name": "stdout",
     "output_type": "stream",
     "text": [
      "Optimal lambda (BS): 0.00020000000000000004\n",
      "Optimal p (BS): 6\n",
      "Minimal MSE (bootstrap) = 0.014117709124891995\n",
      "\n",
      "Optimal lambda (CV): 0.00020000000000000004\n",
      "Optimal p (CV): 10\n",
      "Minimal MSE (CV) = 0.014594783622590177 +/- 0.002121422254278716\n",
      "Stored 'lasso_popt_bs' (int64)\n",
      "Stored 'lasso_lambdaopt_bs' (float64)\n"
     ]
    }
   ],
   "source": [
    "# The global minimum in the lambda-p plane (for bootstrap)\n",
    "idx, idy = np.unravel_index(prediction_error_bs.argmin(), prediction_error_bs.shape)\n",
    "# The global minimum in the lambda-p plane (for bootstrap)\n",
    "idx_cv, idy_cv = np.unravel_index(prediction_error_kfold.argmin(), prediction_error_kfold.shape)\n",
    "\n",
    "lasso_mse_min_bs = prediction_error_bs[idx,idy]\n",
    "lasso_mse_min_cv = prediction_error_kfold[idx_cv,idy_cv]\n",
    "\n",
    "lasso_lambdaopt_cv = penalties[idy]\n",
    "lasso_lambdaopt_bs = penalties[idy_cv]\n",
    "\n",
    "lasso_popt_cv = degrees[idx_cv]\n",
    "lasso_popt_bs = degrees[np.argmin(prediction_error_bs[:,idy])]\n",
    "\n",
    "print(f\"Optimal lambda (BS): {lasso_lambdaopt_bs}\")\n",
    "print(f\"Optimal p (BS): {lasso_popt_bs}\")\n",
    "print(f\"Minimal MSE (bootstrap) = {lasso_mse_min_bs}\")\n",
    "print()\n",
    "print(f\"Optimal lambda (CV): {lasso_lambdaopt_cv}\")\n",
    "print(f\"Optimal p (CV): {lasso_popt_cv}\")\n",
    "print(f\"Minimal MSE (CV) = {lasso_mse_min_cv} +/- {prediction_error_kfold_std[idx_cv,idy_cv]}\")\n",
    "\n",
    "%store lasso_popt_bs\n",
    "%store lasso_lambdaopt_bs"
   ]
  },
  {
   "cell_type": "code",
   "execution_count": 142,
   "id": "caf46ade",
   "metadata": {},
   "outputs": [],
   "source": [
    "# New unseen test data\n",
    "Ntest = 200\n",
    "xtest,ytest,ztest = random_x_y_franke(Ntest, seed=100)\n",
    "Xtest = generate_design_matrix(xtest, ytest, lasso_popt_bs)"
   ]
  },
  {
   "cell_type": "code",
   "execution_count": 143,
   "id": "d474dd4a",
   "metadata": {},
   "outputs": [
    {
     "name": "stdout",
     "output_type": "stream",
     "text": [
      "MSE optimal model: 0.017659110776681915\n",
      "R2-score optimal model: 0.7924622173085767\n",
      "Stored 'lasso_opt' (Pipeline)\n"
     ]
    }
   ],
   "source": [
    "lasso_opt = make_pipeline(StandardScaler(), Lasso(alpha=lasso_lambdaopt_bs, max_iter=1000000))\n",
    "\n",
    "# Ideal model...\n",
    "Xtrain = generate_design_matrix(x, y, lasso_popt_bs)\n",
    "\n",
    "# ...trained on entire train+validate set & tested on new test set\n",
    "zpred = lasso_opt.fit(Xtrain, z).predict(Xtest)\n",
    "mse_final = mse(ztest, zpred)\n",
    "r2_final = lasso_opt.score(Xtest, ztest)\n",
    "print(f\"MSE optimal model: {mse_final}\")\n",
    "print(f\"R2-score optimal model: {r2_final}\")\n",
    "%store lasso_opt"
   ]
  },
  {
   "cell_type": "code",
   "execution_count": null,
   "id": "68f4dc22",
   "metadata": {},
   "outputs": [],
   "source": []
  }
 ],
 "metadata": {
  "kernelspec": {
   "display_name": "Python 3 (ipykernel)",
   "language": "python",
   "name": "python3"
  },
  "language_info": {
   "codemirror_mode": {
    "name": "ipython",
    "version": 3
   },
   "file_extension": ".py",
   "mimetype": "text/x-python",
   "name": "python",
   "nbconvert_exporter": "python",
   "pygments_lexer": "ipython3",
   "version": "3.9.7"
  }
 },
 "nbformat": 4,
 "nbformat_minor": 5
}
