{
 "cells": [
  {
   "cell_type": "code",
   "execution_count": 1,
   "id": "a633aa7a",
   "metadata": {},
   "outputs": [],
   "source": [
    "import numpy as np\n",
    "import matplotlib.pyplot as plt\n",
    "from mpl_toolkits.mplot3d import Axes3D\n",
    "import matplotlib.pyplot as plt\n",
    "from matplotlib import cm\n",
    "from matplotlib.ticker import LinearLocator, FormatStrFormatter\n",
    "import numpy as np\n",
    "from random import random, seed\n",
    "from numpy.polynomial.polynomial import polyval2d\n",
    "from sklearn.preprocessing import MinMaxScaler, StandardScaler\n",
    "from sklearn.model_selection import train_test_split\n",
    "from sklearn.linear_model import SGDRegressor"
   ]
  },
  {
   "cell_type": "markdown",
   "id": "5c263a17",
   "metadata": {},
   "source": [
    "## Regressor Implementations"
   ]
  },
  {
   "cell_type": "code",
   "execution_count": 2,
   "id": "3b2c0cfd",
   "metadata": {},
   "outputs": [],
   "source": [
    "from abc import ABC, abstractmethod\n",
    "import metric\n",
    "import numpy as np\n",
    "from sklearn.model_selection import train_test_split\n",
    "from collections import deque  # fixed size FIFO queue\n",
    "import types\n",
    "\n",
    "class LinearModel(ABC):\n",
    "    def __init__(self):\n",
    "        self.params = None\n",
    "\n",
    "    @abstractmethod\n",
    "    def fit(self, X, y):\n",
    "        pass\n",
    "\n",
    "    def predict(self, X):\n",
    "        return X @ self.params\n",
    "\n",
    "    def score(self, X, y):\n",
    "        model = self.predict(X)\n",
    "        mean = np.mean(model)\n",
    "        sq_error = np.dot(y - model, y - model)\n",
    "        return 1 -  sq_error / np.dot(y - mean, y - mean)\n",
    "\n",
    "\n",
    "class OrdinaryLeastSquare(LinearModel):\n",
    "    def __init__(self):\n",
    "        super().__init__()\n",
    "\n",
    "    def fit(self, X, y):\n",
    "        self.params = np.linalg.pinv(X.T @ X) @ X.T @ y\n",
    "            \n",
    "class RidgeRegression(LinearModel):\n",
    "    def __init__(self, penalty):\n",
    "        super().__init__()\n",
    "        self.penalty = penalty\n",
    "\n",
    "    def fit(self, X, y):\n",
    "        p = X.shape[-1]\n",
    "        # Matrix inverse exists for all  penalities > 0 (symmetric + positive-definit)\n",
    "        self.params = np.linalg.inv(X.T @ X + self.penalty*np.eye(p,p)) @ X.T @ y\n",
    "\n",
    "\n",
    "class StochasticGradientDescent(LinearModel):\n",
    "    def __init__(\n",
    "        self,\n",
    "        loss=\"squared_error\",\n",
    "        max_epochs=1000,\n",
    "        batches=None,\n",
    "        shuffle=True,\n",
    "        seed=42,\n",
    "        learning_rate=lambda t, grad: 1e-3,\n",
    "        momentum=0.9,\n",
    "        early_stopping=False,\n",
    "        validation_fraction=0.2,\n",
    "        n_iter_no_change=5,\n",
    "        tol=0.001,\n",
    "        verbose=False\n",
    "    ):\n",
    "        super().__init__()\n",
    "        self.loss = loss\n",
    "        self.max_epochs = max_epochs\n",
    "        self.batches = batches\n",
    "        self.tol = tol\n",
    "        self.shuffle = shuffle\n",
    "        self.seed = seed\n",
    "        self.learning_rate = learning_rate\n",
    "        self.momentum = momentum\n",
    "        self.early_stopping = early_stopping\n",
    "        self.validation_fraction = validation_fraction\n",
    "        self.n_iter_no_change = n_iter_no_change\n",
    "        self.verbose = verbose\n",
    "\n",
    "    def __loss(self, X, y):\n",
    "        y_pred = self.predict(X)\n",
    "        if self.loss == \"squared_error\":\n",
    "            return np.dot(y - y_pred, y - y_pred)\n",
    "        if self.loss == \"ridge\":\n",
    "            return np.dot(y - y_pred, y - y_pred) + self.penalty * np.dot(\n",
    "                self.params, self.params\n",
    "            )\n",
    "\n",
    "    def __gradient_loss(self, X, y):\n",
    "        y_pred = self.predict(X)\n",
    "        if self.loss == \"squared_error\":\n",
    "            return 2 * X.T @ (y_pred - y)\n",
    "        if self.loss == \"ridge\":\n",
    "            return 2 * X.T @ (y_pred - y) + 2 * self.penalty * self.params\n",
    "\n",
    "    def fit(self, X, y):\n",
    "        p = X.shape[-1]\n",
    "        \n",
    "        if self.shuffle:\n",
    "            np.random.seed(self.seed)\n",
    "\n",
    "        # initial parameters ~ U(0,1)\n",
    "        self.params = np.random.rand(p)\n",
    "\n",
    "        if self.batches is None:\n",
    "            # Assume vanilla stochastic gradient descent\n",
    "            self.batches = N\n",
    "\n",
    "        # Do not mess with the original data\n",
    "        X_train = X_test = X\n",
    "        y_train = y_test = y\n",
    "        \n",
    "        if self.early_stopping:\n",
    "            X_train, X_test, y_train, y_test = train_test_split(\n",
    "               X, y, test_size=self.validation_fraction, random_state=self.seed\n",
    "            )\n",
    "\n",
    "        # Initialize the score history such that the optimization proceeds for at\n",
    "        # least n_iter_no_change epochs by assuming that \"past\" epochs have improved\n",
    "        # the score by at least a decrement of tol each. \n",
    "        score_history = deque(\n",
    "           reversed([self.score(X_test, y_test) + i * self.tol for i in range(self.n_iter_no_change)]),\n",
    "        self.n_iter_no_change,\n",
    "        )\n",
    "        param_history = deque(\n",
    "           self.n_iter_no_change * [self.params],\n",
    "           self.n_iter_no_change,\n",
    "        )\n",
    "        \n",
    "        self.iteration = 0\n",
    "        step = 0\n",
    "        learning_rate = 0\n",
    "        for epoch in range(self.max_epochs):\n",
    "            # Randomize training data on each epoch\n",
    "            if self.shuffle:\n",
    "                mini_batches = np.arange(X_train.shape[0])\n",
    "                np.random.shuffle(mini_batches)\n",
    "                mini_batch_indices = np.array_split(mini_batches, self.batches)\n",
    "\n",
    "            for t,mini_batch_idx in enumerate(mini_batch_indices):\n",
    "                x_b = X_train[mini_batch_idx, :]\n",
    "                y_b = y_train[mini_batch_idx]\n",
    "\n",
    "                #Learning rate set by external user-provided policy, dependent on\n",
    "                #optimization iteration and gradient.\n",
    "                grad = self.__gradient_loss(x_b, y_b)\n",
    "                if isinstance(self.learning_rate, types.GeneratorType):\n",
    "                    next(self.learning_rate)\n",
    "                    learning_rate = self.learning_rate.send(grad)\n",
    "                else:\n",
    "                    learning_rate = self.learning_rate(self.iteration, grad)\n",
    "                \n",
    "                step *= self.momentum\n",
    "                step += learning_rate * grad\n",
    "                \n",
    "                self.params = self.params - step\n",
    "                \n",
    "                self.iteration += 1\n",
    "\n",
    "            param_history.appendleft(self.params)\n",
    "            score_history.appendleft(self.score(X_test,y_test))\n",
    "            delta_score = score_history[0]-score_history[-1]\n",
    "            if self.verbose:\n",
    "                print(f\"Epoch {epoch}/{self.max_epochs}\\t Score: {score_history[0]}\\t dScore: {delta_score}\")\n",
    "            \n",
    "            # After each epoch we check for early convergence by computing the R2-score.\n",
    "            # Notice if early_stopping=False, we use the entire training set to compute the\n",
    "            # score (X_train = X_test = X)\n",
    "            # Define convergence as improving R2 by less than tol over the last n_iter_no_change epochs.\n",
    "            # This includes the case of decreasing R2 (delta_score < 0)  \n",
    "            if delta_score < self.tol:\n",
    "                # Pick best parameters within the last n_iter_no_change epochs\n",
    "                self.param = param_history[np.argmax(score_history)]\n",
    "                return\n",
    "                \n",
    "        if self.verbose:\n",
    "            print(\"Maximum number of epochs reached.\")"
   ]
  },
  {
   "cell_type": "code",
   "execution_count": 3,
   "id": "a89ab874",
   "metadata": {},
   "outputs": [],
   "source": [
    "def mse(data, model):\n",
    "    data = data.flatten()\n",
    "    model = model.flatten()\n",
    "    return 1/data.shape[0] * np.dot(data-model,data-model)\n",
    "\n",
    "def r_score(data, model):\n",
    "    data = data.flatten()\n",
    "    model = model.flatten()\n",
    "    mean = np.mean(model)\n",
    "    return 1 - data.shape[0] * mse(data,model)/np.dot(data - mean, data - mean)"
   ]
  },
  {
   "cell_type": "markdown",
   "id": "51ccdc9a",
   "metadata": {},
   "source": [
    "## Ordinary Least Square on Franke Function"
   ]
  },
  {
   "cell_type": "code",
   "execution_count": 4,
   "id": "12886065",
   "metadata": {},
   "outputs": [],
   "source": [
    "def franke_function(x,y):\n",
    "    return 3/4 * np.exp( -1/4*(9*x - 2)**2 - 1/4*(9*y - 2)**2 ) + \\\n",
    "           3/4 * np.exp( -1/49*(9*x + 1)**2 - 1/10*(9*y + 1) ) + \\\n",
    "           1/2 * np.exp( -1/4*(9*x - 7)**2 - 1/4*(9*y - 3)**2 ) - \\\n",
    "           1/5 * np.exp( -(9*x - 4)**2 - (9*y - 7)**2 )"
   ]
  },
  {
   "cell_type": "code",
   "execution_count": 5,
   "id": "bc81529b",
   "metadata": {},
   "outputs": [],
   "source": [
    "def poly2d(x,y,beta):\n",
    "    beta = np.asarray(beta)\n",
    "    # number of features = order*(order+1)/2 (Gauss' summation formula)\n",
    "    order = int((np.sqrt(8*beta.shape[0]+1)-1)/2)\n",
    "    # coefficient matrix with c[i,j] corresponding to coeff for x^i y^j\n",
    "    c = np.zeros((order,order))\n",
    "    # translate coefficient vector into matrix  \n",
    "    idx = np.tile(np.arange(order+1),  (order,1))\n",
    "    offset =  np.repeat(np.arange(order), np.arange(order)+1)\n",
    "    idx = idx[np.tril_indices(order)]\n",
    "    idy = offset - idx\n",
    "    \n",
    "    c[idx, idy] = beta\n",
    "    return polyval2d(x,y,c)"
   ]
  },
  {
   "cell_type": "code",
   "execution_count": 36,
   "id": "fd9f5e85",
   "metadata": {},
   "outputs": [],
   "source": [
    "def generate_franke_data(N, order, sigma=1):\n",
    "    x = np.linspace(0,1,N)\n",
    "    y = np.linspace(0,1,N)\n",
    "    X,Y = np.meshgrid(x,y)\n",
    "    \n",
    "    # forming the cartesian product of x and y coordinates\n",
    "    xy = np.array([X,Y]).T.reshape(-1,2)\n",
    "    z = franke_function(xy[:,0], xy[:,1]) + sigma*np.random.randn(N*N)\n",
    "    \n",
    "    # Setup system matrix M by...\n",
    "    # creating a list of multi-indices alpha with |alpha| = N\n",
    "    alpha = []\n",
    "    for n in range(order):\n",
    "        a = np.arange(n+1)\n",
    "        alpha += zip(a,n-a) \n",
    "\n",
    "    # taking each data point to the power of the respective multindex andforming its product\n",
    "    # M is now the matrix of all possible monomials (column) for each data point (row)\n",
    "    M = np.power(xy[:,np.newaxis,:],alpha)\n",
    "    return np.prod(M, axis=-1), z\n",
    "    "
   ]
  },
  {
   "cell_type": "code",
   "execution_count": 107,
   "id": "3d84f15b",
   "metadata": {},
   "outputs": [
    {
     "name": "stdout",
     "output_type": "stream",
     "text": [
      "R2 = 0.9516016738372579\n",
      "MSE = 0.003818115971516011\n"
     ]
    }
   ],
   "source": [
    "split = True\n",
    "standardize = False\n",
    "\n",
    "p = 5\n",
    "N = 20\n",
    "sigma = 0\n",
    "M, z = generate_franke_data(N, p, sigma)\n",
    "M_train = M_test = M\n",
    "\n",
    "if split:\n",
    "    M_train, M_test, y_train, y_test = train_test_split(M,z)\n",
    "\n",
    "if standardize:\n",
    "    scaler = StandardScaler()\n",
    "    M_train = scaler.fit_transform(M_train)\n",
    "    M_test = scaler.transform(M_test)\n",
    "\n",
    "ols = OrdinaryLeastSquare()\n",
    "ols.fit(M_train,y_train)\n",
    "\n",
    "r2_score = ols.score(M_test, y_test)\n",
    "mse_score = mse(y_test, ols.predict(M_test))\n",
    "print(f\"R2 = {r2_score}\")\n",
    "print(f\"MSE = {mse_score}\")"
   ]
  },
  {
   "cell_type": "code",
   "execution_count": 108,
   "id": "6c264d17",
   "metadata": {},
   "outputs": [
    {
     "data": {
      "image/png": "[encoded data removed]",
      "text/plain": [
       "<Figure size 432x288 with 3 Axes>"
      ]
     },
     "metadata": {
      "needs_background": "light"
     },
     "output_type": "display_data"
    }
   ],
   "source": [
    "x = np.linspace(0,1,N)\n",
    "y = np.linspace(0,1,N)\n",
    "X,Y = np.meshgrid(x,y)\n",
    "\n",
    "    \n",
    "kwargs = {\"lw\":2, \n",
    "          \"cmap\":cm.coolwarm, \n",
    "          \"antialiased\":False}\n",
    "\n",
    "fig = plt.figure()\n",
    "ax_data = fig.add_subplot(131, projection='3d')\n",
    "ax_fit = fig.add_subplot(132, projection='3d')\n",
    "ax_diff = fig.add_subplot(133, projection='3d')\n",
    "\n",
    "fXY = z.reshape(N,N).T\n",
    "fit = ols.predict(M)\n",
    "fit = fit.reshape(N,N).T\n",
    "\n",
    "ax_data.plot_surface(X, Y, fXY, **kwargs)\n",
    "ax_fit.plot_surface(X, Y, fit, **kwargs)\n",
    "ax_diff.plot_surface(X, Y, fit-fXY, **kwargs)\n",
    "\n",
    "plt.show()"
   ]
  },
  {
   "cell_type": "markdown",
   "id": "009ef691",
   "metadata": {},
   "source": [
    "## Model Complexity Sweep"
   ]
  },
  {
   "cell_type": "code",
   "execution_count": 102,
   "id": "478851e5",
   "metadata": {},
   "outputs": [
    {
     "data": {
      "image/png": "[encoded data removed]",
      "text/plain": [
       "<Figure size 1008x360 with 2 Axes>"
      ]
     },
     "metadata": {
      "needs_background": "light"
     },
     "output_type": "display_data"
    }
   ],
   "source": [
    "N = 40\n",
    "sigma = 0.15\n",
    "standardize = False\n",
    "\n",
    "ols = OrdinaryLeastSquare()\n",
    "complexity = np.arange(1, 40)\n",
    "mse_train = []\n",
    "mse_test = []\n",
    "r2_train = []\n",
    "r2_test = []\n",
    "\n",
    "for p in complexity:\n",
    "    M, z = generate_franke_data(N, p, sigma)\n",
    "    M_train, M_test, y_train, y_test = train_test_split(M,z,test_size=0.2)\n",
    "    \n",
    "    if standardize:\n",
    "        scaler = StandardScaler()\n",
    "        M_train = scaler.fit_transform(M_train)\n",
    "        M_test = scaler.transform(M_test)\n",
    "        \n",
    "    ols.fit(M_train,y_train)\n",
    "    \n",
    "    mse_test.append(mse(y_test, ols.predict(M_test)))\n",
    "    mse_train.append(mse(y_train, ols.predict(M_train)))\n",
    "    \n",
    "    r2_test.append(ols.score(M_test, y_test))\n",
    "    r2_train.append(ols.score(M_train, y_train))\n",
    "    \n",
    "fig, ax = plt.subplots(ncols=2, figsize=(14,5))\n",
    "ax[0].plot(complexity, mse_train, label=\"train data\")\n",
    "ax[0].plot(complexity, mse_test, label=\"test data\")\n",
    "ax[0].set(xlabel=\"complexity\", ylabel=\"MSE\")\n",
    "ax[0].legend(*ax[0].get_legend_handles_labels())\n",
    "\n",
    "ax[1].plot(complexity, r2_train, label=\"train data\")\n",
    "ax[1].plot(complexity, r2_test, label=\"test data\")\n",
    "ax[1].set(xlabel=\"complexity\", ylabel=r\"$R^2$-score\")\n",
    "ax[1].legend(*ax[1].get_legend_handles_labels())\n",
    "plt.show()"
   ]
  },
  {
   "cell_type": "markdown",
   "id": "dcb220a7",
   "metadata": {},
   "source": [
    "## Stochastic Gradient Adaptive Learning Rates"
   ]
  },
  {
   "cell_type": "code",
   "execution_count": 91,
   "id": "f707a430",
   "metadata": {},
   "outputs": [],
   "source": [
    "def adagrad():\n",
    "    # initial learning rate\n",
    "    eta0 = 1e-2\n",
    "    # safe-guard against divergence\n",
    "    epsilon = 1e-8\n",
    "    g2_t = 0\n",
    "    while True:\n",
    "        gradient = yield\n",
    "        g2_t += gradient**2\n",
    "        yield eta0 / np.sqrt(epsilon + g2_t)\n",
    "    \n",
    "def rmsprop():\n",
    "    # initial learning rate\n",
    "    eta0 = 1e-3\n",
    "    # decay constant\n",
    "    beta=0.9 \n",
    "    # safe-guard against divergence\n",
    "    epsilon = 1e-8\n",
    "    # moving average of second moment of gradient\n",
    "    g2_t_avg = 0\n",
    "    \n",
    "    while True:\n",
    "        gradient = yield\n",
    "        g2_t_avg = beta*g2_t_avg + (1-beta)*gradient**2\n",
    "        yield eta0 / np.sqrt(epsilon + g2_t_avg)\n",
    "        \n",
    "def adam():\n",
    "    # initial learning rate\n",
    "    eta0 = 1e-3\n",
    "    # decay constant for first moment\n",
    "    beta1=0.9 \n",
    "    # decay constant for second moment \n",
    "    beta2=0.999\n",
    "    # safe-guard against divergence\n",
    "    epsilon = 1e-8\n",
    "    # moving average of second moment of gradient\n",
    "    g2_t_avg = 0\n",
    "    # moving average of first moment of gradient\n",
    "    g_t_avg = 0\n",
    "    \n",
    "    while True:\n",
    "        gradient = yield\n",
    "        g_t_avg = beta1*g_t_avg + (1-beta1)*gradient\n",
    "        g2_t_avg = beta2*g2_t_avg + (1-beta2)*gradient**2\n",
    "        \n",
    "        g_t_avg_corr = g_t_avg/(1-beta1**2)\n",
    "        g2_t_avg_corr = g2_t_avg/(1-beta2**2)\n",
    "        # divide out gradient to conform with structure of standard SGD update (see SVD class defintion)\n",
    "        yield eta0 / (epsilon + np.sqrt(g2_t_avg_corr) + gradient) * g_t_avg"
   ]
  },
  {
   "cell_type": "code",
   "execution_count": 96,
   "id": "b08252df",
   "metadata": {},
   "outputs": [
    {
     "name": "stdout",
     "output_type": "stream",
     "text": [
      "[3.98917369] [2.98527031]\n",
      "0.7672049516503496\n"
     ]
    }
   ],
   "source": [
    "m = 1000\n",
    "x = 2*np.random.rand(m,1)\n",
    "y = 4+3*x+np.random.randn(m,1)\n",
    "\n",
    "#scale = StandardScaler()\n",
    "#x_scaled = scale.fit_transform(x)\n",
    "\n",
    "sgd = SGDRegressor(max_iter = 50, penalty=None, eta0=0.1, early_stopping=True, validation_fraction=0.2)\n",
    "sgd.fit(x,y.ravel())\n",
    "print(sgd.intercept_, sgd.coef_)\n",
    "print(sgd.score(x,y))"
   ]
  },
  {
   "cell_type": "code",
   "execution_count": 97,
   "id": "36ac929f",
   "metadata": {},
   "outputs": [
    {
     "name": "stdout",
     "output_type": "stream",
     "text": [
      "Epoch 0/1000\t Score: 0.7370612300749024\t dScore: 0.6913343205339156\n",
      "Epoch 1/1000\t Score: 0.75286186355466\t dScore: 0.7070349540136732\n",
      "Epoch 2/1000\t Score: 0.7815980748852995\t dScore: 0.7356711653443128\n",
      "Epoch 3/1000\t Score: 0.7793876360927218\t dScore: 0.733360726551735\n",
      "Epoch 4/1000\t Score: 0.780951261336005\t dScore: 0.04389003126110258\n",
      "Epoch 5/1000\t Score: 0.7806005734365484\t dScore: 0.027738709881888424\n",
      "Epoch 6/1000\t Score: 0.7796643218910024\t dScore: -0.0019337529942971\n",
      "[4.02661268 3.08369202]\n",
      "0.7657084887427328\n"
     ]
    }
   ],
   "source": [
    "X = np.c_[np.ones((m,1)), x]\n",
    "X_scaled = np.c_[np.ones((m,1)), x_scaled]\n",
    "sgd_own = StochasticGradientDescent(batches=5, \n",
    "                                    verbose=True, \n",
    "                                    tol=1e-4, \n",
    "                                    momentum=0.6,\n",
    "                                    early_stopping=True, \n",
    "                                    validation_fraction=0.2)\n",
    "sgd_own.fit(X,y.ravel())\n",
    "print(sgd_own.params)\n",
    "print(sgd_own.score(X,y.ravel()))"
   ]
  },
  {
   "cell_type": "code",
   "execution_count": 94,
   "id": "75aeed80",
   "metadata": {},
   "outputs": [
    {
     "data": {
      "text/plain": [
       "array([5.8572576e-05, 0.0000000e+00])"
      ]
     },
     "execution_count": 94,
     "metadata": {},
     "output_type": "execute_result"
    }
   ],
   "source": [
    "a = adam()\n",
    "next(a)\n",
    "a.send(np.array([5,0]))"
   ]
  },
  {
   "cell_type": "code",
   "execution_count": 29,
   "id": "e3e3cfb1",
   "metadata": {},
   "outputs": [
    {
     "data": {
      "text/plain": [
       "array([0.00014869, 0.00019929])"
      ]
     },
     "execution_count": 29,
     "metadata": {},
     "output_type": "execute_result"
    }
   ],
   "source": [
    "next(a)\n",
    "a.send(np.array([0,0]))"
   ]
  },
  {
   "cell_type": "code",
   "execution_count": null,
   "id": "07ddb8a0",
   "metadata": {},
   "outputs": [],
   "source": []
  }
 ],
 "metadata": {
  "kernelspec": {
   "display_name": "Python 3 (ipykernel)",
   "language": "python",
   "name": "python3"
  },
  "language_info": {
   "codemirror_mode": {
    "name": "ipython",
    "version": 3
   },
   "file_extension": ".py",
   "mimetype": "text/x-python",
   "name": "python",
   "nbconvert_exporter": "python",
   "pygments_lexer": "ipython3",
   "version": "3.9.7"
  }
 },
 "nbformat": 4,
 "nbformat_minor": 5
}
