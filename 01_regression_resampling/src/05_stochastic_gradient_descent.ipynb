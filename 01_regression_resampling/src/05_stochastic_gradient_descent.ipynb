{
 "cells": [
  {
   "cell_type": "code",
   "execution_count": 44,
   "id": "1ae47c94",
   "metadata": {},
   "outputs": [],
   "source": [
    "import numpy as np\n",
    "\n",
    "from sklearn.linear_model import SGDRegressor\n",
    "from sklearn.pipeline import make_pipeline\n",
    "from sklearn.preprocessing import StandardScaler\n",
    "\n",
    "import matplotlib as mpl\n",
    "import matplotlib.pyplot as plt\n",
    "from matplotlib.ticker import MaxNLocator\n",
    "from matplotlib import cm\n",
    "import matplotlib.colors as colors\n",
    "from mpl_toolkits.axes_grid1.axes_divider import make_axes_locatable\n",
    "\n",
    "from tqdm.notebook import tqdm # Waiting/loading bar for loops\n",
    "\n",
    "import multiprocess\n",
    "from functools import partial"
   ]
  },
  {
   "cell_type": "code",
   "execution_count": 45,
   "id": "4cca236f",
   "metadata": {},
   "outputs": [
    {
     "name": "stdout",
     "output_type": "stream",
     "text": [
      "The autoreload extension is already loaded. To reload it, use:\n",
      "  %reload_ext autoreload\n"
     ]
    }
   ],
   "source": [
    "# Own implementations\n",
    "%load_ext autoreload\n",
    "%autoreload 2\n",
    "from data_generation import *\n",
    "from linear_model import *\n",
    "from stochastic_gradient_descent import * \n",
    "from transformation import *\n",
    "from pipeline import Pipeline\n",
    "from metric import *\n",
    "from model_selection import *"
   ]
  },
  {
   "cell_type": "code",
   "execution_count": 46,
   "id": "249ff272",
   "metadata": {},
   "outputs": [],
   "source": [
    "# Misc\n",
    "import sys\n",
    "sys.path.insert(0, '../misc')\n",
    "from plots import *"
   ]
  },
  {
   "cell_type": "code",
   "execution_count": 47,
   "id": "32f54558",
   "metadata": {},
   "outputs": [],
   "source": [
    "plt.style.use('../misc/report.mplstyle')\n",
    "\n",
    "# Toggle to save plots as pdf\n",
    "save=True\n",
    "save_dir = \"../../../tex/01_regression_resampling/img/\""
   ]
  },
  {
   "cell_type": "code",
   "execution_count": 48,
   "id": "4726c0b9",
   "metadata": {},
   "outputs": [],
   "source": [
    "# Data generation\n",
    "N = 2048\n",
    "p = 4\n",
    "sigma = 0.1\n",
    "x,y,z = random_x_y_franke(N, sigma=sigma)\n",
    "X = generate_design_matrix(x, y, p)"
   ]
  },
  {
   "cell_type": "code",
   "execution_count": 49,
   "id": "7ca0f992",
   "metadata": {},
   "outputs": [],
   "source": [
    "def relative_error_own_sk(sk_pipeline, sgd_pipeline):\n",
    "    return np.linalg.norm(sk_pipeline.steps[-1][1].coef_ - sgd_pipeline.steps[-1].betas)/np.linalg.norm(sk_pipeline.steps[-1][1].coef_)\n",
    "def relative_error_sk(analytical_pipeline, sgd_sk_pipeline):\n",
    "    return np.linalg.norm(analytical_pipeline.steps[-1].betas - sgd_sk_pipeline.steps[-1][1].coef_)/np.linalg.norm(analytical_pipeline.steps[-1].betas)\n",
    "def relative_error_own(analytical_pipeline, sgd_pipeline):\n",
    "    return np.linalg.norm(analytical_pipeline.steps[-1].betas - sgd_pipeline.steps[-1].betas)/np.linalg.norm(analytical_pipeline.steps[-1].betas)"
   ]
  },
  {
   "cell_type": "markdown",
   "id": "0454d068",
   "metadata": {},
   "source": [
    "## Ordinary Least Squares"
   ]
  },
  {
   "cell_type": "code",
   "execution_count": 134,
   "id": "95873b10",
   "metadata": {},
   "outputs": [],
   "source": [
    "# Compute \"Ground Truth\"\n",
    "ols_pinv = Pipeline([Standardization(), \n",
    "                     OrdinaryLeastSquare(solver=\"pinv\")])\n",
    "ols_pinv.fit(X,z)\n",
    "error_label = r\"$\\mathcal{R}_{\\hat{\\beta}_\\mathrm{OLS}}$\""
   ]
  },
  {
   "cell_type": "markdown",
   "id": "e070e7c8",
   "metadata": {},
   "source": [
    "### Learning Rate Dependency "
   ]
  },
  {
   "cell_type": "code",
   "execution_count": 99,
   "id": "a8937c11",
   "metadata": {},
   "outputs": [
    {
     "data": {
      "application/vnd.jupyter.widget-view+json": {
       "model_id": "dc7dfab0751343ba94052bdc4d8b195a",
       "version_major": 2,
       "version_minor": 0
      },
      "text/plain": [
       "  0%|          | 0/20 [00:00<?, ?it/s]"
      ]
     },
     "metadata": {},
     "output_type": "display_data"
    },
    {
     "data": {
      "application/vnd.jupyter.widget-view+json": {
       "model_id": "d6bfd35384594092b149745f99653402",
       "version_major": 2,
       "version_minor": 0
      },
      "text/plain": [
       "  0%|          | 0/20 [00:00<?, ?it/s]"
      ]
     },
     "metadata": {},
     "output_type": "display_data"
    }
   ],
   "source": [
    "minibatches = N\n",
    "max_epochs = 1000\n",
    "tol=None\n",
    "\n",
    "M = 20\n",
    "lrs_sk = np.logspace(-5,np.log10(0.04),M)\n",
    "\n",
    "def compute_error(lr):\n",
    "    # Pipeline using our SGD implmentation\n",
    "    # Note: The factor of 1/2 in the learning rate to compensate for sklearn's overfall factor of 1/2 in the\n",
    "    #       squared error cost function entering SGDRegressor. See:\n",
    "    #       https://scikit-learn.org/stable/modules/sgd.html#mathematical-formulation\n",
    "    ols_sgd = Pipeline([Standardization(), \n",
    "                         OrdinaryLeastSquare(solver=\"sgd\", \n",
    "                                             learning_rate=lambda t, grad: lr,\n",
    "                                             max_epochs=max_epochs,\n",
    "                                             batches=minibatches,\n",
    "                                             tol=tol)])\n",
    "\n",
    "    ols_sgd.fit(X,z)\n",
    "    \n",
    "    return relative_error_own(ols_pinv, ols_sgd)\n",
    "\n",
    "pool = multiprocess.Pool()\n",
    "result = tqdm(pool.imap(compute_error, lrs_sk), total=M)\n",
    "error_to_analytical= list(result)\n",
    "pool.terminate()\n",
    "\n",
    "sk_error_to_analytical = np.empty(M)\n",
    "\n",
    "for i, lr in enumerate(tqdm(lrs_sk)):    \n",
    "    # Pipeline using sklearn implementations\n",
    "    ols_sk =make_pipeline(StandardScaler(), SGDRegressor(penalty=None, \n",
    "                                                     learning_rate=\"constant\",\n",
    "                                                     eta0=2*lr,\n",
    "                                                     max_iter=max_epochs,\n",
    "                                                     shuffle=True,\n",
    "                                                     random_state=seed,\n",
    "                                                     tol=tol))\n",
    "    \n",
    "    ols_sk.fit(X,z)\n",
    "    sk_error_to_analytical[i] = relative_error_sk(ols_pinv, ols_sk)"
   ]
  },
  {
   "cell_type": "code",
   "execution_count": 100,
   "id": "f550260e",
   "metadata": {},
   "outputs": [
    {
     "data": {
      "image/png": "[encoded data removed]",
      "text/plain": [
       "<Figure size 266.4x164.635 with 1 Axes>"
      ]
     },
     "metadata": {
      "needs_background": "light"
     },
     "output_type": "display_data"
    }
   ],
   "source": [
    "size = (3.7, 0.618 * 3.7) if save else (10,6)\n",
    "fig,ax = plt.subplots(figsize=size)\n",
    "\n",
    "ax.set_xscale(\"log\")\n",
    "ax.set_xlabel(r\"learning rate  $\\gamma$\")\n",
    "ax.set_ylabel(error_label, rotation=0)\n",
    "ax.yaxis.set_label_coords(-0.03,1.03)\n",
    "\n",
    "ax.plot(lrs_sk, sk_error_to_analytical, label=r\"\\texttt{SGDRegressor}\", c=\"orange\", ls=\"dashed\", zorder=3)\n",
    "ax.plot(lrs_sk, error_to_analytical, label=r\"\\texttt{StochasticGradientDescent}\", c=\"green\")\n",
    "\n",
    "ax.legend(*ax.get_legend_handles_labels())\n",
    "ax.set_xlim([1e-5,0.04])\n",
    "ax.set_ylim([0,1])\n",
    "\n",
    "ax.grid(True)\n",
    "\n",
    "if save:\n",
    "    fig.savefig(save_dir + \"sgd_ols_learning_rate.pdf\", bbox_inches=\"tight\")\n",
    "else:\n",
    "    plt.show()"
   ]
  },
  {
   "cell_type": "markdown",
   "id": "a66f4a22",
   "metadata": {},
   "source": [
    "### Dependence on the Number of Mini Batches"
   ]
  },
  {
   "cell_type": "code",
   "execution_count": 86,
   "id": "874ac3da",
   "metadata": {},
   "outputs": [
    {
     "data": {
      "application/vnd.jupyter.widget-view+json": {
       "model_id": "98cdd45184b14a25a9b74fd08dd9bdba",
       "version_major": 2,
       "version_minor": 0
      },
      "text/plain": [
       "  0%|          | 0/12 [00:00<?, ?it/s]"
      ]
     },
     "metadata": {},
     "output_type": "display_data"
    }
   ],
   "source": [
    "minibatches = np.power(2,np.arange(12))\n",
    "max_epochs = 1000\n",
    "tol=None\n",
    "lr = 0.02\n",
    "\n",
    "def compute_error(batches):\n",
    "    ols_sgd = Pipeline([Standardization(), \n",
    "                         OrdinaryLeastSquare(solver=\"sgd\", \n",
    "                                             learning_rate=lambda t, grad: lr,\n",
    "                                             max_epochs=max_epochs,\n",
    "                                             batches=batches,\n",
    "                                             tol=tol)])\n",
    "\n",
    "    ols_sgd.fit(X,z)\n",
    "    \n",
    "    return relative_error_own(ols_pinv, ols_sgd)\n",
    "\n",
    "M = minibatches.shape[0]\n",
    "pool = multiprocess.Pool()\n",
    "result = tqdm(pool.imap(compute_error, minibatches), total=M)\n",
    "error_to_analytical_minibatches = list(result)\n",
    "pool.terminate()"
   ]
  },
  {
   "cell_type": "code",
   "execution_count": 87,
   "id": "18431186",
   "metadata": {},
   "outputs": [
    {
     "data": {
      "image/png": "[encoded data removed]",
      "text/plain": [
       "<Figure size 266.4x164.635 with 1 Axes>"
      ]
     },
     "metadata": {
      "needs_background": "light"
     },
     "output_type": "display_data"
    }
   ],
   "source": [
    "size = (3.7, 0.618 * 3.7) if save else (10,6)\n",
    "fig,ax = plt.subplots(figsize=size)\n",
    "ax.set_xscale('log', base=2)\n",
    "ax.set_xlabel(r\"Mini Batches B\")\n",
    "ax.set_ylabel(error_label, rotation=0)\n",
    "ax.yaxis.set_label_coords(-0.03,1.03)\n",
    "ax.plot(minibatches, error_to_analytical_minibatches, label=r\"\\texttt{StochasticGradientDescent}\", c=\"green\")\n",
    "ax.legend(*ax.get_legend_handles_labels())\n",
    "ax.set_ylim([0,1])\n",
    "ax.grid(True)\n",
    "\n",
    "if save:\n",
    "    fig.savefig(save_dir + \"sgd_ols_minibatches.pdf\", bbox_inches=\"tight\")\n",
    "else:\n",
    "    plt.show()"
   ]
  },
  {
   "cell_type": "markdown",
   "id": "ff5a9807",
   "metadata": {},
   "source": [
    "### Dependence on the Number of Epochs"
   ]
  },
  {
   "cell_type": "code",
   "execution_count": 116,
   "id": "a3a429c0",
   "metadata": {},
   "outputs": [
    {
     "data": {
      "text/plain": [
       "'\\ndef compute_error(max_epoch, minibatch):\\n    \\n    ols_sgd = Pipeline([Standardization(), \\n                         OrdinaryLeastSquare(solver=\"sgd\", \\n                                             learning_rate=lambda t, grad: lr,\\n                                             max_epochs=max_epoch,\\n                                             batches=minibatch,\\n                                             seed=seed,\\n                                             tol=tol)])\\n    \\n\\n    ols_sgd.fit(X,z)\\n    \\n    return relative_error_own(ols_pinv, ols_sgd)\\n\\nM = max_epochs.shape[0]\\nerror_to_analytical_epochs = np.empty((2,M))\\npool = multiprocess.Pool()\\nfor j, minibatch in enumerate(tqdm(minibatches)):\\n    result = pool.map(partial(compute_error, minibatch=minibatch), max_epochs)\\n    error_to_analytical_epochs[j,:] =  list(result)\\npool.terminate()\\n\\nsk_error_to_analytical_epochs = np.empty(M)\\nfor i, max_epoch in enumerate(tqdm(max_epochs)):\\n    ols_sk =make_pipeline(StandardScaler(), SGDRegressor(penalty=None, \\n                                                         learning_rate=\"constant\",\\n                                                         eta0=2*lr,\\n                                                         max_iter=max_epoch,\\n                                                         shuffle=True,\\n                                                         random_state=seed,\\n                                                         tol=tol))\\n    \\n    ols_sk.fit(X,z)\\n    sk_error_to_analytical_epochs[i] = relative_error_sk(ols_pinv, ols_sk)\\n'"
      ]
     },
     "execution_count": 116,
     "metadata": {},
     "output_type": "execute_result"
    }
   ],
   "source": [
    "minibatches = [2**8, N]\n",
    "max_epochs = np.arange(100,12000+100,100)\n",
    "tol=None\n",
    "seed=42\n",
    "lr = 0.02\n",
    "\n",
    "def compute_error(max_epoch, minibatch):\n",
    "    \n",
    "    ols_sgd = Pipeline([Standardization(), \n",
    "                         OrdinaryLeastSquare(solver=\"sgd\", \n",
    "                                             learning_rate=lambda t, grad: lr,\n",
    "                                             max_epochs=max_epoch,\n",
    "                                             batches=minibatch,\n",
    "                                             seed=seed,\n",
    "                                             tol=tol)])\n",
    "    \n",
    "\n",
    "    ols_sgd.fit(X,z)\n",
    "    \n",
    "    return relative_error_own(ols_pinv, ols_sgd)\n",
    "\n",
    "M = max_epochs.shape[0]\n",
    "error_to_analytical_epochs = np.empty((2,M))\n",
    "pool = multiprocess.Pool()\n",
    "for j, minibatch in enumerate(tqdm(minibatches)):\n",
    "    result = pool.map(partial(compute_error, minibatch=minibatch), max_epochs)\n",
    "    error_to_analytical_epochs[j,:] =  list(result)\n",
    "pool.terminate()\n",
    "\n",
    "sk_error_to_analytical_epochs = np.empty(M)\n",
    "for i, max_epoch in enumerate(tqdm(max_epochs)):\n",
    "    ols_sk =make_pipeline(StandardScaler(), SGDRegressor(penalty=None, \n",
    "                                                         learning_rate=\"constant\",\n",
    "                                                         eta0=2*lr,\n",
    "                                                         max_iter=max_epoch,\n",
    "                                                         shuffle=True,\n",
    "                                                         random_state=seed,\n",
    "                                                         tol=tol))\n",
    "    \n",
    "    ols_sk.fit(X,z)\n",
    "    sk_error_to_analytical_epochs[i] = relative_error_sk(ols_pinv, ols_sk)\n"
   ]
  },
  {
   "cell_type": "code",
   "execution_count": 120,
   "id": "2cafd627",
   "metadata": {},
   "outputs": [
    {
     "name": "stderr",
     "output_type": "stream",
     "text": [
      "/tmp/ipykernel_19897/2620494804.py:20: UserWarning: FixedFormatter should only be used together with FixedLocator\n",
      "  ax.set_xticklabels(labels)\n"
     ]
    },
    {
     "data": {
      "image/png": "[encoded data removed]",
      "text/plain": [
       "<Figure size 280.8x173.534 with 1 Axes>"
      ]
     },
     "metadata": {
      "needs_background": "light"
     },
     "output_type": "display_data"
    }
   ],
   "source": [
    "size = (3.9, 0.618 * 3.9) if save else (10,6)\n",
    "sns.set_palette(\"Greens\",2)\n",
    "fig,ax = plt.subplots(figsize=size)\n",
    "\n",
    "ax.set_yscale(\"log\")\n",
    "max_epochs = np.arange(100,12000+100,100)\n",
    "ax.set_xlabel(r\"epochs\")\n",
    "ax.set_ylabel(error_label, rotation=0)\n",
    "ax.yaxis.set_label_coords(-0.03,1.03)\n",
    "for i in range(error_to_analytical_epochs.shape[0]):\n",
    "    batches = minibatches[i]\n",
    "    ax.plot(max_epochs, error_to_analytical_epochs[i,:], label=rf\"\\texttt{{SGD}} (B = {batches})\")\n",
    "ax.plot(max_epochs, sk_error_to_analytical_epochs, label=r\"\\texttt{SGDRegressor}\", c=\"orange\", ls=\"dashed\")\n",
    "ax.legend(*ax.get_legend_handles_labels())\n",
    "ax.set_ylim([4e-3,1.1])\n",
    "\n",
    "plt.draw()\n",
    "labels = ax.get_xticklabels()\n",
    "labels[-1] = \"\"\n",
    "ax.set_xticklabels(labels)\n",
    "\n",
    "if save:\n",
    "    fig.savefig(save_dir + \"sgd_ols_epochs.pdf\")\n",
    "else:\n",
    "    plt.show()"
   ]
  },
  {
   "cell_type": "markdown",
   "id": "b756d126",
   "metadata": {},
   "source": [
    "### Adaptive Learning Rate Schedule"
   ]
  },
  {
   "cell_type": "code",
   "execution_count": 125,
   "id": "ab11c86c",
   "metadata": {},
   "outputs": [
    {
     "data": {
      "application/vnd.jupyter.widget-view+json": {
       "model_id": "2aa86ba1fedc41448b34b90c198b7267",
       "version_major": 2,
       "version_minor": 0
      },
      "text/plain": [
       "  0%|          | 0/4 [00:00<?, ?it/s]"
      ]
     },
     "metadata": {},
     "output_type": "display_data"
    }
   ],
   "source": [
    "eta0 = 0.02\n",
    "schedules = [Constant(log=True, eta0=eta0), \n",
    "             InverseScaling(log=True, eta0=eta0), \n",
    "             AdaGrad(log=True, eta0=eta0), \n",
    "             RMSProp(log=True, eta0=eta0)]\n",
    "\n",
    "minibatches = N//4\n",
    "max_epochs = 1000\n",
    "tol=None\n",
    "seed=42\n",
    "\n",
    "M = len(schedules)\n",
    "error_to_analytical_schedules = np.empty(M)\n",
    "for i,schedule in enumerate(tqdm(schedules)):\n",
    "    ols_sgd = Pipeline([Standardization(), \n",
    "                         OrdinaryLeastSquare(solver=\"sgd\", \n",
    "                                             learning_rate=schedule,\n",
    "                                             max_epochs=max_epochs,\n",
    "                                             batches=minibatches,\n",
    "                                             seed=seed,\n",
    "                                             tol=tol)])\n",
    "\n",
    "    ols_sgd.fit(X,z)\n",
    "    error_to_analytical_schedules[i] = relative_error_own(ols_pinv, ols_sgd)"
   ]
  },
  {
   "cell_type": "code",
   "execution_count": 127,
   "id": "66a792a3",
   "metadata": {},
   "outputs": [
    {
     "name": "stdout",
     "output_type": "stream",
     "text": [
      "(14,)\n"
     ]
    }
   ],
   "source": [
    "#Adagrad and RMSProp yield feature-specific learning rates.\n",
    "#Only show the mean of all\n",
    "\n",
    "print(schedules[2].learning_rates[0].shape)\n",
    "schedules[2].learning_rates = np.mean(schedules[2].learning_rates, axis=1)\n",
    "schedules[3].learning_rates = np.mean(schedules[3].learning_rates, axis=1)"
   ]
  },
  {
   "cell_type": "code",
   "execution_count": 137,
   "id": "e2e928a3",
   "metadata": {},
   "outputs": [
    {
     "data": {
      "image/png": "[encoded data removed]",
      "text/plain": [
       "<Figure size 259.2x259.2 with 2 Axes>"
      ]
     },
     "metadata": {
      "needs_background": "light"
     },
     "output_type": "display_data"
    }
   ],
   "source": [
    "labels = [r\"\\texttt{Constant}\",r\"\\texttt{InvScaling}\",r\"\\texttt{AdaGrad}\",r\"\\texttt{RMSProp}\"]\n",
    "\n",
    "kwargs = {\"height_ratios\":[0.618,1]}\n",
    "size = (3.6, 3.6) if save else (10,6)\n",
    "sns.set_palette(\"tab10\",4)\n",
    "fig, ax = plt.subplots(nrows=2, figsize=size, gridspec_kw=kwargs)\n",
    "plt.subplots_adjust(hspace=0.09)\n",
    "\n",
    "ax[0].set_xscale(\"log\")\n",
    "ax[0].set_yscale(\"log\")\n",
    "ax[0].xaxis.tick_top()\n",
    "ax[0].xaxis.set_label_position('top') \n",
    "ax[0].set_ylabel(r\"$\\gamma$\")\n",
    "ax[0].set_xlabel(r\"$j$\")\n",
    "ax[0].xaxis.set_label_coords(.95,1.12)\n",
    "ax[0].text(.03,.05,r\"\\textbf{(A)}\",transform=ax[0].transAxes,c=\"k\")\n",
    "\n",
    "for label,schedule in zip(labels,schedules):\n",
    "    lr = np.array(schedule.learning_rates)\n",
    "    log_idx = np.unique(np.geomspace(1, len(lr), \n",
    "                                     num=100, \n",
    "                                     endpoint=False).astype(int))\n",
    "    ax[0].plot(log_idx,lr[log_idx],label=label)\n",
    "    \n",
    "ax[1].set_ylabel(error_label)\n",
    "ax[1].scatter(labels,error_to_analytical_schedules, c=\"C2\")\n",
    "\n",
    "for a in ax:\n",
    "    a.legend(*a.get_legend_handles_labels(), \n",
    "             ncol=2, \n",
    "             bbox_to_anchor=[0.05,1.2],\n",
    "             loc=\"lower left\")\n",
    "ax[1].margins(x=0.1) \n",
    "ax[1].text(.03,.05,r\"\\textbf{(B)}\",transform=ax[1].transAxes,c=\"k\")\n",
    "\n",
    "if save:\n",
    "    fig.savefig(save_dir + \"sgd_ols_schedule.pdf\", bbox_inches=\"tight\")\n",
    "else:\n",
    "    plt.show()"
   ]
  },
  {
   "cell_type": "markdown",
   "id": "590aaa20",
   "metadata": {},
   "source": [
    "## Ridge Regression"
   ]
  },
  {
   "cell_type": "markdown",
   "id": "e9040f55",
   "metadata": {},
   "source": [
    "### Learning Rate Dependency "
   ]
  },
  {
   "cell_type": "code",
   "execution_count": 132,
   "id": "d1543607",
   "metadata": {},
   "outputs": [
    {
     "data": {
      "application/vnd.jupyter.widget-view+json": {
       "model_id": "c8eaad6b6a89409ba28428cabbdd427e",
       "version_major": 2,
       "version_minor": 0
      },
      "text/plain": [
       "  0%|          | 0/16 [00:00<?, ?it/s]"
      ]
     },
     "metadata": {},
     "output_type": "display_data"
    },
    {
     "data": {
      "application/vnd.jupyter.widget-view+json": {
       "model_id": "5143d69613134d99bb90984ec4f41253",
       "version_major": 2,
       "version_minor": 0
      },
      "text/plain": [
       "  0%|          | 0/16 [00:00<?, ?it/s]"
      ]
     },
     "metadata": {},
     "output_type": "display_data"
    }
   ],
   "source": [
    "from functools import partial\n",
    "\n",
    "minibatches = N\n",
    "max_epochs = 1000\n",
    "tol=None\n",
    "seed=42\n",
    "M = 20\n",
    "lrs = np.logspace(-5,np.log10(0.04),M)\n",
    "penalties=np.hstack((np.logspace(-7,-2,6), np.logspace(-1,2,10)))\n",
    "\n",
    "def compute_error(lr, penalty):\n",
    "    # Pipeline using our SGD implmentation\n",
    "    # Note: \n",
    "    #  (i)  The factor of 1/2 in the learning rate to compensate for sklearn's overfall factor of 1/2 in the\n",
    "    #       squared error cost function *and* the L2 penalty entering SGDRegressor. See:\n",
    "    #       https://scikit-learn.org/stable/modules/sgd.html#mathematical-formulation\n",
    "    #  (ii) The factor 1/N for the penalties\n",
    "    ridge_sgd = Pipeline([Standardization(), \n",
    "                          RidgeRegression(solver=\"sgd\", \n",
    "                                            penalty=penalty/N,\n",
    "                                            learning_rate=lambda t, grad: lr,\n",
    "                                            max_epochs=max_epochs,\n",
    "                                            batches=minibatches,\n",
    "                                            seed=seed,\n",
    "                                            tol=tol)])\n",
    "    ridge_inv = Pipeline([Standardization(), \n",
    "                     RidgeRegression(penalty=penalty, solver=\"inv\")])\n",
    "    \n",
    "    ridge_inv.fit(X,z)\n",
    "    ridge_sgd.fit(X,z)\n",
    "    \n",
    "    return relative_error_own(ridge_inv, ridge_sgd)\n",
    "\n",
    "pool = multiprocess.Pool()\n",
    "\n",
    "error_ridge_to_analytical = np.empty((penalties.shape[0],lrs.shape[0]))\n",
    "\n",
    "for j, penalty in enumerate(tqdm(penalties)):\n",
    "    result = pool.map(partial(compute_error, penalty=penalty), lrs)\n",
    "    error_ridge_to_analytical[j,:] =  list(result)\n",
    "\n",
    "sk_error_ridge_to_analytical = np.empty((penalties.shape[0],lrs.shape[0]))\n",
    "\n",
    "for j, penalty in enumerate(tqdm(penalties)):\n",
    "    for i, lr in enumerate(lrs): \n",
    "        ridge_sk =make_pipeline(StandardScaler(), SGDRegressor(penalty=\"l2\", \n",
    "                                                             alpha=penalty/N,\n",
    "                                                             learning_rate=\"constant\",\n",
    "                                                             eta0=2*lr,\n",
    "                                                             max_iter=max_epochs,\n",
    "                                                             shuffle=True,\n",
    "                                                             random_state=seed,\n",
    "                                                             tol=tol))\n",
    "        ridge_inv = Pipeline([Standardization(), \n",
    "                     RidgeRegression(penalty=penalty, solver=\"inv\")])\n",
    "    \n",
    "        ridge_inv.fit(X,z)\n",
    "        ridge_sk.fit(X,z)\n",
    "        sk_error_ridge_to_analytical[j,i] = relative_error_sk(ridge_inv, ridge_sk)\n"
   ]
  },
  {
   "cell_type": "code",
   "execution_count": 150,
   "id": "fe859649",
   "metadata": {},
   "outputs": [
    {
     "name": "stdout",
     "output_type": "stream",
     "text": [
      "4.6415888336127775\n"
     ]
    },
    {
     "data": {
      "image/png": "[encoded data removed]",
      "text/plain": [
       "<Figure size 432x288 with 1 Axes>"
      ]
     },
     "metadata": {
      "needs_background": "light"
     },
     "output_type": "display_data"
    }
   ],
   "source": [
    "fig, ax = plt.subplots()\n",
    "i=-5\n",
    "print(penalties[i])\n",
    "ax.set_xscale(\"log\")\n",
    "ax.set_xlabel(r\"learning rate  $\\gamma$\")\n",
    "ax.set_ylabel(r\"$\\frac{||\\hat{\\beta}^\\mathrm{SGD}_\\mathrm{OLS} - \\hat{\\beta}_\\mathrm{OLS}||_2}{||\\hat{\\beta}_\\mathrm{OLS}||_2}$\")\n",
    "ax.plot(lrs, error_ridge_to_analytical[i,:], label=r\"\\texttt{StochasticGradientDescent} (this work)\")\n",
    "ax.plot(lrs, sk_error_ridge_to_analytical[i,:], ls=\"dashed\", label=r\"\\texttt{SGDRegressor} (sklearn)\")\n",
    "ax.legend(*ax.get_legend_handles_labels())\n",
    "ax.set_xlim([1e-5,0.07])\n",
    "ax.set_ylim([0,1])\n",
    "plt.show()"
   ]
  },
  {
   "cell_type": "code",
   "execution_count": 170,
   "id": "07b51bd7",
   "metadata": {},
   "outputs": [
    {
     "data": {
      "image/png": "[encoded data removed]",
      "text/plain": [
       "<Figure size 619.2x247.68 with 4 Axes>"
      ]
     },
     "metadata": {
      "needs_background": "light"
     },
     "output_type": "display_data"
    }
   ],
   "source": [
    "import matplotlib.colors as colors\n",
    "from mpl_toolkits.axes_grid1.axes_divider import make_axes_locatable\n",
    "\n",
    "error_label = r\"$\\mathcal{R}_{\\hat{\\beta}_\\mathrm{R}}$\"\n",
    "cmap = sns.color_palette(\"Blues_r\", as_cmap=True).copy()\n",
    "cmap.set_bad(\"dimgray\")\n",
    "kwargs = { \n",
    "          \"cmap\":cmap,\n",
    "          \"shading\":\"nearest\",\n",
    "          \"vmin\":0,\n",
    "          \"vmax\":1.1,\n",
    "          \"edgecolor\": \"face\",\n",
    "          \"rasterized\":True,\n",
    "          \"linewidth\": 0\n",
    "         }\n",
    "\n",
    "fig, ax = plt.subplots(figsize=(8.6,8.6*0.4), ncols=2, sharey=True)\n",
    "for a in ax:\n",
    "    a.grid(False)\n",
    "    a.set_yscale(\"log\")\n",
    "    a.set_xscale(\"log\")\n",
    "    a.set_xlabel(r'$\\gamma$')\n",
    "    a.set_ylim([penalties[0],penalties[-1]])\n",
    "\n",
    "masked_error_ridge_to_analytical = error_ridge_to_analytical\n",
    "masked_error_ridge_to_analytical[error_ridge_to_analytical>1] = np.nan\n",
    "\n",
    "im = ax[0].pcolormesh(lrs, penalties, masked_error_ridge_to_analytical, **kwargs)\n",
    "ax[0].plot(lrs, 1/(N*lrs), c=\"tomato\", label=r\"$\\frac{1}{N\\gamma}$\")\n",
    "ax[0].legend(*ax[0].get_legend_handles_labels(), loc=\"lower left\")\n",
    "ax[0].set_ylabel(r'$\\lambda$', rotation=0)\n",
    "ax[0].yaxis.set_label_coords(-0.06,.95)\n",
    "ax[0].text(.87,.92,r\"\\textbf{(A)}\",transform=ax[0].transAxes,c=\"w\")\n",
    "\n",
    "ax_divider = make_axes_locatable(ax[0])\n",
    "cax = ax_divider.append_axes(\"top\", size=\"7%\", pad=\"2%\")\n",
    "cax.grid(False)\n",
    "cb = fig.colorbar(im, cax=cax, orientation=\"horizontal\")\n",
    "cax.xaxis.set_ticks_position(\"top\")\n",
    "cax.set_xlabel(error_label)\n",
    "cax.xaxis.set_label_position('top')\n",
    "cax.xaxis.set_label_coords(0.5,3.5)\n",
    "\n",
    "residual = np.abs(error_ridge_to_analytical - sk_error_ridge_to_analytical)\n",
    "del kwargs[\"vmin\"]\n",
    "del kwargs[\"vmax\"]\n",
    "residual_cmap = sns.color_palette(\"rocket\", as_cmap=True).copy()\n",
    "residual_cmap.set_bad(\"dimgray\")\n",
    "kwargs[\"cmap\"] = residual_cmap\n",
    "kwargs[\"norm\"] = colors.LogNorm(vmin=1e-8, \n",
    "                                vmax=.1)\n",
    "\n",
    "im = ax[1].pcolormesh(lrs, penalties, residual, **kwargs)\n",
    "ax_divider = make_axes_locatable(ax[1])\n",
    "cax2 = ax_divider.append_axes(\"top\", size=\"7%\", pad=\"2%\")\n",
    "cax2.grid(False)\n",
    "cb = fig.colorbar(im, cax=cax2, orientation=\"horizontal\")\n",
    "cax2.xaxis.set_ticks_position(\"top\")\n",
    "cax2.set_xlabel(r\"$|\\hat\\beta_\\mathrm{R}^\\texttt{SGD}-\\hat\\beta_\\mathrm{R}^{\\texttt{sk}}|$\")\n",
    "cax2.xaxis.set_label_position('top')\n",
    "cax2.xaxis.set_label_coords(0.5,3.5)\n",
    "ax[1].text(.03,.05,r\"\\textbf{(B)}\",transform=ax[1].transAxes,c=\"w\")\n",
    "\n",
    "plt.subplots_adjust(wspace=0.05)\n",
    "\n",
    "if save:\n",
    "    fig.savefig(save_dir + \"sgd_ridge_learning_rate.pdf\", bbox_inches=\"tight\")\n",
    "else:\n",
    "    plt.show()"
   ]
  },
  {
   "cell_type": "markdown",
   "id": "47ddeb34",
   "metadata": {},
   "source": [
    "### Dependence on the Number of Mini Batches"
   ]
  },
  {
   "cell_type": "code",
   "execution_count": 166,
   "id": "93d623b3",
   "metadata": {},
   "outputs": [
    {
     "data": {
      "application/vnd.jupyter.widget-view+json": {
       "model_id": "e1260c4f93bc43849b237c14c2660ef5",
       "version_major": 2,
       "version_minor": 0
      },
      "text/plain": [
       "  0%|          | 0/16 [00:00<?, ?it/s]"
      ]
     },
     "metadata": {},
     "output_type": "display_data"
    }
   ],
   "source": [
    "penalties=np.hstack((np.logspace(-7,-2,6), np.logspace(-1,2,10)))\n",
    "minibatches = np.power(2,np.arange(12))\n",
    "max_epochs = 1000\n",
    "tol=None\n",
    "seed=42\n",
    "lr = 0.02\n",
    "\n",
    "def compute_error(minibatch_number, penalty):\n",
    "    # Pipeline using our SGD implmentation\n",
    "    # Note: \n",
    "    #  (ii) The factor 1/N for the penalties\n",
    "    ridge_sgd = Pipeline([Standardization(), \n",
    "                          RidgeRegression(solver=\"sgd\", \n",
    "                                            penalty=penalty/minibatch_number,\n",
    "                                            learning_rate=lambda t, grad: lr,\n",
    "                                            max_epochs=max_epochs,\n",
    "                                            batches=minibatch_number,\n",
    "                                            seed=seed,\n",
    "                                            tol=tol)])\n",
    "    ridge_inv = Pipeline([Standardization(), \n",
    "                     RidgeRegression(penalty=penalty, solver=\"inv\")])\n",
    "    \n",
    "    ridge_inv.fit(X,z)\n",
    "    ridge_sgd.fit(X,z)\n",
    "    \n",
    "    return relative_error_own(ridge_inv, ridge_sgd)\n",
    "\n",
    "pool = multiprocess.Pool()\n",
    "\n",
    "error_ridge_to_analytical_minibatches = np.empty((penalties.shape[0],minibatches.shape[0]))\n",
    "\n",
    "for j, penalty in enumerate(tqdm(penalties)):\n",
    "    result = pool.map(partial(compute_error, penalty=penalty), minibatches)\n",
    "    error_ridge_to_analytical_minibatches[j,:] =  list(result)"
   ]
  },
  {
   "cell_type": "code",
   "execution_count": 169,
   "id": "fb92e773",
   "metadata": {},
   "outputs": [
    {
     "data": {
      "image/png": "[encoded data removed]",
      "text/plain": [
       "<Figure size 280.8x173.534 with 2 Axes>"
      ]
     },
     "metadata": {
      "needs_background": "light"
     },
     "output_type": "display_data"
    }
   ],
   "source": [
    "import matplotlib.colors as colors\n",
    "from mpl_toolkits.axes_grid1.axes_divider import make_axes_locatable\n",
    "\n",
    "error_label = r\"$\\mathcal{R}_{\\hat{\\beta}_\\mathrm{R}}$\"\n",
    "cmap = sns.color_palette(\"Blues_r\", as_cmap=True).copy()\n",
    "cmap.set_bad(\"dimgray\")\n",
    "kwargs = { \n",
    "          \"cmap\":cmap,\n",
    "          \"shading\":\"nearest\",\n",
    "          \"vmin\":0,\n",
    "          \"vmax\":1.1,\n",
    "          \"edgecolor\": \"face\",\n",
    "          \"rasterized\":True,\n",
    "          \"linewidth\": 0\n",
    "         }\n",
    "\n",
    "fig, ax = plt.subplots(figsize=(3.9,3.9*0.618))\n",
    "ax.grid(False)\n",
    "ax.set_yscale(\"log\")\n",
    "ax.set_xscale(\"log\", base=2)\n",
    "ax.set_xlabel(r'Mini Batches B')\n",
    "ax.set_ylabel(r'$\\lambda$', rotation=0)\n",
    "ax.yaxis.set_label_coords(-0.06,1.05)\n",
    "ax.set_ylim([penalties[0],penalties[-1]])\n",
    "ax.set_xlim([minibatches[0], minibatches[-1]])\n",
    "\n",
    "im = ax.pcolormesh(minibatches, penalties, error_ridge_to_analytical_minibatches, **kwargs)\n",
    "ax.plot(minibatches, 1/(minibatches*lr), c=\"tomato\", label=r\"$\\frac{1}{B\\gamma}$\")\n",
    "ax.legend(*ax.get_legend_handles_labels(), loc=\"lower left\")\n",
    "\n",
    "ax_divider = make_axes_locatable(ax)\n",
    "cax = ax_divider.append_axes(\"top\", size=\"7%\", pad=\"2%\")\n",
    "cax.grid(False)\n",
    "cb = fig.colorbar(im, cax=cax, orientation=\"horizontal\")\n",
    "cax.xaxis.set_ticks_position(\"top\")\n",
    "cax.set_xlabel(error_label)\n",
    "cax.xaxis.set_label_position('top')\n",
    "cax.xaxis.set_label_coords(0.5,3.5)\n",
    "\n",
    "if save:\n",
    "    fig.savefig(save_dir + \"sgd_ridge_minibatches.pdf\", bbox_inches=\"tight\")\n",
    "else:\n",
    "    plt.show()"
   ]
  },
  {
   "cell_type": "markdown",
   "id": "17715d07",
   "metadata": {},
   "source": [
    "### Dependence on the Number of Epochs"
   ]
  },
  {
   "cell_type": "code",
   "execution_count": 188,
   "id": "5e26ee8a",
   "metadata": {},
   "outputs": [
    {
     "data": {
      "application/vnd.jupyter.widget-view+json": {
       "model_id": "31402536e01943ea8eed88c41fcdf6ff",
       "version_major": 2,
       "version_minor": 0
      },
      "text/plain": [
       "  0%|          | 0/16 [00:00<?, ?it/s]"
      ]
     },
     "metadata": {},
     "output_type": "display_data"
    }
   ],
   "source": [
    "from functools import partial\n",
    "\n",
    "penalties=np.hstack((np.logspace(-7,-2,6), np.logspace(-1,2,10)))\n",
    "minibatches = 2**8\n",
    "max_epochs = np.arange(0,11000,1000); max_epochs[0]=100\n",
    "tol=None\n",
    "seed=42\n",
    "lr = 0.02\n",
    "\n",
    "def compute_error(max_epoch, penalty):\n",
    "    # Pipeline using our SGD implmentation\n",
    "    # Note: \n",
    "    #  (ii) The factor 1/N for the penalties\n",
    "    ridge_sgd = Pipeline([Standardization(), \n",
    "                          RidgeRegression(solver=\"sgd\", \n",
    "                                            penalty=penalty/minibatches,\n",
    "                                            learning_rate=lambda t, grad: lr,\n",
    "                                            max_epochs=max_epoch,\n",
    "                                            batches=minibatches,\n",
    "                                            seed=seed,\n",
    "                                            tol=tol)])\n",
    "    ridge_inv = Pipeline([Standardization(), \n",
    "                     RidgeRegression(penalty=penalty, solver=\"inv\")])\n",
    "    \n",
    "    ridge_inv.fit(X,z)\n",
    "    ridge_sgd.fit(X,z)\n",
    "    \n",
    "    return relative_error_own(ridge_inv, ridge_sgd)\n",
    "\n",
    "pool = multiprocess.Pool()\n",
    "\n",
    "error_ridge_to_analytical_epoch = np.empty((penalties.shape[0],max_epochs.shape[0]))\n",
    "\n",
    "for j, penalty in enumerate(tqdm(penalties)):\n",
    "    result = pool.map(partial(compute_error, penalty=penalty), max_epochs)\n",
    "    error_ridge_to_analytical_epoch[j,:] =  list(result)\n"
   ]
  },
  {
   "cell_type": "code",
   "execution_count": 189,
   "id": "c5738d78",
   "metadata": {},
   "outputs": [
    {
     "name": "stderr",
     "output_type": "stream",
     "text": [
      "/tmp/ipykernel_19897/2557530048.py:43: UserWarning: FixedFormatter should only be used together with FixedLocator\n",
      "  ax.set_xticklabels(labels)\n"
     ]
    },
    {
     "data": {
      "image/png": "[encoded data removed]",
      "text/plain": [
       "<Figure size 280.8x173.534 with 2 Axes>"
      ]
     },
     "metadata": {
      "needs_background": "light"
     },
     "output_type": "display_data"
    }
   ],
   "source": [
    "import matplotlib.colors as colors\n",
    "from mpl_toolkits.axes_grid1.axes_divider import make_axes_locatable\n",
    "\n",
    "error_label = r\"$\\mathcal{R}_{\\hat{\\beta}_\\mathrm{R}}$\"\n",
    "cmap = sns.color_palette(\"Blues_r\", as_cmap=True).copy()\n",
    "cmap.set_bad(\"dimgray\")\n",
    "kwargs = { \n",
    "          \"cmap\":cmap,\n",
    "          \"shading\":\"nearest\",\n",
    "          \"vmin\":0,\n",
    "          \"vmax\":1.1,\n",
    "          \"edgecolor\": \"face\",\n",
    "          \"rasterized\":True,\n",
    "          \"linewidth\": 0\n",
    "         }\n",
    "\n",
    "fig, ax = plt.subplots(figsize=(3.9,3.9*0.618))\n",
    "ax.grid(False)\n",
    "ax.set_yscale(\"log\")\n",
    "#ax.set_xscale(\"log\", base=2)\n",
    "ax.set_xlabel(r'epochs')\n",
    "ax.set_ylabel(r'$\\lambda$', rotation=0)\n",
    "ax.yaxis.set_label_coords(-0.06,.95)\n",
    "ax.set_ylim([penalties[0],penalties[-1]])\n",
    "ax.set_xlim([max_epochs[0], max_epochs[-1]])\n",
    "\n",
    "im = ax.pcolormesh(max_epochs, penalties, error_ridge_to_analytical_epoch, **kwargs)\n",
    "#ax.plot(minibatches, 1/(2*minibatches*lr), c=\"tomato\", label=r\"$\\frac{1}{2B\\gamma}$\")\n",
    "#ax.legend(*ax.get_legend_handles_labels(), loc=\"lower left\")\n",
    "\n",
    "ax_divider = make_axes_locatable(ax)\n",
    "cax = ax_divider.append_axes(\"top\", size=\"7%\", pad=\"2%\")\n",
    "cax.grid(False)\n",
    "cb = fig.colorbar(im, cax=cax, orientation=\"horizontal\")\n",
    "cax.xaxis.set_ticks_position(\"top\")\n",
    "cax.set_xlabel(error_label)\n",
    "cax.xaxis.set_label_position('top')\n",
    "cax.xaxis.set_label_coords(0.5,3.5)\n",
    "\n",
    "plt.draw()\n",
    "labels = ax.get_xticklabels()\n",
    "labels[-1] = \"\"\n",
    "ax.set_xticklabels(labels)\n",
    "    \n",
    "if save:\n",
    "    fig.savefig(save_dir + \"sgd_ridge_epochs.pdf\", bbox_inches=\"tight\")\n",
    "else:\n",
    "    plt.show()"
   ]
  },
  {
   "cell_type": "markdown",
   "id": "2ce09ee4",
   "metadata": {},
   "source": [
    "### Adaptive Learning Rate Schedule"
   ]
  },
  {
   "cell_type": "code",
   "execution_count": 171,
   "id": "888a4281",
   "metadata": {},
   "outputs": [
    {
     "data": {
      "application/vnd.jupyter.widget-view+json": {
       "model_id": "0d4a846cb71544eeac095045a6e7140e",
       "version_major": 2,
       "version_minor": 0
      },
      "text/plain": [
       "  0%|          | 0/32 [00:00<?, ?it/s]"
      ]
     },
     "metadata": {},
     "output_type": "display_data"
    }
   ],
   "source": [
    "eta0 = 0.02\n",
    "\n",
    "schedules = [Constant(log=True, eta0=eta0),\n",
    "             InverseScaling(log=True, eta0=eta0), \n",
    "             AdaGrad(log=True, eta0=eta0), \n",
    "             RMSProp(log=True, eta0=eta0)]\n",
    "\n",
    "penalties=np.hstack((np.logspace(-7,-4,4), np.logspace(-3,2,28)))\n",
    "minibatches = N//4\n",
    "max_epochs = 2000\n",
    "tol=None\n",
    "seed=42\n",
    "lr = 0.02\n",
    "\n",
    "def compute_error(schedule, penalty):\n",
    "    ridge_sgd = Pipeline([Standardization(), \n",
    "                          RidgeRegression(solver=\"sgd\", \n",
    "                                            penalty=penalty/minibatches,\n",
    "                                            learning_rate=schedule,\n",
    "                                            max_epochs=max_epochs,\n",
    "                                            batches=minibatches,\n",
    "                                            seed=seed,\n",
    "                                            tol=tol)])\n",
    "    ridge_inv = Pipeline([Standardization(), \n",
    "                     RidgeRegression(penalty=penalty, solver=\"inv\")])\n",
    "    \n",
    "    ridge_inv.fit(X,z)\n",
    "    ridge_sgd.fit(X,z)\n",
    "    \n",
    "    return relative_error_own(ridge_inv, ridge_sgd), schedule\n",
    "\n",
    "pool = multiprocess.Pool()\n",
    "\n",
    "error_ridge_to_analytical_schedules = np.empty((penalties.shape[0],len(schedules)))\n",
    "used_schedules = np.empty((penalties.shape[0],len(schedules)), dtype=object)\n",
    "\n",
    "for j, penalty in enumerate(tqdm(penalties)):\n",
    "    result,used_schedule = zip(*pool.map(partial(compute_error, penalty=penalty), schedules))\n",
    "    error_ridge_to_analytical_schedules[j,:] = list(result)\n",
    "    used_schedules[j,:] = list(used_schedule)\n"
   ]
  },
  {
   "cell_type": "code",
   "execution_count": 184,
   "id": "e4d77767",
   "metadata": {},
   "outputs": [
    {
     "data": {
      "image/png": "[encoded data removed]",
      "text/plain": [
       "<Figure size 280.8x173.534 with 1 Axes>"
      ]
     },
     "metadata": {
      "needs_background": "light"
     },
     "output_type": "display_data"
    }
   ],
   "source": [
    "labels = [r\"\\texttt{Constant}\",r\"\\texttt{InvScaling}\",r\"\\texttt{AdaGrad}\",r\"\\texttt{RMSProp}\"]\n",
    "\n",
    "fig, ax = plt.subplots(figsize=(3.9,3.9*0.618))\n",
    "\n",
    "for i, label in enumerate(labels):\n",
    "    ax.plot(penalties, error_ridge_to_analytical_schedules[:,i], label=label)\n",
    "\n",
    "ax.set_xscale(\"log\")\n",
    "#ax.set_yscale(\"log\")\n",
    "ax.set_xlabel(r\"$\\lambda$\")\n",
    "ax.set_ylabel(error_label)\n",
    "ax.set_ylim([0,1])\n",
    "\n",
    "ax.legend(*ax.get_legend_handles_labels())\n",
    "\n",
    "if save:\n",
    "    fig.savefig(save_dir + \"sgd_ridge_schedule.pdf\", bbox_inches=\"tight\")\n",
    "else:\n",
    "    plt.show()"
   ]
  },
  {
   "cell_type": "markdown",
   "id": "5bb4d582",
   "metadata": {},
   "source": [
    "## Profiling the mess we created"
   ]
  },
  {
   "cell_type": "code",
   "execution_count": 51,
   "id": "140933ff",
   "metadata": {},
   "outputs": [
    {
     "name": "stdout",
     "output_type": "stream",
     "text": [
      "Timer unit: 1e-06 s\n",
      "\n",
      "Total time: 1.56578 s\n",
      "File: /Users/timzimmermann/Documents/PhD/courses/compsci/projects/01_regression_resampling/src/linear_model.py\n",
      "Function: gradient_loss at line 60\n",
      "\n",
      "Line #      Hits         Time  Per Hit   % Time  Line Contents\n",
      "==============================================================\n",
      "    60                                               def gradient_loss(self, X, y, p):\n",
      "    61    204800     555739.0      2.7     35.5          y_pred = X @ p\n",
      "    62    204800    1010040.0      4.9     64.5          return 2 * X.T @ (y_pred - y)\n",
      "\n",
      "Total time: 7.03604 s\n",
      "File: /Users/timzimmermann/Documents/PhD/courses/compsci/projects/01_regression_resampling/src/linear_model.py\n",
      "Function: fit at line 64\n",
      "\n",
      "Line #      Hits         Time  Per Hit   % Time  Line Contents\n",
      "==============================================================\n",
      "    64                                               def fit(self, X, y):\n",
      "    65                                           \n",
      "    66         1        245.0    245.0      0.0          X, X_mean, y, y_mean = self._center_data(X, y)\n",
      "    67                                           \n",
      "    68         1          2.0      2.0      0.0          if self.solver == \"pinv\":\n",
      "    69                                                       self.betas = np.linalg.pinv(X.T @ X) @ X.T @ y\n",
      "    70         1          0.0      0.0      0.0          if self.solver == \"sgd\":\n",
      "    71         1    7035772.0 7035772.0    100.0              self.betas = self.sgd.minimize(self.loss, self.gradient_loss, X, y)\n",
      "    72                                           \n",
      "    73         1         15.0     15.0      0.0          self._compute_intercept(X_mean, y_mean)\n",
      "    74                                           \n",
      "    75         1          1.0      1.0      0.0          return self\n",
      "\n",
      "Total time: 7.03728 s\n",
      "File: /Users/timzimmermann/Documents/PhD/courses/compsci/projects/01_regression_resampling/src/pipeline.py\n",
      "Function: fit at line 26\n",
      "\n",
      "Line #      Hits         Time  Per Hit   % Time  Line Contents\n",
      "==============================================================\n",
      "    26                                               def fit(self, X, y):\n",
      "    27         1    7037281.0 7037281.0    100.0          self.steps[-1].fit(self.__fit_transform(X), y)\n",
      "    28         1          0.0      0.0      0.0          return self\n",
      "\n",
      "Total time: 5.33648 s\n",
      "File: /Users/timzimmermann/Documents/PhD/courses/compsci/projects/01_regression_resampling/src/stochastic_gradient_descent.py\n",
      "Function: minimize at line 82\n",
      "\n",
      "Line #      Hits         Time  Per Hit   % Time  Line Contents\n",
      "==============================================================\n",
      "    82                                               def minimize(self, loss_function, gradient_loss, X, y):\n",
      "    83                                           \n",
      "    84                                                   # Toggle for reproducability\n",
      "    85         1          1.0      1.0      0.0          if self.shuffle:\n",
      "    86         1         52.0     52.0      0.0              np.random.seed(self.seed)\n",
      "    87                                           \n",
      "    88         1          1.0      1.0      0.0          N = X.shape[0]\n",
      "    89         1          1.0      1.0      0.0          if self.batches is None:\n",
      "    90                                                       # Assume vanilla stochastic gradient descent, i.e.\n",
      "    91                                                       # each minibatch has only one element\n",
      "    92                                                       self.batches = N\n",
      "    93                                           \n",
      "    94                                                   # global minimization time, passed to the learning_rate functor\n",
      "    95         1          1.0      1.0      0.0          self.iteration = 1\n",
      "    96         1          1.0      1.0      0.0          epochs_wo_improvement = 0\n",
      "    97                                           \n",
      "    98                                                   # fiducial initial loss\n",
      "    99         1          1.0      1.0      0.0          best_loss = np.inf\n",
      "   100                                           \n",
      "   101                                                   # Same initial guess as in SGDRegressor\n",
      "   102         1          7.0      7.0      0.0          p = best_p = np.zeros(X.shape[1])\n",
      "   103                                           \n",
      "   104         1          9.0      9.0      0.0          minibatch_boundaries = np.arange(0, N, N // self.batches)\n",
      "   105         1          1.0      1.0      0.0          if N % self.batches == 0:\n",
      "   106         1        110.0    110.0      0.0              minibatch_boundaries = np.hstack((minibatch_boundaries, N))\n",
      "   107                                                   else:\n",
      "   108                                                       minibatch_boundaries[-1] = N\n",
      "   109                                           \n",
      "   110                                                   # Merge X and y along the last dimension for combined shuffle.\n",
      "   111                                                   # Note we could also use an 1D-array holding indices, say idx, and shuffle\n",
      "   112                                                   # only idx. Advanced indexing, i.e. X[idx,:] and y[idx], would then\n",
      "   113                                                   # yield the sought after, randomized mini batches. Unfortunately,\n",
      "   114                                                   # advanced indexing implies a copy (and does not return a view), which\n",
      "   115                                                   # makes a call to minimize roughly 18% slower if self.batches = N\n",
      "   116                                                   # (we profiled it...a lot...)\n",
      "   117         1        556.0    556.0      0.0          Xy = np.c_[X, y]\n",
      "   118         1          6.0      6.0      0.0          step = 0\n",
      "   119       101         82.0      0.8      0.0          for epoch in range(self.max_epochs):\n",
      "   120                                           \n",
      "   121       100         80.0      0.8      0.0              if self.shuffle:\n",
      "   122                                                           # For reasons not enirely clear, using permutation instead of\n",
      "   123                                                           # shuffle is 33% faster (compared to using shuffle) ¯\\_(ツ)_/¯\n",
      "   124       100      19610.0    196.1      0.4                  Xy = np.random.permutation(Xy)\n",
      "   125                                           \n",
      "   126    204900     152551.0      0.7      2.9              for i in range(minibatch_boundaries.shape[0] - 1):\n",
      "   127    204800     225015.0      1.1      4.2                  start = minibatch_boundaries[i]\n",
      "   128    204800     196656.0      1.0      3.7                  end = minibatch_boundaries[i + 1]\n",
      "   129    204800     303087.0      1.5      5.7                  X_b = Xy[start:end, :-1]\n",
      "   130    204800     239781.0      1.2      4.5                  y_b = Xy[start:end, -1]\n",
      "   131                                           \n",
      "   132    204800    2379397.0     11.6     44.6                  mean_minibatch_grad = 1.0 / X_b.shape[0] * gradient_loss(X_b, y_b, p)\n",
      "   133                                           \n",
      "   134                                                           # Learning rate is set by external, user-provided policy, dependent on\n",
      "   135                                                           # optimization iteration (for e.g. inverse scaling) and/or past\n",
      "   136                                                           # gradient (for e.g. RMSProp, ADAM, etc.).\n",
      "   137    409600     668007.0      1.6     12.5                  p -= (\n",
      "   138    409600     790396.0      1.9     14.8                      self.learning_rate(self.iteration, mean_minibatch_grad)\n",
      "   139    204800     134799.0      0.7      2.5                      * mean_minibatch_grad\n",
      "   140                                                           )\n",
      "   141                                           \n",
      "   142    204800     226174.0      1.1      4.2                  self.iteration += 1\n",
      "   143                                           \n",
      "   144                                                       # Early converence test if user provides an absolut tolerance.\n",
      "   145                                                       # If not (i.e. self.tol=None), descent proceeds until max_epochs is reached\n",
      "   146       100         96.0      1.0      0.0              if self.tol:\n",
      "   147                                                           # Check convergence after each epoch. In accordance with sklearn,\n",
      "   148                                                           # we define convergence being achieved, if\n",
      "   149                                                           #               loss_function(X, y) > best_loss - tol\n",
      "   150                                                           # is satisfied for n_iter_no_change epochs. Note that:\n",
      "   151                                                           # (i) the *entire* trainings data is used to compute the loss\n",
      "   152                                                           current_loss = loss_function(X, y, p)\n",
      "   153                                                           if current_loss > best_loss - self.tol * N:\n",
      "   154                                                               epochs_wo_improvement += 1\n",
      "   155                                                           if epochs_wo_improvement == self.n_iter_no_change:\n",
      "   156                                                               return best_p\n",
      "   157                                                           else:\n",
      "   158                                                               best_loss = current_loss\n",
      "   159                                                               best_p = p\n",
      "   160                                                               epochs_wo_improvement = 0\n",
      "   161                                           \n",
      "   162         1          1.0      1.0      0.0          return p\n",
      "\n"
     ]
    }
   ],
   "source": [
    "from line_profiler import LineProfiler\n",
    "\n",
    "minibatches = N\n",
    "max_epochs = 100\n",
    "tol=None\n",
    "seed=42\n",
    "lr = 1e-5\n",
    "profile=True\n",
    "\n",
    "ols_sgd = Pipeline([Standardization(), \n",
    "                         OrdinaryLeastSquare(solver=\"sgd\", \n",
    "                                             learning_rate=Constant(eta0=lr),\n",
    "                                             max_epochs=max_epochs,\n",
    "                                             batches=minibatches,\n",
    "                                             seed=seed,\n",
    "                                             tol=tol)])\n",
    "\n",
    "if profile:\n",
    "    lp = LineProfiler()\n",
    "    lp.add_function(OrdinaryLeastSquare.gradient_loss)\n",
    "    lp.add_function(StochasticGradientDescent.minimize)\n",
    "    lp.add_function(OrdinaryLeastSquare.fit)\n",
    "    lp_wrapper=lp(ols_sgd.fit)\n",
    "    lp_wrapper(X,z)\n",
    "    lp.print_stats()"
   ]
  },
  {
   "cell_type": "code",
   "execution_count": null,
   "id": "da0568e8",
   "metadata": {},
   "outputs": [],
   "source": []
  }
 ],
 "metadata": {
  "kernelspec": {
   "display_name": "Python 3 (ipykernel)",
   "language": "python",
   "name": "python3"
  },
  "language_info": {
   "codemirror_mode": {
    "name": "ipython",
    "version": 3
   },
   "file_extension": ".py",
   "mimetype": "text/x-python",
   "name": "python",
   "nbconvert_exporter": "python",
   "pygments_lexer": "ipython3",
   "version": "3.9.7"
  }
 },
 "nbformat": 4,
 "nbformat_minor": 5
}
