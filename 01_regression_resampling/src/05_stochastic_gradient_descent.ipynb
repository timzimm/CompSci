{
 "cells": [
  {
   "cell_type": "code",
   "execution_count": 1,
   "id": "1ae47c94",
   "metadata": {},
   "outputs": [],
   "source": [
    "import numpy as np\n",
    "\n",
    "from sklearn.linear_model import SGDRegressor\n",
    "from sklearn.pipeline import make_pipeline\n",
    "from sklearn.preprocessing import StandardScaler\n",
    "\n",
    "import matplotlib.pyplot as plt\n",
    "from matplotlib.ticker import MaxNLocator\n",
    "from matplotlib import cm\n",
    "import matplotlib.colors as colors\n",
    "from mpl_toolkits.axes_grid1.axes_divider import make_axes_locatable\n",
    "\n",
    "from tqdm.notebook import tqdm # Waiting/loading bar for loops\n",
    "\n",
    "import multiprocess\n",
    "from line_profiler import LineProfiler"
   ]
  },
  {
   "cell_type": "code",
   "execution_count": 2,
   "id": "4cca236f",
   "metadata": {},
   "outputs": [],
   "source": [
    "# Own implementations\n",
    "%load_ext autoreload\n",
    "%autoreload 2\n",
    "from data_generation import *\n",
    "from linear_model import *\n",
    "from transformation import *\n",
    "from pipeline import Pipeline\n",
    "from metric import *\n",
    "from model_selection import *"
   ]
  },
  {
   "cell_type": "code",
   "execution_count": 3,
   "id": "249ff272",
   "metadata": {},
   "outputs": [],
   "source": [
    "# Misc\n",
    "import sys\n",
    "sys.path.insert(0, '../misc')\n",
    "from plots import *"
   ]
  },
  {
   "cell_type": "code",
   "execution_count": 4,
   "id": "32f54558",
   "metadata": {},
   "outputs": [],
   "source": [
    "plt.style.use('../misc/report.mplstyle')\n",
    "\n",
    "# Toggle to save plots as pdf\n",
    "save=True\n",
    "save_dir = \"../../../tex/01_regression_resampling/img/\""
   ]
  },
  {
   "cell_type": "code",
   "execution_count": 5,
   "id": "4726c0b9",
   "metadata": {},
   "outputs": [],
   "source": [
    "# Data generation\n",
    "N = 2000\n",
    "p = 4\n",
    "sigma = 0.1\n",
    "x,y,z = random_x_y_franke(N, sigma=sigma)\n",
    "X = generate_design_matrix(x, y, p)"
   ]
  },
  {
   "cell_type": "code",
   "execution_count": 6,
   "id": "7ca0f992",
   "metadata": {},
   "outputs": [],
   "source": [
    "def relative_error_sk(analytical_pipeline, sgd_sk_pipeline):\n",
    "    return np.linalg.norm(analytical_pipeline.steps[-1].betas - sgd_sk_pipeline.steps[-1][1].coef_)/np.linalg.norm(analytical_pipeline.steps[-1].betas)\n",
    "def relative_error_own(analytical_pipeline, sgd_pipeline):\n",
    "    return np.linalg.norm(analytical_pipeline.steps[-1].betas - sgd_pipeline.steps[-1].betas)/np.linalg.norm(analytical_pipeline.steps[-1].betas)"
   ]
  },
  {
   "cell_type": "markdown",
   "id": "0454d068",
   "metadata": {},
   "source": [
    "## Ordinary Least Squares"
   ]
  },
  {
   "cell_type": "code",
   "execution_count": 7,
   "id": "95873b10",
   "metadata": {},
   "outputs": [
    {
     "data": {
      "text/plain": [
       "<pipeline.Pipeline at 0x15ede0820>"
      ]
     },
     "execution_count": 7,
     "metadata": {},
     "output_type": "execute_result"
    }
   ],
   "source": [
    "# Compute \"Ground Truth\"\n",
    "ols_pinv = Pipeline([Standardization(), \n",
    "                     OrdinaryLeastSquare(solver=\"pinv\")])\n",
    "ols_pinv.fit(X,z)"
   ]
  },
  {
   "cell_type": "code",
   "execution_count": 69,
   "id": "140933ff",
   "metadata": {},
   "outputs": [
    {
     "name": "stdout",
     "output_type": "stream",
     "text": [
      "Timer unit: 1e-06 s\n",
      "\n",
      "Total time: 0.6176 s\n",
      "File: /Users/timzimmermann/Documents/PhD/courses/compsci/projects/01_regression_resampling/src/linear_model.py\n",
      "Function: gradient_loss at line 60\n",
      "\n",
      "Line #      Hits         Time  Per Hit   % Time  Line Contents\n",
      "==============================================================\n",
      "    60                                               def gradient_loss(self, X, y, p):\n",
      "    61    100000     217538.0      2.2     35.2          y_pred = X @ p\n",
      "    62    100000     400062.0      4.0     64.8          return 1.0 / X.shape[0] * X.T @ (y_pred - y)\n",
      "\n",
      "Total time: 2.91008 s\n",
      "File: /Users/timzimmermann/Documents/PhD/courses/compsci/projects/01_regression_resampling/src/linear_model.py\n",
      "Function: fit at line 64\n",
      "\n",
      "Line #      Hits         Time  Per Hit   % Time  Line Contents\n",
      "==============================================================\n",
      "    64                                               def fit(self, X, y):\n",
      "    65                                           \n",
      "    66         1        274.0    274.0      0.0          X, X_mean, y, y_mean = self._center_data(X, y)\n",
      "    67                                           \n",
      "    68         1          3.0      3.0      0.0          if self.solver == \"pinv\":\n",
      "    69                                                       self.betas = np.linalg.pinv(X.T @ X) @ X.T @ y\n",
      "    70         1          1.0      1.0      0.0          if self.solver == \"sgd\":\n",
      "    71         1    2909796.0 2909796.0    100.0              self.betas = self.sgd.minimize(self.__loss, self.gradient_loss, X, y)\n",
      "    72                                           \n",
      "    73         1          8.0      8.0      0.0          self._compute_intercept(X_mean, y_mean)\n",
      "    74                                           \n",
      "    75         1          1.0      1.0      0.0          return self\n",
      "\n",
      "Total time: 2.91232 s\n",
      "File: /Users/timzimmermann/Documents/PhD/courses/compsci/projects/01_regression_resampling/src/pipeline.py\n",
      "Function: fit at line 26\n",
      "\n",
      "Line #      Hits         Time  Per Hit   % Time  Line Contents\n",
      "==============================================================\n",
      "    26                                               def fit(self, X, y):\n",
      "    27         1    2912318.0 2912318.0    100.0          self.steps[-1].fit(self.__fit_transform(X), y)\n",
      "    28         1          1.0      1.0      0.0          return self\n",
      "\n",
      "Total time: 2.35171 s\n",
      "File: /Users/timzimmermann/Documents/PhD/courses/compsci/projects/01_regression_resampling/src/stochastic_gradient_descent.py\n",
      "Function: minimize at line 28\n",
      "\n",
      "Line #      Hits         Time  Per Hit   % Time  Line Contents\n",
      "==============================================================\n",
      "    28                                               def minimize(self, loss_function, gradient_loss, X, y):\n",
      "    29                                                   # Toggle for reproducability\n",
      "    30         1          2.0      2.0      0.0          if self.shuffle:\n",
      "    31         1         19.0     19.0      0.0              np.random.seed(self.seed)\n",
      "    32                                           \n",
      "    33         1          2.0      2.0      0.0          if self.batches is None:\n",
      "    34                                                       # Assume vanilla stochastic gradient descent, i.e.\n",
      "    35                                                       # each minibatch has only one element\n",
      "    36                                                       self.batches = X.shape[0]\n",
      "    37                                           \n",
      "    38                                                   # global minimization time, passed to the learning_rate functor\n",
      "    39         1          2.0      2.0      0.0          self.iteration = 1\n",
      "    40         1          1.0      1.0      0.0          epochs_wo_improvement = 0\n",
      "    41                                           \n",
      "    42                                                   # fiducial initial loss\n",
      "    43         1          2.0      2.0      0.0          best_loss = np.inf\n",
      "    44                                                   # initial guess for parameters ~ U(0,1)\n",
      "    45         1         13.0     13.0      0.0          p = best_p = np.random.rand(X.shape[1])\n",
      "    46                                           \n",
      "    47         1          1.0      1.0      0.0          step = 0\n",
      "    48       101         64.0      0.6      0.0          for epoch in range(self.max_epochs):\n",
      "    49                                                       # initial index array from which minibatches will be formed\n",
      "    50       100        550.0      5.5      0.0              mini_batches = np.arange(X.shape[0])\n",
      "    51                                           \n",
      "    52       100         73.0      0.7      0.0              if self.shuffle:\n",
      "    53       100       3711.0     37.1      0.2                  np.random.shuffle(mini_batches)\n",
      "    54                                           \n",
      "    55       100        121.0      1.2      0.0              if X.shape[0] % self.batches != 0:\n",
      "    56                                                           mini_batch_indices = np.array_split(mini_batches, self.batches)\n",
      "    57                                                       else:\n",
      "    58       100        215.0      2.1      0.0                  mini_batch_indices = mini_batches.reshape(self.batches, -1)\n",
      "    59                                           \n",
      "    60                                                       # Learning rate is set by external, user-provided policy, dependent on\n",
      "    61                                                       # optimization iteration (for e.g. inverse scaling) and/or past gradient\n",
      "    62                                                       # (for e.g. RMSProp, ADAM, etc.).\n",
      "    63    100100      78260.0      0.8      3.3              for mini_batch_idx in mini_batch_indices:\n",
      "    64                                                           # Advanced indexing implies a deep-copy. Thus, the order of\n",
      "    65                                                           # observations in X stays untouched.\n",
      "    66    100000     292212.0      2.9     12.4                  X_b = X[mini_batch_idx, :]\n",
      "    67    100000      85778.0      0.9      3.6                  y_b = y[mini_batch_idx]\n",
      "    68                                           \n",
      "    69    100000     844030.0      8.4     35.9                  grad = gradient_loss(X_b, y_b, p)\n",
      "    70                                           \n",
      "    71                                                           # Two types of of user policies are supported:\n",
      "    72                                                           # (i) Generators with internal state (e.g. sum of past\n",
      "    73                                                           # gradients)\n",
      "    74    100000     113361.0      1.1      4.8                  if isinstance(self.learning_rate, types.GeneratorType):\n",
      "    75                                                               next(self.learning_rate)\n",
      "    76                                                               learning_rate = self.learning_rate.send(grad)\n",
      "    77                                                           # (ii) lambdas acting as pure function, i.e. no internal state\n",
      "    78                                                           else:\n",
      "    79    100000     114539.0      1.1      4.9                      learning_rate = self.learning_rate(self.iteration, grad)\n",
      "    80                                           \n",
      "    81    100000     331488.0      3.3     14.1                  step *= self.momentum\n",
      "    82    100000     276538.0      2.8     11.8                  step += learning_rate * grad\n",
      "    83                                           \n",
      "    84    100000     120220.0      1.2      5.1                  p = p - step\n",
      "    85                                           \n",
      "    86    100000      90432.0      0.9      3.8                  self.iteration += 1\n",
      "    87                                           \n",
      "    88                                                       # Early converence test if user provides an absolut tolerance.\n",
      "    89                                                       # If not (i.e. self.tol=None), descent proceeds until max_epochs is reached\n",
      "    90       100         75.0      0.8      0.0              if self.tol:\n",
      "    91                                                           # Check convergence after each epoch. In accordance with sklearn,\n",
      "    92                                                           # we define convergence being achieved, if\n",
      "    93                                                           #               loss_function(X, y) > best_loss - tol\n",
      "    94                                                           # is satisfied for n_iter_no_change epochs. Note that:\n",
      "    95                                                           # (i) the *entire* trainings data is used to compute the loss\n",
      "    96                                                           current_loss = loss_function(X, y, p)\n",
      "    97                                                           if current_loss > best_loss - self.tol:\n",
      "    98                                                               epochs_wo_improvement += 1\n",
      "    99                                                           if epochs_wo_improvement == self.n_iter_no_change:\n",
      "   100                                                               return best_p\n",
      "   101                                                           else:\n",
      "   102                                                               best_loss = current_loss\n",
      "   103                                                               best_p = p\n",
      "   104                                                               epochs_wo_improvement = 0\n",
      "   105                                           \n",
      "   106         1          1.0      1.0      0.0          return p\n",
      "\n"
     ]
    }
   ],
   "source": [
    "minibatches = N//2\n",
    "max_epochs = 100\n",
    "tol=None\n",
    "seed=42\n",
    "lr = 1e-5\n",
    "profile=True\n",
    "\n",
    "ols_sgd = Pipeline([Standardization(), \n",
    "                         OrdinaryLeastSquare(solver=\"sgd\", \n",
    "                                             learning_rate=lambda t, grad: lr,\n",
    "                                             max_epochs=max_epochs,\n",
    "                                             batches=minibatches,\n",
    "                                             seed=seed,\n",
    "                                             tol=tol)])\n",
    "\n",
    "ols_sgd.fit(X,z)\n",
    "\n",
    "if profile:\n",
    "    lp = LineProfiler()\n",
    "    lp.add_function(OrdinaryLeastSquare.gradient_loss)\n",
    "    lp.add_function(StochasticGradientDescent.minimize)\n",
    "    lp.add_function(OrdinaryLeastSquare.fit)\n",
    "    lp_wrapper=lp(ols_sgd.fit)\n",
    "    lp_wrapper(X,z)\n",
    "    lp.print_stats()\n",
    "    \n"
   ]
  },
  {
   "cell_type": "markdown",
   "id": "e070e7c8",
   "metadata": {},
   "source": [
    "### Learning Rate Dependency "
   ]
  },
  {
   "cell_type": "code",
   "execution_count": 10,
   "id": "a8937c11",
   "metadata": {},
   "outputs": [
    {
     "data": {
      "application/vnd.jupyter.widget-view+json": {
       "model_id": "049500ead2e04232b65fa5a5b73c37f9",
       "version_major": 2,
       "version_minor": 0
      },
      "text/plain": [
       "  0%|          | 0/20 [00:00<?, ?it/s]"
      ]
     },
     "metadata": {},
     "output_type": "display_data"
    },
    {
     "data": {
      "application/vnd.jupyter.widget-view+json": {
       "model_id": "116109ee5cb44a2f96f560d6a71a3845",
       "version_major": 2,
       "version_minor": 0
      },
      "text/plain": [
       "  0%|          | 0/20 [00:00<?, ?it/s]"
      ]
     },
     "metadata": {},
     "output_type": "display_data"
    }
   ],
   "source": [
    "minibatches = N\n",
    "max_epochs = 2000\n",
    "tol=None\n",
    "seed=42\n",
    "\n",
    "M = 20\n",
    "lrs = np.logspace(-5,np.log10(0.06),M)\n",
    "\n",
    "def compute_error(lr):\n",
    "    # Pipeline using our SGD implmentation\n",
    "    ols_sgd = Pipeline([Standardization(), \n",
    "                         OrdinaryLeastSquare(solver=\"sgd\", \n",
    "                                             learning_rate=lambda t, grad: lr,\n",
    "                                             max_epochs=max_epochs,\n",
    "                                             batches=minibatches,\n",
    "                                             seed=seed,\n",
    "                                             tol=tol)])\n",
    "\n",
    "    ols_sgd.fit(X,z)\n",
    "    \n",
    "    return relative_error_own(ols_pinv, ols_sgd)\n",
    "\n",
    "pool = multiprocess.Pool()\n",
    "result = tqdm(pool.imap(compute_error, lrs), total=M)\n",
    "error_to_analytical =  list(result)\n",
    "\n",
    "sk_error_to_analytical = np.empty(M)\n",
    "for i, lr in enumerate(tqdm(lrs)):    \n",
    "    # Pipeline using sklearn implementations\n",
    "    ols_sk =make_pipeline(StandardScaler(), SGDRegressor(penalty=None, \n",
    "                                                     learning_rate=\"constant\",\n",
    "                                                     eta0=lr,\n",
    "                                                     max_iter=max_epochs,\n",
    "                                                     shuffle=True,\n",
    "                                                     random_state=seed,\n",
    "                                                     tol=tol))\n",
    "    \n",
    "    ols_sk.fit(X,z)\n",
    "    sk_error_to_analytical[i] = relative_error_sk(ols_pinv, ols_sk)"
   ]
  },
  {
   "cell_type": "code",
   "execution_count": 11,
   "id": "f550260e",
   "metadata": {},
   "outputs": [
    {
     "data": {
      "image/png": "[encoded data removed]",
      "text/plain": [
       "<Figure size 432x288 with 1 Axes>"
      ]
     },
     "metadata": {
      "needs_background": "light"
     },
     "output_type": "display_data"
    }
   ],
   "source": [
    "fig, ax = plt.subplots()\n",
    "ax.set_xscale(\"log\")\n",
    "ax.set_xlabel(r\"learning rate  $\\gamma$\")\n",
    "ax.set_ylabel(r\"$\\frac{||\\hat{\\beta}^\\mathrm{SGD}_\\mathrm{OLS} - \\hat{\\beta}_\\mathrm{OLS}||_2}{||\\hat{\\beta}_\\mathrm{OLS}||_2}$\")\n",
    "ax.plot(lrs, error_to_analytical, label=r\"\\texttt{StochasticGradientDescent} (this work)\")\n",
    "ax.plot(lrs, sk_error_to_analytical, ls=\"dashed\", label=r\"\\texttt{SGDRegressor} (sklearn)\")\n",
    "ax.legend(*ax.get_legend_handles_labels())\n",
    "ax.set_xlim([1e-5,0.07])\n",
    "ax.set_ylim([0,1])\n",
    "plt.show()"
   ]
  },
  {
   "cell_type": "markdown",
   "id": "a66f4a22",
   "metadata": {},
   "source": [
    "### Dependence on the Number of Mini Batches"
   ]
  },
  {
   "cell_type": "code",
   "execution_count": 12,
   "id": "874ac3da",
   "metadata": {},
   "outputs": [
    {
     "data": {
      "application/vnd.jupyter.widget-view+json": {
       "model_id": "e38453374bb047498dea0c88ed038d09",
       "version_major": 2,
       "version_minor": 0
      },
      "text/plain": [
       "  0%|          | 0/21 [00:00<?, ?it/s]"
      ]
     },
     "metadata": {},
     "output_type": "display_data"
    }
   ],
   "source": [
    "minibatches = np.arange(0,N+1,100)\n",
    "minibatches[0] = 1\n",
    "max_epochs = 2000\n",
    "tol=None\n",
    "seed=42\n",
    "lr = 0.03\n",
    "\n",
    "def compute_error(batches):\n",
    "    ols_sgd = Pipeline([Standardization(), \n",
    "                         OrdinaryLeastSquare(solver=\"sgd\", \n",
    "                                             learning_rate=lambda t, grad: lr,\n",
    "                                             max_epochs=max_epochs,\n",
    "                                             batches=batches,\n",
    "                                             seed=seed,\n",
    "                                             tol=tol)])\n",
    "\n",
    "    ols_sgd.fit(X,z)\n",
    "    \n",
    "    return relative_error_own(ols_pinv, ols_sgd)\n",
    "\n",
    "M = minibatches.shape[0]\n",
    "pool = multiprocess.Pool()\n",
    "result = tqdm(pool.imap(compute_error, minibatches), total=M)\n",
    "error_to_analytical_minibatches = list(result)"
   ]
  },
  {
   "cell_type": "code",
   "execution_count": 13,
   "id": "18431186",
   "metadata": {},
   "outputs": [
    {
     "data": {
      "image/png": "[encoded data removed]",
      "text/plain": [
       "<Figure size 432x288 with 1 Axes>"
      ]
     },
     "metadata": {
      "needs_background": "light"
     },
     "output_type": "display_data"
    }
   ],
   "source": [
    "minibatches = np.arange(0,N+1,100)\n",
    "minibatches[0] = 1\n",
    "\n",
    "fig, ax = plt.subplots()\n",
    "ax.set_xlabel(r\"Mini Batches B\")\n",
    "ax.set_ylabel(r\"$\\frac{||\\hat{\\beta}^\\mathrm{SGD}_\\mathrm{OLS} - \\hat{\\beta}_\\mathrm{OLS}||_2}{||\\hat{\\beta}_\\mathrm{OLS}||_2}$\")\n",
    "ax.plot(minibatches, error_to_analytical_minibatches, label=r\"\\texttt{StochasticGradientDescent} (this work)\")\n",
    "ax.legend(*ax.get_legend_handles_labels())\n",
    "ax.set_ylim([0,1])\n",
    "plt.show()"
   ]
  },
  {
   "cell_type": "markdown",
   "id": "ff5a9807",
   "metadata": {},
   "source": [
    "### Dependence on the Number of Epochs"
   ]
  },
  {
   "cell_type": "code",
   "execution_count": 67,
   "id": "a3a429c0",
   "metadata": {},
   "outputs": [
    {
     "data": {
      "application/vnd.jupyter.widget-view+json": {
       "model_id": "019ff5d95b4f4cfaba29f41f61e9c819",
       "version_major": 2,
       "version_minor": 0
      },
      "text/plain": [
       "  0%|          | 0/120 [00:00<?, ?it/s]"
      ]
     },
     "metadata": {},
     "output_type": "display_data"
    }
   ],
   "source": [
    "minibatches = N//10\n",
    "max_epochs = np.arange(100,12000+100,100)\n",
    "tol=None\n",
    "seed=42\n",
    "lr = 0.03\n",
    "\n",
    "def compute_error(max_epoch):\n",
    "    ols_sgd = Pipeline([Standardization(), \n",
    "                         OrdinaryLeastSquare(solver=\"sgd\", \n",
    "                                             learning_rate=lambda t, grad: lr,\n",
    "                                             max_epochs=max_epoch,\n",
    "                                             batches=minibatches,\n",
    "                                             seed=seed,\n",
    "                                             tol=tol)])\n",
    "\n",
    "    ols_sgd.fit(X,z)\n",
    "    \n",
    "    return relative_error_own(ols_pinv, ols_sgd)\n",
    "\n",
    "M = max_epochs.shape[0]\n",
    "pool = multiprocess.Pool()\n",
    "result = tqdm(pool.imap(compute_error, max_epochs), total=M)\n",
    "error_to_analytical_epochs = list(result)"
   ]
  },
  {
   "cell_type": "code",
   "execution_count": 68,
   "id": "2cafd627",
   "metadata": {},
   "outputs": [
    {
     "data": {
      "image/png": "[encoded data removed]",
      "text/plain": [
       "<Figure size 432x288 with 1 Axes>"
      ]
     },
     "metadata": {
      "needs_background": "light"
     },
     "output_type": "display_data"
    }
   ],
   "source": [
    "fig, ax = plt.subplots()\n",
    "ax.set_xlabel(r\"epochs\")\n",
    "ax.set_ylabel(r\"$\\frac{||\\hat{\\beta}^\\mathrm{SGD}_\\mathrm{OLS} - \\hat{\\beta}_\\mathrm{OLS}||_2}{||\\hat{\\beta}_\\mathrm{OLS}||_2}$\")\n",
    "ax.plot(max_epochs, error_to_analytical_epochs, label=r\"\\texttt{StochasticGradientDescent} (this work)\")\n",
    "ax.legend(*ax.get_legend_handles_labels())\n",
    "ax.set_ylim([0,1])\n",
    "plt.show()"
   ]
  },
  {
   "cell_type": "markdown",
   "id": "b756d126",
   "metadata": {},
   "source": [
    "### Adaptive Learning Rate Schedule"
   ]
  },
  {
   "cell_type": "code",
   "execution_count": 62,
   "id": "979ffabf",
   "metadata": {},
   "outputs": [],
   "source": [
    "# Functors\n",
    "def constant(t, grad):\n",
    "    eta0 = 0.01 #1e-2\n",
    "    return eta0\n",
    "\n",
    "def invscaling(t, grad):\n",
    "    eta0 = 0.01 #1e-2\n",
    "    power_t = 0.125\n",
    "    return eta0/t**power_t\n",
    "\n",
    "# Generators\n",
    "def adagrad():\n",
    "    # initial learning rate\n",
    "    eta0 = 0.01#1e-2\n",
    "    # safe-guard against divergence\n",
    "    epsilon = 1e-8\n",
    "    g2_t = 0\n",
    "    while True:\n",
    "        gradient = yield\n",
    "        g2_t += gradient**2\n",
    "        yield eta0 / np.sqrt(epsilon + g2_t)\n",
    "    \n",
    "def rmsprop():\n",
    "    # initial learning rate\n",
    "    eta0 = 0.01#1e-3\n",
    "    # decay constant\n",
    "    beta=0.9 \n",
    "    # safe-guard against divergence\n",
    "    epsilon = 1e-8\n",
    "    # moving average of second moment of gradient\n",
    "    g2_t_avg = 0\n",
    "    \n",
    "    while True:\n",
    "        gradient = yield\n",
    "        g2_t_avg = beta*g2_t_avg + (1-beta)*gradient**2\n",
    "        yield eta0 / np.sqrt(epsilon + g2_t_avg)"
   ]
  },
  {
   "cell_type": "code",
   "execution_count": 65,
   "id": "ab11c86c",
   "metadata": {},
   "outputs": [
    {
     "data": {
      "application/vnd.jupyter.widget-view+json": {
       "model_id": "c0646adaa87e4175b39e6a40c4bb90a9",
       "version_major": 2,
       "version_minor": 0
      },
      "text/plain": [
       "  0%|          | 0/4 [00:00<?, ?it/s]"
      ]
     },
     "metadata": {},
     "output_type": "display_data"
    }
   ],
   "source": [
    "schedules = [constant, invscaling, adagrad(), rmsprop()]\n",
    "\n",
    "minibatches = N//5\n",
    "max_epochs = 5000\n",
    "tol=None\n",
    "seed=42\n",
    "\n",
    "M = len(schedules)\n",
    "error_to_analytical_schedules = np.empty(M)\n",
    "for i,schedule in enumerate(tqdm(schedules)):\n",
    "    ols_sgd = Pipeline([Standardization(), \n",
    "                         OrdinaryLeastSquare(solver=\"sgd\", \n",
    "                                             learning_rate=schedule,\n",
    "                                             max_epochs=max_epochs,\n",
    "                                             batches=minibatches,\n",
    "                                             seed=seed,\n",
    "                                             tol=tol)])\n",
    "\n",
    "    ols_sgd.fit(X,z)\n",
    "    error_to_analytical_schedules[i] = relative_error_own(ols_pinv, ols_sgd)"
   ]
  },
  {
   "cell_type": "code",
   "execution_count": 66,
   "id": "e2e928a3",
   "metadata": {},
   "outputs": [
    {
     "data": {
      "image/png": "[encoded data removed]",
      "text/plain": [
       "<Figure size 432x288 with 1 Axes>"
      ]
     },
     "metadata": {
      "needs_background": "light"
     },
     "output_type": "display_data"
    }
   ],
   "source": [
    "labels = [r\"\\texttt{constant}\",r\"\\texttt{invscaling}\",r\"\\texttt{adagrad}\",r\"\\texttt{rmsprop}\"]\n",
    "fig, ax = plt.subplots()\n",
    "ax.set_xlabel(r\"epochs\")\n",
    "ax.set_ylabel(r\"$\\frac{||\\hat{\\beta}^\\mathrm{SGD}_\\mathrm{OLS} - \\hat{\\beta}_\\mathrm{OLS}||_2}{||\\hat{\\beta}_\\mathrm{OLS}||_2}$\")\n",
    "ax.scatter(labels,error_to_analytical_schedules)\n",
    "plt.show()"
   ]
  },
  {
   "cell_type": "code",
   "execution_count": null,
   "id": "73e334b5",
   "metadata": {},
   "outputs": [],
   "source": []
  }
 ],
 "metadata": {
  "kernelspec": {
   "display_name": "Python 3 (ipykernel)",
   "language": "python",
   "name": "python3"
  },
  "language_info": {
   "codemirror_mode": {
    "name": "ipython",
    "version": 3
   },
   "file_extension": ".py",
   "mimetype": "text/x-python",
   "name": "python",
   "nbconvert_exporter": "python",
   "pygments_lexer": "ipython3",
   "version": "3.9.7"
  }
 },
 "nbformat": 4,
 "nbformat_minor": 5
}
