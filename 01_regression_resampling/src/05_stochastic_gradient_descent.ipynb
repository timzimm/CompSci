{
 "cells": [
  {
   "cell_type": "code",
   "execution_count": null,
   "id": "979ffabf",
   "metadata": {},
   "outputs": [],
   "source": [
    "def adagrad():\n",
    "    # initial learning rate\n",
    "    eta0 = 1e-2\n",
    "    # safe-guard against divergence\n",
    "    epsilon = 1e-8\n",
    "    g2_t = 0\n",
    "    while True:\n",
    "        gradient = yield\n",
    "        g2_t += gradient**2\n",
    "        yield eta0 / np.sqrt(epsilon + g2_t)\n",
    "    \n",
    "def rmsprop():\n",
    "    # initial learning rate\n",
    "    eta0 = 1e-3\n",
    "    # decay constant\n",
    "    beta=0.9 \n",
    "    # safe-guard against divergence\n",
    "    epsilon = 1e-8\n",
    "    # moving average of second moment of gradient\n",
    "    g2_t_avg = 0\n",
    "    \n",
    "    while True:\n",
    "        gradient = yield\n",
    "        g2_t_avg = beta*g2_t_avg + (1-beta)*gradient**2\n",
    "        yield eta0 / np.sqrt(epsilon + g2_t_avg)\n",
    "        \n",
    "def adam():\n",
    "    # initial learning rate\n",
    "    eta0 = 1e-3\n",
    "    # decay constant for first moment\n",
    "    beta1=0.9 \n",
    "    # decay constant for second moment \n",
    "    beta2=0.999\n",
    "    # safe-guard against divergence\n",
    "    epsilon = 1e-8\n",
    "    # moving average of second moment of gradient\n",
    "    g2_t_avg = 0\n",
    "    # moving average of first moment of gradient\n",
    "    g_t_avg = 0\n",
    "    \n",
    "    while True:\n",
    "        gradient = yield\n",
    "        g_t_avg = beta1*g_t_avg + (1-beta1)*gradient\n",
    "        g2_t_avg = beta2*g2_t_avg + (1-beta2)*gradient**2\n",
    "        \n",
    "        g_t_avg_corr = g_t_avg/(1-beta1**2)\n",
    "        g2_t_avg_corr = g2_t_avg/(1-beta2**2)\n",
    "        # divide out gradient to conform with structure of standard SGD update (see SVD class defintion)\n",
    "        yield eta0 / (epsilon + np.sqrt(g2_t_avg_corr) + gradient) * g_t_avg"
   ]
  },
  {
   "cell_type": "code",
   "execution_count": null,
   "id": "238bfe1a",
   "metadata": {},
   "outputs": [],
   "source": [
    "X = np.c_[np.ones((m,1)), x]\n",
    "X_scaled = np.c_[np.ones((m,1)), x_scaled]\n",
    "sgd_own = StochasticGradientDescent(batches=5, \n",
    "                                    verbose=True, \n",
    "                                    tol=1e-4, \n",
    "                                    momentum=0.6,\n",
    "                                    early_stopping=True, \n",
    "                                    validation_fraction=0.2)\n",
    "sgd_own.fit(X,y.ravel())\n",
    "print(sgd_own.params)\n",
    "print(sgd_own.score(X,y.ravel()))"
   ]
  }
 ],
 "metadata": {
  "kernelspec": {
   "display_name": "Python 3 (ipykernel)",
   "language": "python",
   "name": "python3"
  },
  "language_info": {
   "codemirror_mode": {
    "name": "ipython",
    "version": 3
   },
   "file_extension": ".py",
   "mimetype": "text/x-python",
   "name": "python",
   "nbconvert_exporter": "python",
   "pygments_lexer": "ipython3",
   "version": "3.9.7"
  }
 },
 "nbformat": 4,
 "nbformat_minor": 5
}
